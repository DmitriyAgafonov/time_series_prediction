{
 "cells": [
  {
   "cell_type": "code",
   "execution_count": 1,
   "metadata": {},
   "outputs": [],
   "source": [
    "import pandas as pd\n",
    "\n",
    "import os\n",
    "\n",
    "import sys\n",
    "import warnings\n",
    "warnings.filterwarnings('ignore')\n",
    "\n",
    "import numpy as np\n",
    "\n",
    "import plotly \n",
    "from plotly.offline import download_plotlyjs, init_notebook_mode, plot, iplot\n",
    "import plotly.graph_objs as go\n"
   ]
  },
  {
   "cell_type": "code",
   "execution_count": 2,
   "metadata": {},
   "outputs": [],
   "source": [
    "def get_files(): \n",
    "    \n",
    "    path = r'data'\n",
    "\n",
    "    csv_files = [f for f in os.listdir(path) if f.endswith('.csv')]\n",
    "    return csv_files"
   ]
  },
  {
   "cell_type": "code",
   "execution_count": 3,
   "metadata": {},
   "outputs": [
    {
     "data": {
      "text/plain": [
       "['171.csv',\n",
       " '175.csv',\n",
       " '176.csv',\n",
       " '177.csv',\n",
       " '179.csv',\n",
       " '181.csv',\n",
       " '182.csv',\n",
       " '184.csv',\n",
       " '185.csv',\n",
       " '187.csv',\n",
       " '188.csv',\n",
       " '189.csv',\n",
       " '190.csv',\n",
       " '193.csv',\n",
       " '194.csv',\n",
       " '199.csv',\n",
       " '200.csv',\n",
       " '202.csv',\n",
       " '203.csv',\n",
       " '205.csv',\n",
       " '206.csv',\n",
       " 'final_data.csv']"
      ]
     },
     "execution_count": 3,
     "metadata": {},
     "output_type": "execute_result"
    }
   ],
   "source": [
    "get_files()"
   ]
  },
  {
   "cell_type": "code",
   "execution_count": 4,
   "metadata": {},
   "outputs": [],
   "source": [
    "def create_df(time): \n",
    "    df = pd.read_csv(r'data\\171.csv')\n",
    "    df = df[['TIME']+['PITCH']+['YAW']+['ROLL']]\n",
    "    files = get_files()\n",
    "    for i in files[1:len(files)+1]:\n",
    "        print(i)\n",
    "        df_ = pd.read_csv(r'data\\{}'.format(i))\n",
    "        df_ = df_[['TIME']+['PITCH']+['YAW']+['ROLL']]\n",
    "        df = pd.concat([df, df_])\n",
    "    ms = np.linspace(0, time*1000, df.shape[0])\n",
    "    df['TIME'] = ms\n",
    "    df['TIME'] = pd.to_datetime(df['TIME'], unit='ms').dt.time #float to time\n",
    "    df['TIME'] = df['TIME'].apply(lambda t: t.strftime('%S:%f')) #\"%H:%M:%S.%f\"\n",
    "    print('Ready!')\n",
    "    \n",
    "    return df.reset_index(drop=True)"
   ]
  },
  {
   "cell_type": "code",
   "execution_count": 5,
   "metadata": {},
   "outputs": [
    {
     "name": "stdout",
     "output_type": "stream",
     "text": [
      "175.csv\n",
      "176.csv\n",
      "177.csv\n",
      "179.csv\n",
      "181.csv\n",
      "182.csv\n",
      "184.csv\n",
      "185.csv\n",
      "187.csv\n",
      "188.csv\n",
      "189.csv\n",
      "190.csv\n",
      "193.csv\n",
      "194.csv\n",
      "199.csv\n",
      "200.csv\n",
      "202.csv\n",
      "203.csv\n",
      "205.csv\n",
      "206.csv\n",
      "final_data.csv\n",
      "Ready!\n"
     ]
    }
   ],
   "source": [
    "df = create_df(10)  #in seconds"
   ]
  },
  {
   "cell_type": "code",
   "execution_count": 6,
   "metadata": {},
   "outputs": [
    {
     "data": {
      "text/html": [
       "<div>\n",
       "<style scoped>\n",
       "    .dataframe tbody tr th:only-of-type {\n",
       "        vertical-align: middle;\n",
       "    }\n",
       "\n",
       "    .dataframe tbody tr th {\n",
       "        vertical-align: top;\n",
       "    }\n",
       "\n",
       "    .dataframe thead th {\n",
       "        text-align: right;\n",
       "    }\n",
       "</style>\n",
       "<table border=\"1\" class=\"dataframe\">\n",
       "  <thead>\n",
       "    <tr style=\"text-align: right;\">\n",
       "      <th></th>\n",
       "      <th>TIME</th>\n",
       "      <th>PITCH</th>\n",
       "      <th>YAW</th>\n",
       "      <th>ROLL</th>\n",
       "    </tr>\n",
       "  </thead>\n",
       "  <tbody>\n",
       "    <tr>\n",
       "      <th>0</th>\n",
       "      <td>00:000000</td>\n",
       "      <td>-0.0571</td>\n",
       "      <td>0.0022</td>\n",
       "      <td>0.0269</td>\n",
       "    </tr>\n",
       "    <tr>\n",
       "      <th>1</th>\n",
       "      <td>00:000033</td>\n",
       "      <td>-0.0509</td>\n",
       "      <td>-0.0291</td>\n",
       "      <td>0.0193</td>\n",
       "    </tr>\n",
       "    <tr>\n",
       "      <th>2</th>\n",
       "      <td>00:000066</td>\n",
       "      <td>-0.0423</td>\n",
       "      <td>-0.0551</td>\n",
       "      <td>0.0166</td>\n",
       "    </tr>\n",
       "    <tr>\n",
       "      <th>3</th>\n",
       "      <td>00:000099</td>\n",
       "      <td>-0.0272</td>\n",
       "      <td>-0.0394</td>\n",
       "      <td>0.0224</td>\n",
       "    </tr>\n",
       "    <tr>\n",
       "      <th>4</th>\n",
       "      <td>00:000133</td>\n",
       "      <td>-0.0318</td>\n",
       "      <td>-0.0338</td>\n",
       "      <td>0.0306</td>\n",
       "    </tr>\n",
       "    <tr>\n",
       "      <th>...</th>\n",
       "      <td>...</td>\n",
       "      <td>...</td>\n",
       "      <td>...</td>\n",
       "      <td>...</td>\n",
       "    </tr>\n",
       "    <tr>\n",
       "      <th>300163</th>\n",
       "      <td>09:999866</td>\n",
       "      <td>0.1730</td>\n",
       "      <td>0.1320</td>\n",
       "      <td>0.0462</td>\n",
       "    </tr>\n",
       "    <tr>\n",
       "      <th>300164</th>\n",
       "      <td>09:999900</td>\n",
       "      <td>0.1599</td>\n",
       "      <td>0.1253</td>\n",
       "      <td>0.0423</td>\n",
       "    </tr>\n",
       "    <tr>\n",
       "      <th>300165</th>\n",
       "      <td>09:999933</td>\n",
       "      <td>0.1611</td>\n",
       "      <td>0.1293</td>\n",
       "      <td>0.0444</td>\n",
       "    </tr>\n",
       "    <tr>\n",
       "      <th>300166</th>\n",
       "      <td>09:999966</td>\n",
       "      <td>0.1720</td>\n",
       "      <td>0.1293</td>\n",
       "      <td>0.0438</td>\n",
       "    </tr>\n",
       "    <tr>\n",
       "      <th>300167</th>\n",
       "      <td>10:000000</td>\n",
       "      <td>0.1632</td>\n",
       "      <td>0.1283</td>\n",
       "      <td>0.0425</td>\n",
       "    </tr>\n",
       "  </tbody>\n",
       "</table>\n",
       "<p>300168 rows × 4 columns</p>\n",
       "</div>"
      ],
      "text/plain": [
       "             TIME   PITCH     YAW    ROLL\n",
       "0       00:000000 -0.0571  0.0022  0.0269\n",
       "1       00:000033 -0.0509 -0.0291  0.0193\n",
       "2       00:000066 -0.0423 -0.0551  0.0166\n",
       "3       00:000099 -0.0272 -0.0394  0.0224\n",
       "4       00:000133 -0.0318 -0.0338  0.0306\n",
       "...           ...     ...     ...     ...\n",
       "300163  09:999866  0.1730  0.1320  0.0462\n",
       "300164  09:999900  0.1599  0.1253  0.0423\n",
       "300165  09:999933  0.1611  0.1293  0.0444\n",
       "300166  09:999966  0.1720  0.1293  0.0438\n",
       "300167  10:000000  0.1632  0.1283  0.0425\n",
       "\n",
       "[300168 rows x 4 columns]"
      ]
     },
     "execution_count": 6,
     "metadata": {},
     "output_type": "execute_result"
    }
   ],
   "source": [
    "df"
   ]
  },
  {
   "cell_type": "code",
   "execution_count": null,
   "metadata": {},
   "outputs": [],
   "source": [
    "def plt(frame):\n",
    "    \n",
    "    trace0 = go.Scatter(\n",
    "            x = frame['TIME'], y = frame['PITCH'], name='PITCH'\n",
    "            )\n",
    "    \n",
    "    trace1 = go.Scatter(\n",
    "            x = frame['TIME'], y = frame['YAW'], name = 'YAW'\n",
    "            )\n",
    "    \n",
    "    trace2 = go.Scatter(\n",
    "            x = frame['TIME'], y = frame['ROLL'], name = 'ROLL'\n",
    "            )\n",
    "    \n",
    "   \n",
    "    data = [trace0, trace1,  trace2, ]\n",
    "    layout = {'title': 'Data'}\n",
    "\n",
    "    fig = go.Figure(data=data, layout=layout)\n",
    "    iplot(fig)"
   ]
  },
  {
   "cell_type": "code",
   "execution_count": null,
   "metadata": {},
   "outputs": [],
   "source": [
    "plt(df.iloc[:6000, :])"
   ]
  },
  {
   "cell_type": "code",
   "execution_count": 7,
   "metadata": {},
   "outputs": [],
   "source": [
    "df.to_csv(r'data\\final_data.csv', index=False)"
   ]
  },
  {
   "cell_type": "code",
   "execution_count": null,
   "metadata": {},
   "outputs": [],
   "source": []
  }
 ],
 "metadata": {
  "kernelspec": {
   "display_name": "Python 3",
   "language": "python",
   "name": "python3"
  },
  "language_info": {
   "codemirror_mode": {
    "name": "ipython",
    "version": 3
   },
   "file_extension": ".py",
   "mimetype": "text/x-python",
   "name": "python",
   "nbconvert_exporter": "python",
   "pygments_lexer": "ipython3",
   "version": "3.7.9"
  }
 },
 "nbformat": 4,
 "nbformat_minor": 4
}
