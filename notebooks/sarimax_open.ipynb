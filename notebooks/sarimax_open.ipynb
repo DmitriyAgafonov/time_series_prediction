{
 "cells": [
  {
   "cell_type": "code",
   "execution_count": 16,
   "metadata": {},
   "outputs": [],
   "source": [
    "import pandas as pd\n",
    "import numpy as np\n",
    "\n",
    "import warnings\n",
    "warnings.filterwarnings('ignore')\n",
    "\n",
    "from sklearn.metrics import mean_squared_error as mse\n",
    "from statsmodels.tsa.statespace.sarimax import SARIMAX\n",
    "\n",
    "import matplotlib.pyplot as plt\n",
    "import plotly.graph_objs as go\n",
    "\n",
    "from pylab import rcParams\n",
    "rcParams['figure.figsize'] = 15, 11\n",
    "    "
   ]
  },
  {
   "cell_type": "code",
   "execution_count": null,
   "metadata": {},
   "outputs": [],
   "source": [
    "import pickle\n",
    "\n",
    "with open('learned_model.pkl', 'rb') as f:\n",
    "    model = pickle.load(f)"
   ]
  },
  {
   "cell_type": "code",
   "execution_count": null,
   "metadata": {},
   "outputs": [],
   "source": []
  },
  {
   "cell_type": "code",
   "execution_count": 6,
   "metadata": {},
   "outputs": [],
   "source": [
    "df = pd.read_csv(r'data\\final_data_predict.csv', index_col=0)\n",
    "df1 = df['BEER_PROD'].to_frame()\n",
    "df_train, df_test = df1.iloc[:round(len(df1)*0.9), :], df1.iloc[round(len(df1)*0.9): , :]"
   ]
  },
  {
   "cell_type": "code",
   "execution_count": 10,
   "metadata": {},
   "outputs": [
    {
     "data": {
      "text/html": [
       "<table class=\"simpletable\">\n",
       "<caption>SARIMAX Results</caption>\n",
       "<tr>\n",
       "  <th>Dep. Variable:</th>               <td>BEER_PROD</td>            <th>  No. Observations:  </th>    <td>357</td>   \n",
       "</tr>\n",
       "<tr>\n",
       "  <th>Model:</th>           <td>SARIMAX(3, 1, 12)x(0, 1, [], 12)</td> <th>  Log Likelihood     </th> <td>-1267.007</td>\n",
       "</tr>\n",
       "<tr>\n",
       "  <th>Date:</th>                    <td>Sun, 20 Dec 2020</td>         <th>  AIC                </th> <td>2566.015</td> \n",
       "</tr>\n",
       "<tr>\n",
       "  <th>Time:</th>                        <td>19:48:41</td>             <th>  BIC                </th> <td>2627.465</td> \n",
       "</tr>\n",
       "<tr>\n",
       "  <th>Sample:</th>                     <td>01-01-1985</td>            <th>  HQIC               </th> <td>2590.490</td> \n",
       "</tr>\n",
       "<tr>\n",
       "  <th></th>                           <td>- 09-01-2014</td>           <th>                     </th>     <td> </td>    \n",
       "</tr>\n",
       "<tr>\n",
       "  <th>Covariance Type:</th>                <td>opg</td>               <th>                     </th>     <td> </td>    \n",
       "</tr>\n",
       "</table>\n",
       "<table class=\"simpletable\">\n",
       "<tr>\n",
       "     <td></td>       <th>coef</th>     <th>std err</th>      <th>z</th>      <th>P>|z|</th>  <th>[0.025</th>    <th>0.975]</th>  \n",
       "</tr>\n",
       "<tr>\n",
       "  <th>ar.L1</th>  <td>   -0.8472</td> <td>    0.075</td> <td>  -11.335</td> <td> 0.000</td> <td>   -0.994</td> <td>   -0.701</td>\n",
       "</tr>\n",
       "<tr>\n",
       "  <th>ar.L2</th>  <td>   -0.7473</td> <td>    0.088</td> <td>   -8.481</td> <td> 0.000</td> <td>   -0.920</td> <td>   -0.575</td>\n",
       "</tr>\n",
       "<tr>\n",
       "  <th>ar.L3</th>  <td>   -0.3591</td> <td>    0.077</td> <td>   -4.679</td> <td> 0.000</td> <td>   -0.509</td> <td>   -0.209</td>\n",
       "</tr>\n",
       "<tr>\n",
       "  <th>ma.L1</th>  <td>   -0.0622</td> <td>    0.072</td> <td>   -0.867</td> <td> 0.386</td> <td>   -0.203</td> <td>    0.078</td>\n",
       "</tr>\n",
       "<tr>\n",
       "  <th>ma.L2</th>  <td>   -0.1097</td> <td>    0.059</td> <td>   -1.869</td> <td> 0.062</td> <td>   -0.225</td> <td>    0.005</td>\n",
       "</tr>\n",
       "<tr>\n",
       "  <th>ma.L3</th>  <td>   -0.3047</td> <td>    0.054</td> <td>   -5.675</td> <td> 0.000</td> <td>   -0.410</td> <td>   -0.199</td>\n",
       "</tr>\n",
       "<tr>\n",
       "  <th>ma.L4</th>  <td>   -0.3949</td> <td>    0.072</td> <td>   -5.489</td> <td> 0.000</td> <td>   -0.536</td> <td>   -0.254</td>\n",
       "</tr>\n",
       "<tr>\n",
       "  <th>ma.L5</th>  <td>    0.1023</td> <td>    0.051</td> <td>    2.021</td> <td> 0.043</td> <td>    0.003</td> <td>    0.201</td>\n",
       "</tr>\n",
       "<tr>\n",
       "  <th>ma.L6</th>  <td>    0.1428</td> <td>    0.051</td> <td>    2.775</td> <td> 0.006</td> <td>    0.042</td> <td>    0.244</td>\n",
       "</tr>\n",
       "<tr>\n",
       "  <th>ma.L7</th>  <td>   -0.0880</td> <td>    0.052</td> <td>   -1.684</td> <td> 0.092</td> <td>   -0.190</td> <td>    0.014</td>\n",
       "</tr>\n",
       "<tr>\n",
       "  <th>ma.L8</th>  <td>    0.0669</td> <td>    0.047</td> <td>    1.428</td> <td> 0.153</td> <td>   -0.025</td> <td>    0.159</td>\n",
       "</tr>\n",
       "<tr>\n",
       "  <th>ma.L9</th>  <td>    0.0545</td> <td>    0.049</td> <td>    1.110</td> <td> 0.267</td> <td>   -0.042</td> <td>    0.151</td>\n",
       "</tr>\n",
       "<tr>\n",
       "  <th>ma.L10</th> <td>   -0.0031</td> <td>    0.053</td> <td>   -0.059</td> <td> 0.953</td> <td>   -0.106</td> <td>    0.100</td>\n",
       "</tr>\n",
       "<tr>\n",
       "  <th>ma.L11</th> <td>    0.2943</td> <td>    0.042</td> <td>    7.030</td> <td> 0.000</td> <td>    0.212</td> <td>    0.376</td>\n",
       "</tr>\n",
       "<tr>\n",
       "  <th>ma.L12</th> <td>   -0.6436</td> <td>    0.057</td> <td>  -11.304</td> <td> 0.000</td> <td>   -0.755</td> <td>   -0.532</td>\n",
       "</tr>\n",
       "<tr>\n",
       "  <th>sigma2</th> <td>   87.2919</td> <td>    5.676</td> <td>   15.380</td> <td> 0.000</td> <td>   76.168</td> <td>   98.416</td>\n",
       "</tr>\n",
       "</table>\n",
       "<table class=\"simpletable\">\n",
       "<tr>\n",
       "  <th>Ljung-Box (L1) (Q):</th>     <td>0.36</td> <th>  Jarque-Bera (JB):  </th> <td>61.42</td>\n",
       "</tr>\n",
       "<tr>\n",
       "  <th>Prob(Q):</th>                <td>0.55</td> <th>  Prob(JB):          </th> <td>0.00</td> \n",
       "</tr>\n",
       "<tr>\n",
       "  <th>Heteroskedasticity (H):</th> <td>5.29</td> <th>  Skew:              </th> <td>-0.48</td>\n",
       "</tr>\n",
       "<tr>\n",
       "  <th>Prob(H) (two-sided):</th>    <td>0.00</td> <th>  Kurtosis:          </th> <td>4.84</td> \n",
       "</tr>\n",
       "</table><br/><br/>Warnings:<br/>[1] Covariance matrix calculated using the outer product of gradients (complex-step)."
      ],
      "text/plain": [
       "<class 'statsmodels.iolib.summary.Summary'>\n",
       "\"\"\"\n",
       "                                      SARIMAX Results                                       \n",
       "============================================================================================\n",
       "Dep. Variable:                            BEER_PROD   No. Observations:                  357\n",
       "Model:             SARIMAX(3, 1, 12)x(0, 1, [], 12)   Log Likelihood               -1267.007\n",
       "Date:                              Sun, 20 Dec 2020   AIC                           2566.015\n",
       "Time:                                      19:48:41   BIC                           2627.465\n",
       "Sample:                                  01-01-1985   HQIC                          2590.490\n",
       "                                       - 09-01-2014                                         \n",
       "Covariance Type:                                opg                                         \n",
       "==============================================================================\n",
       "                 coef    std err          z      P>|z|      [0.025      0.975]\n",
       "------------------------------------------------------------------------------\n",
       "ar.L1         -0.8472      0.075    -11.335      0.000      -0.994      -0.701\n",
       "ar.L2         -0.7473      0.088     -8.481      0.000      -0.920      -0.575\n",
       "ar.L3         -0.3591      0.077     -4.679      0.000      -0.509      -0.209\n",
       "ma.L1         -0.0622      0.072     -0.867      0.386      -0.203       0.078\n",
       "ma.L2         -0.1097      0.059     -1.869      0.062      -0.225       0.005\n",
       "ma.L3         -0.3047      0.054     -5.675      0.000      -0.410      -0.199\n",
       "ma.L4         -0.3949      0.072     -5.489      0.000      -0.536      -0.254\n",
       "ma.L5          0.1023      0.051      2.021      0.043       0.003       0.201\n",
       "ma.L6          0.1428      0.051      2.775      0.006       0.042       0.244\n",
       "ma.L7         -0.0880      0.052     -1.684      0.092      -0.190       0.014\n",
       "ma.L8          0.0669      0.047      1.428      0.153      -0.025       0.159\n",
       "ma.L9          0.0545      0.049      1.110      0.267      -0.042       0.151\n",
       "ma.L10        -0.0031      0.053     -0.059      0.953      -0.106       0.100\n",
       "ma.L11         0.2943      0.042      7.030      0.000       0.212       0.376\n",
       "ma.L12        -0.6436      0.057    -11.304      0.000      -0.755      -0.532\n",
       "sigma2        87.2919      5.676     15.380      0.000      76.168      98.416\n",
       "===================================================================================\n",
       "Ljung-Box (L1) (Q):                   0.36   Jarque-Bera (JB):                61.42\n",
       "Prob(Q):                              0.55   Prob(JB):                         0.00\n",
       "Heteroskedasticity (H):               5.29   Skew:                            -0.48\n",
       "Prob(H) (two-sided):                  0.00   Kurtosis:                         4.84\n",
       "===================================================================================\n",
       "\n",
       "Warnings:\n",
       "[1] Covariance matrix calculated using the outer product of gradients (complex-step).\n",
       "\"\"\""
      ]
     },
     "execution_count": 10,
     "metadata": {},
     "output_type": "execute_result"
    }
   ],
   "source": [
    "model.summary()"
   ]
  },
  {
   "cell_type": "code",
   "execution_count": 9,
   "metadata": {},
   "outputs": [
    {
     "data": {
      "image/png": "[encoded data removed]",
      "text/plain": [
       "<Figure size 1080x792 with 4 Axes>"
      ]
     },
     "execution_count": 9,
     "metadata": {},
     "output_type": "execute_result"
    },
    {
     "data": {
      "image/png": "[encoded data removed]",
      "text/plain": [
       "<Figure size 1080x792 with 4 Axes>"
      ]
     },
     "metadata": {
      "needs_background": "light"
     },
     "output_type": "display_data"
    }
   ],
   "source": [
    "model.plot_diagnostics()"
   ]
  },
  {
   "cell_type": "code",
   "execution_count": 11,
   "metadata": {},
   "outputs": [
    {
     "data": {
      "text/html": [
       "<div>\n",
       "<style scoped>\n",
       "    .dataframe tbody tr th:only-of-type {\n",
       "        vertical-align: middle;\n",
       "    }\n",
       "\n",
       "    .dataframe tbody tr th {\n",
       "        vertical-align: top;\n",
       "    }\n",
       "\n",
       "    .dataframe thead th {\n",
       "        text-align: right;\n",
       "    }\n",
       "</style>\n",
       "<table border=\"1\" class=\"dataframe\">\n",
       "  <thead>\n",
       "    <tr style=\"text-align: right;\">\n",
       "      <th></th>\n",
       "      <th>BEER_PROD</th>\n",
       "      <th>sarima_fitted</th>\n",
       "    </tr>\n",
       "    <tr>\n",
       "      <th>DATE</th>\n",
       "      <th></th>\n",
       "      <th></th>\n",
       "    </tr>\n",
       "  </thead>\n",
       "  <tbody>\n",
       "    <tr>\n",
       "      <th>1985-01-01</th>\n",
       "      <td>93.2</td>\n",
       "      <td>0.000000</td>\n",
       "    </tr>\n",
       "    <tr>\n",
       "      <th>1985-02-01</th>\n",
       "      <td>96.0</td>\n",
       "      <td>93.193659</td>\n",
       "    </tr>\n",
       "    <tr>\n",
       "      <th>1985-03-01</th>\n",
       "      <td>95.2</td>\n",
       "      <td>95.998959</td>\n",
       "    </tr>\n",
       "    <tr>\n",
       "      <th>1985-04-01</th>\n",
       "      <td>77.1</td>\n",
       "      <td>95.201213</td>\n",
       "    </tr>\n",
       "    <tr>\n",
       "      <th>1985-05-01</th>\n",
       "      <td>70.9</td>\n",
       "      <td>77.101636</td>\n",
       "    </tr>\n",
       "    <tr>\n",
       "      <th>...</th>\n",
       "      <td>...</td>\n",
       "      <td>...</td>\n",
       "    </tr>\n",
       "    <tr>\n",
       "      <th>2014-05-01</th>\n",
       "      <td>144.7</td>\n",
       "      <td>143.515266</td>\n",
       "    </tr>\n",
       "    <tr>\n",
       "      <th>2014-06-01</th>\n",
       "      <td>123.6</td>\n",
       "      <td>125.270948</td>\n",
       "    </tr>\n",
       "    <tr>\n",
       "      <th>2014-07-01</th>\n",
       "      <td>151.6</td>\n",
       "      <td>136.137571</td>\n",
       "    </tr>\n",
       "    <tr>\n",
       "      <th>2014-08-01</th>\n",
       "      <td>133.9</td>\n",
       "      <td>147.853455</td>\n",
       "    </tr>\n",
       "    <tr>\n",
       "      <th>2014-09-01</th>\n",
       "      <td>137.4</td>\n",
       "      <td>140.806634</td>\n",
       "    </tr>\n",
       "  </tbody>\n",
       "</table>\n",
       "<p>357 rows × 2 columns</p>\n",
       "</div>"
      ],
      "text/plain": [
       "            BEER_PROD  sarima_fitted\n",
       "DATE                                \n",
       "1985-01-01       93.2       0.000000\n",
       "1985-02-01       96.0      93.193659\n",
       "1985-03-01       95.2      95.998959\n",
       "1985-04-01       77.1      95.201213\n",
       "1985-05-01       70.9      77.101636\n",
       "...               ...            ...\n",
       "2014-05-01      144.7     143.515266\n",
       "2014-06-01      123.6     125.270948\n",
       "2014-07-01      151.6     136.137571\n",
       "2014-08-01      133.9     147.853455\n",
       "2014-09-01      137.4     140.806634\n",
       "\n",
       "[357 rows x 2 columns]"
      ]
     },
     "execution_count": 11,
     "metadata": {},
     "output_type": "execute_result"
    }
   ],
   "source": [
    "df_train['sarima_fitted'] = model.fittedvalues\n",
    "df_train"
   ]
  },
  {
   "cell_type": "code",
   "execution_count": 12,
   "metadata": {
    "scrolled": true
   },
   "outputs": [
    {
     "data": {
      "text/plain": [
       "2014-10-01    167.224378\n",
       "2014-11-01    185.216396\n",
       "2014-12-01    204.065768\n",
       "2015-01-01    165.916031\n",
       "2015-02-01    141.013190\n",
       "2015-03-01    156.687278\n",
       "2015-04-01    150.073225\n",
       "2015-05-01    139.514804\n",
       "2015-06-01    128.842480\n",
       "2015-07-01    142.312654\n",
       "2015-08-01    139.595932\n",
       "2015-09-01    139.705230\n",
       "2015-10-01    166.422495\n",
       "2015-11-01    184.200762\n",
       "2015-12-01    206.770653\n",
       "2016-01-01    166.744232\n",
       "2016-02-01    140.727767\n",
       "2016-03-01    157.411857\n",
       "2016-04-01    151.448178\n",
       "2016-05-01    139.983845\n",
       "2016-06-01    129.230343\n",
       "2016-07-01    143.212749\n",
       "2016-08-01    140.448003\n",
       "2016-09-01    140.244347\n",
       "2016-10-01    167.078714\n",
       "2016-11-01    185.008884\n",
       "2016-12-01    207.474942\n",
       "2017-01-01    167.380926\n",
       "2017-02-01    141.444779\n",
       "2017-03-01    158.148619\n",
       "2017-04-01    152.132457\n",
       "2017-05-01    140.668990\n",
       "2017-06-01    129.946883\n",
       "2017-07-01    143.920889\n",
       "2017-08-01    141.139488\n",
       "2017-09-01    140.944946\n",
       "2017-10-01    167.787054\n",
       "2017-11-01    185.709835\n",
       "2017-12-01    208.173096\n",
       "2018-01-01    168.084192\n",
       "Freq: MS, Name: predicted_mean, dtype: float64"
      ]
     },
     "execution_count": 12,
     "metadata": {},
     "output_type": "execute_result"
    }
   ],
   "source": [
    "pred = model.predict(start =df_test.index[0], end = df_test.index[-1])\n",
    "pred"
   ]
  },
  {
   "cell_type": "code",
   "execution_count": 13,
   "metadata": {},
   "outputs": [
    {
     "data": {
      "image/png": "[encoded data removed]",
      "text/plain": [
       "<Figure size 1080x792 with 1 Axes>"
      ]
     },
     "metadata": {
      "needs_background": "light"
     },
     "output_type": "display_data"
    }
   ],
   "source": [
    "plt.plot(df_train.index, df_train['BEER_PROD'], label='train')\n",
    "\n",
    "plt.plot(df_train.index, df_train['sarima_fitted'], label='fitted')\n",
    "plt.plot(df_test.index, df_test['BEER_PROD'], label='test')\n",
    "plt.plot(df_test.index, pred, label='predict')\n",
    "plt.legend(loc=\"upper left\")\n",
    "plt.show()"
   ]
  },
  {
   "cell_type": "code",
   "execution_count": 14,
   "metadata": {},
   "outputs": [
    {
     "data": {
      "text/plain": [
       "12.806818667893447"
      ]
     },
     "execution_count": 14,
     "metadata": {},
     "output_type": "execute_result"
    }
   ],
   "source": [
    "np.sqrt(mse(pred.values, df_test['BEER_PROD']))  "
   ]
  },
  {
   "cell_type": "code",
   "execution_count": null,
   "metadata": {},
   "outputs": [],
   "source": []
  },
  {
   "cell_type": "code",
   "execution_count": 31,
   "metadata": {},
   "outputs": [
    {
     "data": {
      "application/vnd.plotly.v1+json": {
       "config": {
        "plotlyServerURL": "https://plot.ly"
       },
       "data": [
        {
         "marker": {
          "color": "blue"
         },
         "name": "train part",
         "type": "scatter",
         "x": [
          "1985-01-01",
          "1985-02-01",
          "1985-03-01",
          "1985-04-01",
          "1985-05-01",
          "1985-06-01",
          "1985-07-01",
          "1985-08-01",
          "1985-09-01",
          "1985-10-01",
          "1985-11-01",
          "1985-12-01",
          "1986-01-01",
          "1986-02-01",
          "1986-03-01",
          "1986-04-01",
          "1986-05-01",
          "1986-06-01",
          "1986-07-01",
          "1986-08-01",
          "1986-09-01",
          "1986-10-01",
          "1986-11-01",
          "1986-12-01",
          "1987-01-01",
          "1987-02-01",
          "1987-03-01",
          "1987-04-01",
          "1987-05-01",
          "1987-06-01",
          "1987-07-01",
          "1987-08-01",
          "1987-09-01",
          "1987-10-01",
          "1987-11-01",
          "1987-12-01",
          "1988-01-01",
          "1988-02-01",
          "1988-03-01",
          "1988-04-01",
          "1988-05-01",
          "1988-06-01",
          "1988-07-01",
          "1988-08-01",
          "1988-09-01",
          "1988-10-01",
          "1988-11-01",
          "1988-12-01",
          "1989-01-01",
          "1989-02-01",
          "1989-03-01",
          "1989-04-01",
          "1989-05-01",
          "1989-06-01",
          "1989-07-01",
          "1989-08-01",
          "1989-09-01",
          "1989-10-01",
          "1989-11-01",
          "1989-12-01",
          "1990-01-01",
          "1990-02-01",
          "1990-03-01",
          "1990-04-01",
          "1990-05-01",
          "1990-06-01",
          "1990-07-01",
          "1990-08-01",
          "1990-09-01",
          "1990-10-01",
          "1990-11-01",
          "1990-12-01",
          "1991-01-01",
          "1991-02-01",
          "1991-03-01",
          "1991-04-01",
          "1991-05-01",
          "1991-06-01",
          "1991-07-01",
          "1991-08-01",
          "1991-09-01",
          "1991-10-01",
          "1991-11-01",
          "1991-12-01",
          "1992-01-01",
          "1992-02-01",
          "1992-03-01",
          "1992-04-01",
          "1992-05-01",
          "1992-06-01",
          "1992-07-01",
          "1992-08-01",
          "1992-09-01",
          "1992-10-01",
          "1992-11-01",
          "1992-12-01",
          "1993-01-01",
          "1993-02-01",
          "1993-03-01",
          "1993-04-01",
          "1993-05-01",
          "1993-06-01",
          "1993-07-01",
          "1993-08-01",
          "1993-09-01",
          "1993-10-01",
          "1993-11-01",
          "1993-12-01",
          "1994-01-01",
          "1994-02-01",
          "1994-03-01",
          "1994-04-01",
          "1994-05-01",
          "1994-06-01",
          "1994-07-01",
          "1994-08-01",
          "1994-09-01",
          "1994-10-01",
          "1994-11-01",
          "1994-12-01",
          "1995-01-01",
          "1995-02-01",
          "1995-03-01",
          "1995-04-01",
          "1995-05-01",
          "1995-06-01",
          "1995-07-01",
          "1995-08-01",
          "1995-09-01",
          "1995-10-01",
          "1995-11-01",
          "1995-12-01",
          "1996-01-01",
          "1996-02-01",
          "1996-03-01",
          "1996-04-01",
          "1996-05-01",
          "1996-06-01",
          "1996-07-01",
          "1996-08-01",
          "1996-09-01",
          "1996-10-01",
          "1996-11-01",
          "1996-12-01",
          "1997-01-01",
          "1997-02-01",
          "1997-03-01",
          "1997-04-01",
          "1997-05-01",
          "1997-06-01",
          "1997-07-01",
          "1997-08-01",
          "1997-09-01",
          "1997-10-01",
          "1997-11-01",
          "1997-12-01",
          "1998-01-01",
          "1998-02-01",
          "1998-03-01",
          "1998-04-01",
          "1998-05-01",
          "1998-06-01",
          "1998-07-01",
          "1998-08-01",
          "1998-09-01",
          "1998-10-01",
          "1998-11-01",
          "1998-12-01",
          "1999-01-01",
          "1999-02-01",
          "1999-03-01",
          "1999-04-01",
          "1999-05-01",
          "1999-06-01",
          "1999-07-01",
          "1999-08-01",
          "1999-09-01",
          "1999-10-01",
          "1999-11-01",
          "1999-12-01",
          "2000-01-01",
          "2000-02-01",
          "2000-03-01",
          "2000-04-01",
          "2000-05-01",
          "2000-06-01",
          "2000-07-01",
          "2000-08-01",
          "2000-09-01",
          "2000-10-01",
          "2000-11-01",
          "2000-12-01",
          "2001-01-01",
          "2001-02-01",
          "2001-03-01",
          "2001-04-01",
          "2001-05-01",
          "2001-06-01",
          "2001-07-01",
          "2001-08-01",
          "2001-09-01",
          "2001-10-01",
          "2001-11-01",
          "2001-12-01",
          "2002-01-01",
          "2002-02-01",
          "2002-03-01",
          "2002-04-01",
          "2002-05-01",
          "2002-06-01",
          "2002-07-01",
          "2002-08-01",
          "2002-09-01",
          "2002-10-01",
          "2002-11-01",
          "2002-12-01",
          "2003-01-01",
          "2003-02-01",
          "2003-03-01",
          "2003-04-01",
          "2003-05-01",
          "2003-06-01",
          "2003-07-01",
          "2003-08-01",
          "2003-09-01",
          "2003-10-01",
          "2003-11-01",
          "2003-12-01",
          "2004-01-01",
          "2004-02-01",
          "2004-03-01",
          "2004-04-01",
          "2004-05-01",
          "2004-06-01",
          "2004-07-01",
          "2004-08-01",
          "2004-09-01",
          "2004-10-01",
          "2004-11-01",
          "2004-12-01",
          "2005-01-01",
          "2005-02-01",
          "2005-03-01",
          "2005-04-01",
          "2005-05-01",
          "2005-06-01",
          "2005-07-01",
          "2005-08-01",
          "2005-09-01",
          "2005-10-01",
          "2005-11-01",
          "2005-12-01",
          "2006-01-01",
          "2006-02-01",
          "2006-03-01",
          "2006-04-01",
          "2006-05-01",
          "2006-06-01",
          "2006-07-01",
          "2006-08-01",
          "2006-09-01",
          "2006-10-01",
          "2006-11-01",
          "2006-12-01",
          "2007-01-01",
          "2007-02-01",
          "2007-03-01",
          "2007-04-01",
          "2007-05-01",
          "2007-06-01",
          "2007-07-01",
          "2007-08-01",
          "2007-09-01",
          "2007-10-01",
          "2007-11-01",
          "2007-12-01",
          "2008-01-01",
          "2008-02-01",
          "2008-03-01",
          "2008-04-01",
          "2008-05-01",
          "2008-06-01",
          "2008-07-01",
          "2008-08-01",
          "2008-09-01",
          "2008-10-01",
          "2008-11-01",
          "2008-12-01",
          "2009-01-01",
          "2009-02-01",
          "2009-03-01",
          "2009-04-01",
          "2009-05-01",
          "2009-06-01",
          "2009-07-01",
          "2009-08-01",
          "2009-09-01",
          "2009-10-01",
          "2009-11-01",
          "2009-12-01",
          "2010-01-01",
          "2010-02-01",
          "2010-03-01",
          "2010-04-01",
          "2010-05-01",
          "2010-06-01",
          "2010-07-01",
          "2010-08-01",
          "2010-09-01",
          "2010-10-01",
          "2010-11-01",
          "2010-12-01",
          "2011-01-01",
          "2011-02-01",
          "2011-03-01",
          "2011-04-01",
          "2011-05-01",
          "2011-06-01",
          "2011-07-01",
          "2011-08-01",
          "2011-09-01",
          "2011-10-01",
          "2011-11-01",
          "2011-12-01",
          "2012-01-01",
          "2012-02-01",
          "2012-03-01",
          "2012-04-01",
          "2012-05-01",
          "2012-06-01",
          "2012-07-01",
          "2012-08-01",
          "2012-09-01",
          "2012-10-01",
          "2012-11-01",
          "2012-12-01",
          "2013-01-01",
          "2013-02-01",
          "2013-03-01",
          "2013-04-01",
          "2013-05-01",
          "2013-06-01",
          "2013-07-01",
          "2013-08-01",
          "2013-09-01",
          "2013-10-01",
          "2013-11-01",
          "2013-12-01",
          "2014-01-01",
          "2014-02-01",
          "2014-03-01",
          "2014-04-01",
          "2014-05-01",
          "2014-06-01",
          "2014-07-01",
          "2014-08-01",
          "2014-09-01"
         ],
         "y": [
          93.2,
          96,
          95.2,
          77.1,
          70.9,
          64.8,
          70.1,
          77.3,
          79.5,
          100.6,
          100.7,
          107.1,
          95.9,
          82.8,
          83.3,
          80,
          80.4,
          67.5,
          75.7,
          71.1,
          89.3,
          101.1,
          105.2,
          114.1,
          96.3,
          84.4,
          91.2,
          81.9,
          80.5,
          70.4,
          74.8,
          75.9,
          86.3,
          98.7,
          100.9,
          113.8,
          89.8,
          84.4,
          87.2,
          85.6,
          72,
          69.2,
          77.5,
          78.1,
          94.3,
          97.7,
          100.2,
          116.4,
          97.1,
          93,
          96,
          80.5,
          76.1,
          69.9,
          73.6,
          92.6,
          94.2,
          93.5,
          108.5,
          109.4,
          105.1,
          92.5,
          97.1,
          81.4,
          79.1,
          72.1,
          78.7,
          87.1,
          91.4,
          109.9,
          116.3,
          113,
          100,
          84.8,
          94.3,
          87.1,
          90.3,
          72.4,
          84.9,
          92.7,
          92.2,
          114.9,
          112.5,
          118.3,
          106,
          91.2,
          96.6,
          96.3,
          88.2,
          70.2,
          86.5,
          88.2,
          102.8,
          119.1,
          119.2,
          125.1,
          106.1,
          102.1,
          105.2,
          101,
          84.3,
          87.5,
          92.7,
          94.4,
          113,
          113.9,
          122.9,
          132.7,
          106.9,
          96.6,
          127.3,
          98.2,
          100.2,
          89.4,
          95.3,
          104.2,
          106.4,
          116.2,
          135.9,
          134,
          104.6,
          107.1,
          123.5,
          98.8,
          98.6,
          90.6,
          89.1,
          105.2,
          114,
          122.1,
          138,
          142.2,
          116.4,
          112.6,
          123.8,
          103.6,
          113.9,
          98.6,
          95,
          116,
          113.9,
          127.5,
          131.4,
          145.9,
          131.5,
          131,
          130.5,
          118.9,
          114.3,
          85.7,
          104.6,
          105.1,
          117.3,
          142.5,
          140,
          159.8,
          131.2,
          125.4,
          126.5,
          119.4,
          113.5,
          98.7,
          114.5,
          113.8,
          133.1,
          143.4,
          137.3,
          165.2,
          126.9,
          124,
          135.7,
          130,
          109.4,
          117.8,
          120.3,
          121,
          132.3,
          142.9,
          147.4,
          175.9,
          132.6,
          123.7,
          153.3,
          134,
          119.6,
          116.2,
          118.6,
          130.7,
          129.3,
          144.4,
          163.2,
          179.4,
          128.1,
          138.4,
          152.7,
          120,
          140.5,
          116.2,
          121.4,
          127.8,
          143.6,
          157.6,
          166.2,
          182.3,
          153.1,
          147.6,
          157.7,
          137.2,
          151.5,
          98.7,
          145.8,
          151.7,
          129.4,
          174.1,
          197,
          193.9,
          164.1,
          142.8,
          157.9,
          159.2,
          162.2,
          123.1,
          130,
          150.1,
          169.4,
          179.7,
          182.1,
          194.3,
          161.4,
          169.4,
          168.8,
          158.1,
          158.5,
          135.3,
          149.3,
          143.4,
          142.2,
          188.4,
          166.2,
          199.2,
          182.7,
          145.2,
          182.1,
          158.7,
          141.6,
          132.6,
          139.6,
          147,
          166.6,
          157,
          180.4,
          210.2,
          159.8,
          157.8,
          168.2,
          158.4,
          152,
          142.2,
          137.2,
          152.6,
          166.8,
          165.6,
          198.6,
          201.5,
          170.7,
          164.4,
          179.7,
          157,
          168,
          139.3,
          138.6,
          153.4,
          138.9,
          172.1,
          198.4,
          217.8,
          173.7,
          153.8,
          175.6,
          147.1,
          160.3,
          135.2,
          148.8,
          151,
          148.2,
          182.2,
          189.2,
          183.1,
          170,
          158.4,
          176.1,
          156.2,
          153.2,
          117.9,
          149.8,
          156.6,
          166.7,
          156.8,
          158.6,
          210.8,
          203.6,
          175.2,
          168.7,
          155.9,
          147.3,
          137,
          141.1,
          167.4,
          160.2,
          191.9,
          174.4,
          208.2,
          159.4,
          161.1,
          172.1,
          158.4,
          114.6,
          159.6,
          159.7,
          159.4,
          160.7,
          165.5,
          205,
          205.2,
          141.6,
          148.1,
          184.9,
          132.5,
          137.3,
          135.5,
          121.7,
          166.1,
          146.8,
          162.8,
          186.8,
          185.5,
          151.5,
          158.1,
          143,
          151.2,
          147.6,
          130.7,
          137.5,
          146.1,
          133.6,
          167.9,
          181.9,
          202,
          166.5,
          151.3,
          146.2,
          148.3,
          144.7,
          123.6,
          151.6,
          133.9,
          137.4
         ]
        },
        {
         "name": "fitted part",
         "type": "scatter",
         "x": [
          "1985-01-01",
          "1985-02-01",
          "1985-03-01",
          "1985-04-01",
          "1985-05-01",
          "1985-06-01",
          "1985-07-01",
          "1985-08-01",
          "1985-09-01",
          "1985-10-01",
          "1985-11-01",
          "1985-12-01",
          "1986-01-01",
          "1986-02-01",
          "1986-03-01",
          "1986-04-01",
          "1986-05-01",
          "1986-06-01",
          "1986-07-01",
          "1986-08-01",
          "1986-09-01",
          "1986-10-01",
          "1986-11-01",
          "1986-12-01",
          "1987-01-01",
          "1987-02-01",
          "1987-03-01",
          "1987-04-01",
          "1987-05-01",
          "1987-06-01",
          "1987-07-01",
          "1987-08-01",
          "1987-09-01",
          "1987-10-01",
          "1987-11-01",
          "1987-12-01",
          "1988-01-01",
          "1988-02-01",
          "1988-03-01",
          "1988-04-01",
          "1988-05-01",
          "1988-06-01",
          "1988-07-01",
          "1988-08-01",
          "1988-09-01",
          "1988-10-01",
          "1988-11-01",
          "1988-12-01",
          "1989-01-01",
          "1989-02-01",
          "1989-03-01",
          "1989-04-01",
          "1989-05-01",
          "1989-06-01",
          "1989-07-01",
          "1989-08-01",
          "1989-09-01",
          "1989-10-01",
          "1989-11-01",
          "1989-12-01",
          "1990-01-01",
          "1990-02-01",
          "1990-03-01",
          "1990-04-01",
          "1990-05-01",
          "1990-06-01",
          "1990-07-01",
          "1990-08-01",
          "1990-09-01",
          "1990-10-01",
          "1990-11-01",
          "1990-12-01",
          "1991-01-01",
          "1991-02-01",
          "1991-03-01",
          "1991-04-01",
          "1991-05-01",
          "1991-06-01",
          "1991-07-01",
          "1991-08-01",
          "1991-09-01",
          "1991-10-01",
          "1991-11-01",
          "1991-12-01",
          "1992-01-01",
          "1992-02-01",
          "1992-03-01",
          "1992-04-01",
          "1992-05-01",
          "1992-06-01",
          "1992-07-01",
          "1992-08-01",
          "1992-09-01",
          "1992-10-01",
          "1992-11-01",
          "1992-12-01",
          "1993-01-01",
          "1993-02-01",
          "1993-03-01",
          "1993-04-01",
          "1993-05-01",
          "1993-06-01",
          "1993-07-01",
          "1993-08-01",
          "1993-09-01",
          "1993-10-01",
          "1993-11-01",
          "1993-12-01",
          "1994-01-01",
          "1994-02-01",
          "1994-03-01",
          "1994-04-01",
          "1994-05-01",
          "1994-06-01",
          "1994-07-01",
          "1994-08-01",
          "1994-09-01",
          "1994-10-01",
          "1994-11-01",
          "1994-12-01",
          "1995-01-01",
          "1995-02-01",
          "1995-03-01",
          "1995-04-01",
          "1995-05-01",
          "1995-06-01",
          "1995-07-01",
          "1995-08-01",
          "1995-09-01",
          "1995-10-01",
          "1995-11-01",
          "1995-12-01",
          "1996-01-01",
          "1996-02-01",
          "1996-03-01",
          "1996-04-01",
          "1996-05-01",
          "1996-06-01",
          "1996-07-01",
          "1996-08-01",
          "1996-09-01",
          "1996-10-01",
          "1996-11-01",
          "1996-12-01",
          "1997-01-01",
          "1997-02-01",
          "1997-03-01",
          "1997-04-01",
          "1997-05-01",
          "1997-06-01",
          "1997-07-01",
          "1997-08-01",
          "1997-09-01",
          "1997-10-01",
          "1997-11-01",
          "1997-12-01",
          "1998-01-01",
          "1998-02-01",
          "1998-03-01",
          "1998-04-01",
          "1998-05-01",
          "1998-06-01",
          "1998-07-01",
          "1998-08-01",
          "1998-09-01",
          "1998-10-01",
          "1998-11-01",
          "1998-12-01",
          "1999-01-01",
          "1999-02-01",
          "1999-03-01",
          "1999-04-01",
          "1999-05-01",
          "1999-06-01",
          "1999-07-01",
          "1999-08-01",
          "1999-09-01",
          "1999-10-01",
          "1999-11-01",
          "1999-12-01",
          "2000-01-01",
          "2000-02-01",
          "2000-03-01",
          "2000-04-01",
          "2000-05-01",
          "2000-06-01",
          "2000-07-01",
          "2000-08-01",
          "2000-09-01",
          "2000-10-01",
          "2000-11-01",
          "2000-12-01",
          "2001-01-01",
          "2001-02-01",
          "2001-03-01",
          "2001-04-01",
          "2001-05-01",
          "2001-06-01",
          "2001-07-01",
          "2001-08-01",
          "2001-09-01",
          "2001-10-01",
          "2001-11-01",
          "2001-12-01",
          "2002-01-01",
          "2002-02-01",
          "2002-03-01",
          "2002-04-01",
          "2002-05-01",
          "2002-06-01",
          "2002-07-01",
          "2002-08-01",
          "2002-09-01",
          "2002-10-01",
          "2002-11-01",
          "2002-12-01",
          "2003-01-01",
          "2003-02-01",
          "2003-03-01",
          "2003-04-01",
          "2003-05-01",
          "2003-06-01",
          "2003-07-01",
          "2003-08-01",
          "2003-09-01",
          "2003-10-01",
          "2003-11-01",
          "2003-12-01",
          "2004-01-01",
          "2004-02-01",
          "2004-03-01",
          "2004-04-01",
          "2004-05-01",
          "2004-06-01",
          "2004-07-01",
          "2004-08-01",
          "2004-09-01",
          "2004-10-01",
          "2004-11-01",
          "2004-12-01",
          "2005-01-01",
          "2005-02-01",
          "2005-03-01",
          "2005-04-01",
          "2005-05-01",
          "2005-06-01",
          "2005-07-01",
          "2005-08-01",
          "2005-09-01",
          "2005-10-01",
          "2005-11-01",
          "2005-12-01",
          "2006-01-01",
          "2006-02-01",
          "2006-03-01",
          "2006-04-01",
          "2006-05-01",
          "2006-06-01",
          "2006-07-01",
          "2006-08-01",
          "2006-09-01",
          "2006-10-01",
          "2006-11-01",
          "2006-12-01",
          "2007-01-01",
          "2007-02-01",
          "2007-03-01",
          "2007-04-01",
          "2007-05-01",
          "2007-06-01",
          "2007-07-01",
          "2007-08-01",
          "2007-09-01",
          "2007-10-01",
          "2007-11-01",
          "2007-12-01",
          "2008-01-01",
          "2008-02-01",
          "2008-03-01",
          "2008-04-01",
          "2008-05-01",
          "2008-06-01",
          "2008-07-01",
          "2008-08-01",
          "2008-09-01",
          "2008-10-01",
          "2008-11-01",
          "2008-12-01",
          "2009-01-01",
          "2009-02-01",
          "2009-03-01",
          "2009-04-01",
          "2009-05-01",
          "2009-06-01",
          "2009-07-01",
          "2009-08-01",
          "2009-09-01",
          "2009-10-01",
          "2009-11-01",
          "2009-12-01",
          "2010-01-01",
          "2010-02-01",
          "2010-03-01",
          "2010-04-01",
          "2010-05-01",
          "2010-06-01",
          "2010-07-01",
          "2010-08-01",
          "2010-09-01",
          "2010-10-01",
          "2010-11-01",
          "2010-12-01",
          "2011-01-01",
          "2011-02-01",
          "2011-03-01",
          "2011-04-01",
          "2011-05-01",
          "2011-06-01",
          "2011-07-01",
          "2011-08-01",
          "2011-09-01",
          "2011-10-01",
          "2011-11-01",
          "2011-12-01",
          "2012-01-01",
          "2012-02-01",
          "2012-03-01",
          "2012-04-01",
          "2012-05-01",
          "2012-06-01",
          "2012-07-01",
          "2012-08-01",
          "2012-09-01",
          "2012-10-01",
          "2012-11-01",
          "2012-12-01",
          "2013-01-01",
          "2013-02-01",
          "2013-03-01",
          "2013-04-01",
          "2013-05-01",
          "2013-06-01",
          "2013-07-01",
          "2013-08-01",
          "2013-09-01",
          "2013-10-01",
          "2013-11-01",
          "2013-12-01",
          "2014-01-01",
          "2014-02-01",
          "2014-03-01",
          "2014-04-01",
          "2014-05-01",
          "2014-06-01",
          "2014-07-01",
          "2014-08-01",
          "2014-09-01"
         ],
         "y": [
          0,
          93.19365877806534,
          95.99895915555325,
          95.20121326846196,
          77.10163645023677,
          70.90170991798617,
          64.80113267470912,
          70.09782228054422,
          77.29972073056094,
          79.49961909212158,
          100.59654496459102,
          100.70341332391806,
          153.70093650650804,
          98.71461694926295,
          90.06244163659075,
          70.88713388919604,
          64.90081979815685,
          60.84585401701024,
          66.76417340028271,
          74.89261311946377,
          79.61595733883169,
          101.4301577087628,
          98.9351374219898,
          106.56094731104315,
          94.67149906082712,
          87.94396108785229,
          91.95598048440726,
          82.72340010711581,
          80.6042286816573,
          72.35287745817915,
          75.9420668326892,
          76.13817328818003,
          88.4640270238837,
          103.92455850869658,
          105.19885554538934,
          111.87685663116677,
          94.46773407192322,
          85.19859416396189,
          89.44636556438209,
          79.16380434361626,
          79.27037962193663,
          68.81608383685253,
          72.56069393245299,
          73.26420603091123,
          84.82512238328128,
          99.4087441832157,
          100.68729976988924,
          112.84473427026339,
          92.89265423583198,
          85.84175371988961,
          91.7112128690896,
          82.30458428534578,
          80.11784683792128,
          74.95050391265337,
          78.39545750972523,
          80.86755427219859,
          94.64742156727249,
          100.60922930060946,
          103.65718578391848,
          117.16142905501381,
          97.70810171441029,
          94.52747546351597,
          91.3534138439023,
          82.08840343557415,
          78.4144236561856,
          70.35388545805783,
          80.24564912783356,
          87.19570159200882,
          94.6902529947202,
          100.59120952958222,
          106.45989785746576,
          115.22493407638221,
          104.01807466908869,
          97.9161655720387,
          95.0503212707071,
          86.05565279865307,
          80.20823103327174,
          72.23294854956049,
          80.41735062367195,
          88.832597015541,
          97.77708759561526,
          108.63151461361379,
          112.73041661211616,
          114.75477040487878,
          103.28665606321947,
          91.66232571958777,
          96.04951548008691,
          94.1769341477057,
          88.88747898075734,
          78.11647451018986,
          87.13423625292222,
          91.66190344718301,
          98.9477480596857,
          115.46548100327345,
          113.65008310049733,
          119.2888175131013,
          108.10175210672361,
          92.24552369685524,
          100.01851148152976,
          97.09053008646595,
          90.29955012759487,
          77.34158086053,
          90.82219479959329,
          96.16734792478331,
          107.70988604212779,
          124.71949113675404,
          123.07651910056249,
          130.05218475859644,
          113.33626871493502,
          102.70657567184668,
          107.40876034104863,
          101.03801189460916,
          94.63584790069604,
          85.7632545806214,
          89.91398409216251,
          103.41584102645226,
          113.5430847645934,
          117.26869150422371,
          129.38095782149534,
          135.36550638953454,
          112.31455981095247,
          110.29949730502346,
          118.98756151601923,
          106.05566047305184,
          104.88609998012868,
          89.78402336292949,
          91.37939139142468,
          106.13607316031678,
          111.95175297147894,
          115.68136925449895,
          131.79300396833617,
          135.63003257078523,
          109.81139292485855,
          110.49809074851251,
          120.21202234450618,
          105.86181843399048,
          107.59554679608493,
          93.89692850019202,
          94.62585708811928,
          115.00237941384506,
          122.32864673337157,
          125.08002203734536,
          145.33065110567736,
          146.26937628649557,
          118.92823895489872,
          116.8247913983748,
          126.63804086973414,
          111.10234342345632,
          114.00943905736202,
          101.23935549642434,
          100.94101984886694,
          117.62524068035533,
          120.41599948941993,
          129.40703988077087,
          142.63626097673318,
          153.37330482626436,
          135.75666895986612,
          125.00405030349388,
          138.90107813550986,
          118.57039660034054,
          108.18576303248732,
          97.68474434402472,
          102.53981570939354,
          111.48440552932009,
          124.6501561330668,
          141.8992202898084,
          145.73357100374992,
          160.5122920511161,
          140.00209167406285,
          123.49946165394104,
          140.39441055224017,
          123.77372671332994,
          115.75098845305635,
          106.59117244909905,
          114.63833480747806,
          118.33589656846499,
          133.28461001944308,
          143.36320882967541,
          145.3368768736943,
          164.27677563019344,
          137.05982315651596,
          126.73055812501708,
          145.77255005789803,
          130.30851244296912,
          124.14919413372048,
          120.61623048551947,
          121.0106525701044,
          126.28954915533045,
          142.24975135880788,
          144.72182735400014,
          152.57390767821158,
          173.89669344649494,
          140.12100209504055,
          130.1236957417759,
          150.78070855855972,
          134.09291284975689,
          127.34495915195798,
          119.94467535885178,
          119.63846836021254,
          132.7993502266903,
          138.463782012114,
          150.9388957249596,
          164.53959262084948,
          175.74950144874805,
          144.78893894393227,
          139.50605302423583,
          151.10337570812348,
          139.2739117287806,
          140.75890818197757,
          124.53493010799056,
          126.08614265820157,
          145.68254115674247,
          147.54260975108184,
          162.96234872703113,
          177.92919134823538,
          188.30185328526153,
          163.79616999156815,
          150.28011655905132,
          158.0939532850517,
          154.96363671472187,
          145.70775672332294,
          123.51046195818186,
          146.1148149678347,
          149.3021904048779,
          152.52161140628266,
          186.80549448436514,
          191.0727647471661,
          196.68085612644785,
          172.79945861316088,
          154.00784354366363,
          162.75076817090078,
          162.78313084424704,
          161.58518926764336,
          124.35131566959691,
          143.35248106399658,
          161.2088867287546,
          157.26658267501458,
          184.47024295734138,
          197.03688745748832,
          193.39335085404088,
          171.27246572693053,
          164.53335022077178,
          169.28112210956417,
          163.22607031321883,
          157.4864612339532,
          133.38476975189792,
          138.63290006019434,
          145.21502783755304,
          155.99882653574707,
          171.21437915685016,
          179.8754554673319,
          208.10339444916178,
          168.38104090967192,
          159.23001372676856,
          181.74044444901813,
          151.23315218952965,
          154.01924854403276,
          137.04999365219646,
          137.58584530722632,
          150.14994347204487,
          161.29427186264067,
          168.29411975780314,
          180.90763204557604,
          209.25225651861373,
          166.01277952092434,
          163.09193092050066,
          179.61976616028318,
          159.25713450485904,
          162.57845472008472,
          145.2110002109103,
          145.86816664213887,
          158.83774066918377,
          167.6830506128688,
          175.37405494877356,
          192.3308424548833,
          206.58943963594137,
          173.13820754414374,
          162.91121472707937,
          173.86717355124594,
          163.67471792655755,
          161.28286705561044,
          137.67579548535437,
          138.0982205154028,
          149.4099595910592,
          152.54464769053683,
          174.21216293694098,
          198.99520322368147,
          213.37397846790344,
          174.8816102117318,
          158.3686916823658,
          167.45853039856343,
          158.12430765981668,
          157.72406900431426,
          135.83057940659074,
          143.35941121105157,
          150.04381202221822,
          150.2104248893637,
          173.4230712711355,
          180.1068244565127,
          197.53294351419981,
          173.97695395519685,
          158.14521373093453,
          175.25682507296696,
          158.7815455385296,
          153.9713144215829,
          136.12857951519032,
          153.60934194605946,
          158.17590205614303,
          160.56910494421751,
          169.42494981224027,
          182.58791783870845,
          211.5759510375117,
          194.97216826483915,
          172.40485855372674,
          179.69844001650372,
          153.03305185082155,
          146.1650946513525,
          130.50150067330148,
          152.00791208996702,
          158.4853820306144,
          165.21659059304852,
          171.58927625511404,
          172.85265014929269,
          206.67703090719561,
          168.40205430335308,
          159.1705193870665,
          176.97868526096696,
          151.03223937024362,
          148.1544159638018,
          142.5522309075386,
          149.3951890577208,
          165.17651541012103,
          165.44592050823243,
          159.60562366023228,
          182.94889357645488,
          193.30504494658288,
          146.12305159259833,
          146.8169233977236,
          157.6370031378003,
          134.75657173489978,
          141.7025581529952,
          118.79725364904064,
          134.73744770413714,
          162.22732703852688,
          153.35991952844503,
          165.09308095503582,
          185.44403479133638,
          193.55125144700588,
          156.45160510525935,
          145.34838171751014,
          159.39773683310136,
          148.501921974723,
          143.51526641498924,
          125.27094785758274,
          136.13757101039712,
          147.85345518395533,
          140.80663398362404
         ]
        },
        {
         "marker": {
          "color": "blue"
         },
         "name": "test",
         "type": "scatter",
         "x": [
          "2014-10-01",
          "2014-11-01",
          "2014-12-01",
          "2015-01-01",
          "2015-02-01",
          "2015-03-01",
          "2015-04-01",
          "2015-05-01",
          "2015-06-01",
          "2015-07-01",
          "2015-08-01",
          "2015-09-01",
          "2015-10-01",
          "2015-11-01",
          "2015-12-01",
          "2016-01-01",
          "2016-02-01",
          "2016-03-01",
          "2016-04-01",
          "2016-05-01",
          "2016-06-01",
          "2016-07-01",
          "2016-08-01",
          "2016-09-01",
          "2016-10-01",
          "2016-11-01",
          "2016-12-01",
          "2017-01-01",
          "2017-02-01",
          "2017-03-01",
          "2017-04-01",
          "2017-05-01",
          "2017-06-01",
          "2017-07-01",
          "2017-08-01",
          "2017-09-01",
          "2017-10-01",
          "2017-11-01",
          "2017-12-01",
          "2018-01-01"
         ],
         "y": [
          181.6,
          182,
          190,
          161.2,
          155.5,
          141.9,
          164.6,
          136.2,
          126.8,
          152.5,
          126.6,
          150.1,
          186.3,
          147.5,
          200.4,
          177.2,
          127.4,
          177.1,
          154.4,
          135.2,
          126.4,
          147.3,
          140.6,
          152.3,
          151.2,
          172.2,
          215.3,
          154.1,
          159.3,
          160.4,
          151.9,
          148.4,
          139.6,
          148.2,
          153.5,
          145.1,
          183.7,
          210.5,
          203.3,
          153.3
         ]
        },
        {
         "marker": {
          "color": "green"
         },
         "name": "predict",
         "type": "scatter",
         "x": [
          "2014-10-01",
          "2014-11-01",
          "2014-12-01",
          "2015-01-01",
          "2015-02-01",
          "2015-03-01",
          "2015-04-01",
          "2015-05-01",
          "2015-06-01",
          "2015-07-01",
          "2015-08-01",
          "2015-09-01",
          "2015-10-01",
          "2015-11-01",
          "2015-12-01",
          "2016-01-01",
          "2016-02-01",
          "2016-03-01",
          "2016-04-01",
          "2016-05-01",
          "2016-06-01",
          "2016-07-01",
          "2016-08-01",
          "2016-09-01",
          "2016-10-01",
          "2016-11-01",
          "2016-12-01",
          "2017-01-01",
          "2017-02-01",
          "2017-03-01",
          "2017-04-01",
          "2017-05-01",
          "2017-06-01",
          "2017-07-01",
          "2017-08-01",
          "2017-09-01",
          "2017-10-01",
          "2017-11-01",
          "2017-12-01",
          "2018-01-01"
         ],
         "y": [
          167.22437760620394,
          185.2163960160269,
          204.0657683659473,
          165.91603061091246,
          141.013189782185,
          156.68727756832243,
          150.07322490892892,
          139.51480425094758,
          128.84248016175627,
          142.31265395115747,
          139.59593164471235,
          139.70522978016155,
          166.42249533363434,
          184.20076233743163,
          206.77065268900915,
          166.74423233098068,
          140.72776676458975,
          157.41185694397598,
          151.44817792381724,
          139.98384546872364,
          129.23034307161745,
          143.21274930266537,
          140.448003292313,
          140.24434675913767,
          167.0787144012953,
          185.00888440438254,
          207.4749419679344,
          167.38092623212182,
          141.44477901162506,
          158.14861899688236,
          152.1324572957229,
          140.6689903284925,
          129.94688329729925,
          143.920888925038,
          141.13948761707317,
          140.9449464039621,
          167.7870542349254,
          185.70983515468092,
          208.17309563411777,
          168.08419221972565
         ]
        }
       ],
       "layout": {
        "height": 700,
        "template": {
         "data": {
          "bar": [
           {
            "error_x": {
             "color": "#2a3f5f"
            },
            "error_y": {
             "color": "#2a3f5f"
            },
            "marker": {
             "line": {
              "color": "#E5ECF6",
              "width": 0.5
             }
            },
            "type": "bar"
           }
          ],
          "barpolar": [
           {
            "marker": {
             "line": {
              "color": "#E5ECF6",
              "width": 0.5
             }
            },
            "type": "barpolar"
           }
          ],
          "carpet": [
           {
            "aaxis": {
             "endlinecolor": "#2a3f5f",
             "gridcolor": "white",
             "linecolor": "white",
             "minorgridcolor": "white",
             "startlinecolor": "#2a3f5f"
            },
            "baxis": {
             "endlinecolor": "#2a3f5f",
             "gridcolor": "white",
             "linecolor": "white",
             "minorgridcolor": "white",
             "startlinecolor": "#2a3f5f"
            },
            "type": "carpet"
           }
          ],
          "choropleth": [
           {
            "colorbar": {
             "outlinewidth": 0,
             "ticks": ""
            },
            "type": "choropleth"
           }
          ],
          "contour": [
           {
            "colorbar": {
             "outlinewidth": 0,
             "ticks": ""
            },
            "colorscale": [
             [
              0,
              "#0d0887"
             ],
             [
              0.1111111111111111,
              "#46039f"
             ],
             [
              0.2222222222222222,
              "#7201a8"
             ],
             [
              0.3333333333333333,
              "#9c179e"
             ],
             [
              0.4444444444444444,
              "#bd3786"
             ],
             [
              0.5555555555555556,
              "#d8576b"
             ],
             [
              0.6666666666666666,
              "#ed7953"
             ],
             [
              0.7777777777777778,
              "#fb9f3a"
             ],
             [
              0.8888888888888888,
              "#fdca26"
             ],
             [
              1,
              "#f0f921"
             ]
            ],
            "type": "contour"
           }
          ],
          "contourcarpet": [
           {
            "colorbar": {
             "outlinewidth": 0,
             "ticks": ""
            },
            "type": "contourcarpet"
           }
          ],
          "heatmap": [
           {
            "colorbar": {
             "outlinewidth": 0,
             "ticks": ""
            },
            "colorscale": [
             [
              0,
              "#0d0887"
             ],
             [
              0.1111111111111111,
              "#46039f"
             ],
             [
              0.2222222222222222,
              "#7201a8"
             ],
             [
              0.3333333333333333,
              "#9c179e"
             ],
             [
              0.4444444444444444,
              "#bd3786"
             ],
             [
              0.5555555555555556,
              "#d8576b"
             ],
             [
              0.6666666666666666,
              "#ed7953"
             ],
             [
              0.7777777777777778,
              "#fb9f3a"
             ],
             [
              0.8888888888888888,
              "#fdca26"
             ],
             [
              1,
              "#f0f921"
             ]
            ],
            "type": "heatmap"
           }
          ],
          "heatmapgl": [
           {
            "colorbar": {
             "outlinewidth": 0,
             "ticks": ""
            },
            "colorscale": [
             [
              0,
              "#0d0887"
             ],
             [
              0.1111111111111111,
              "#46039f"
             ],
             [
              0.2222222222222222,
              "#7201a8"
             ],
             [
              0.3333333333333333,
              "#9c179e"
             ],
             [
              0.4444444444444444,
              "#bd3786"
             ],
             [
              0.5555555555555556,
              "#d8576b"
             ],
             [
              0.6666666666666666,
              "#ed7953"
             ],
             [
              0.7777777777777778,
              "#fb9f3a"
             ],
             [
              0.8888888888888888,
              "#fdca26"
             ],
             [
              1,
              "#f0f921"
             ]
            ],
            "type": "heatmapgl"
           }
          ],
          "histogram": [
           {
            "marker": {
             "colorbar": {
              "outlinewidth": 0,
              "ticks": ""
             }
            },
            "type": "histogram"
           }
          ],
          "histogram2d": [
           {
            "colorbar": {
             "outlinewidth": 0,
             "ticks": ""
            },
            "colorscale": [
             [
              0,
              "#0d0887"
             ],
             [
              0.1111111111111111,
              "#46039f"
             ],
             [
              0.2222222222222222,
              "#7201a8"
             ],
             [
              0.3333333333333333,
              "#9c179e"
             ],
             [
              0.4444444444444444,
              "#bd3786"
             ],
             [
              0.5555555555555556,
              "#d8576b"
             ],
             [
              0.6666666666666666,
              "#ed7953"
             ],
             [
              0.7777777777777778,
              "#fb9f3a"
             ],
             [
              0.8888888888888888,
              "#fdca26"
             ],
             [
              1,
              "#f0f921"
             ]
            ],
            "type": "histogram2d"
           }
          ],
          "histogram2dcontour": [
           {
            "colorbar": {
             "outlinewidth": 0,
             "ticks": ""
            },
            "colorscale": [
             [
              0,
              "#0d0887"
             ],
             [
              0.1111111111111111,
              "#46039f"
             ],
             [
              0.2222222222222222,
              "#7201a8"
             ],
             [
              0.3333333333333333,
              "#9c179e"
             ],
             [
              0.4444444444444444,
              "#bd3786"
             ],
             [
              0.5555555555555556,
              "#d8576b"
             ],
             [
              0.6666666666666666,
              "#ed7953"
             ],
             [
              0.7777777777777778,
              "#fb9f3a"
             ],
             [
              0.8888888888888888,
              "#fdca26"
             ],
             [
              1,
              "#f0f921"
             ]
            ],
            "type": "histogram2dcontour"
           }
          ],
          "mesh3d": [
           {
            "colorbar": {
             "outlinewidth": 0,
             "ticks": ""
            },
            "type": "mesh3d"
           }
          ],
          "parcoords": [
           {
            "line": {
             "colorbar": {
              "outlinewidth": 0,
              "ticks": ""
             }
            },
            "type": "parcoords"
           }
          ],
          "pie": [
           {
            "automargin": true,
            "type": "pie"
           }
          ],
          "scatter": [
           {
            "marker": {
             "colorbar": {
              "outlinewidth": 0,
              "ticks": ""
             }
            },
            "type": "scatter"
           }
          ],
          "scatter3d": [
           {
            "line": {
             "colorbar": {
              "outlinewidth": 0,
              "ticks": ""
             }
            },
            "marker": {
             "colorbar": {
              "outlinewidth": 0,
              "ticks": ""
             }
            },
            "type": "scatter3d"
           }
          ],
          "scattercarpet": [
           {
            "marker": {
             "colorbar": {
              "outlinewidth": 0,
              "ticks": ""
             }
            },
            "type": "scattercarpet"
           }
          ],
          "scattergeo": [
           {
            "marker": {
             "colorbar": {
              "outlinewidth": 0,
              "ticks": ""
             }
            },
            "type": "scattergeo"
           }
          ],
          "scattergl": [
           {
            "marker": {
             "colorbar": {
              "outlinewidth": 0,
              "ticks": ""
             }
            },
            "type": "scattergl"
           }
          ],
          "scattermapbox": [
           {
            "marker": {
             "colorbar": {
              "outlinewidth": 0,
              "ticks": ""
             }
            },
            "type": "scattermapbox"
           }
          ],
          "scatterpolar": [
           {
            "marker": {
             "colorbar": {
              "outlinewidth": 0,
              "ticks": ""
             }
            },
            "type": "scatterpolar"
           }
          ],
          "scatterpolargl": [
           {
            "marker": {
             "colorbar": {
              "outlinewidth": 0,
              "ticks": ""
             }
            },
            "type": "scatterpolargl"
           }
          ],
          "scatterternary": [
           {
            "marker": {
             "colorbar": {
              "outlinewidth": 0,
              "ticks": ""
             }
            },
            "type": "scatterternary"
           }
          ],
          "surface": [
           {
            "colorbar": {
             "outlinewidth": 0,
             "ticks": ""
            },
            "colorscale": [
             [
              0,
              "#0d0887"
             ],
             [
              0.1111111111111111,
              "#46039f"
             ],
             [
              0.2222222222222222,
              "#7201a8"
             ],
             [
              0.3333333333333333,
              "#9c179e"
             ],
             [
              0.4444444444444444,
              "#bd3786"
             ],
             [
              0.5555555555555556,
              "#d8576b"
             ],
             [
              0.6666666666666666,
              "#ed7953"
             ],
             [
              0.7777777777777778,
              "#fb9f3a"
             ],
             [
              0.8888888888888888,
              "#fdca26"
             ],
             [
              1,
              "#f0f921"
             ]
            ],
            "type": "surface"
           }
          ],
          "table": [
           {
            "cells": {
             "fill": {
              "color": "#EBF0F8"
             },
             "line": {
              "color": "white"
             }
            },
            "header": {
             "fill": {
              "color": "#C8D4E3"
             },
             "line": {
              "color": "white"
             }
            },
            "type": "table"
           }
          ]
         },
         "layout": {
          "annotationdefaults": {
           "arrowcolor": "#2a3f5f",
           "arrowhead": 0,
           "arrowwidth": 1
          },
          "coloraxis": {
           "colorbar": {
            "outlinewidth": 0,
            "ticks": ""
           }
          },
          "colorscale": {
           "diverging": [
            [
             0,
             "#8e0152"
            ],
            [
             0.1,
             "#c51b7d"
            ],
            [
             0.2,
             "#de77ae"
            ],
            [
             0.3,
             "#f1b6da"
            ],
            [
             0.4,
             "#fde0ef"
            ],
            [
             0.5,
             "#f7f7f7"
            ],
            [
             0.6,
             "#e6f5d0"
            ],
            [
             0.7,
             "#b8e186"
            ],
            [
             0.8,
             "#7fbc41"
            ],
            [
             0.9,
             "#4d9221"
            ],
            [
             1,
             "#276419"
            ]
           ],
           "sequential": [
            [
             0,
             "#0d0887"
            ],
            [
             0.1111111111111111,
             "#46039f"
            ],
            [
             0.2222222222222222,
             "#7201a8"
            ],
            [
             0.3333333333333333,
             "#9c179e"
            ],
            [
             0.4444444444444444,
             "#bd3786"
            ],
            [
             0.5555555555555556,
             "#d8576b"
            ],
            [
             0.6666666666666666,
             "#ed7953"
            ],
            [
             0.7777777777777778,
             "#fb9f3a"
            ],
            [
             0.8888888888888888,
             "#fdca26"
            ],
            [
             1,
             "#f0f921"
            ]
           ],
           "sequentialminus": [
            [
             0,
             "#0d0887"
            ],
            [
             0.1111111111111111,
             "#46039f"
            ],
            [
             0.2222222222222222,
             "#7201a8"
            ],
            [
             0.3333333333333333,
             "#9c179e"
            ],
            [
             0.4444444444444444,
             "#bd3786"
            ],
            [
             0.5555555555555556,
             "#d8576b"
            ],
            [
             0.6666666666666666,
             "#ed7953"
            ],
            [
             0.7777777777777778,
             "#fb9f3a"
            ],
            [
             0.8888888888888888,
             "#fdca26"
            ],
            [
             1,
             "#f0f921"
            ]
           ]
          },
          "colorway": [
           "#636efa",
           "#EF553B",
           "#00cc96",
           "#ab63fa",
           "#FFA15A",
           "#19d3f3",
           "#FF6692",
           "#B6E880",
           "#FF97FF",
           "#FECB52"
          ],
          "font": {
           "color": "#2a3f5f"
          },
          "geo": {
           "bgcolor": "white",
           "lakecolor": "white",
           "landcolor": "#E5ECF6",
           "showlakes": true,
           "showland": true,
           "subunitcolor": "white"
          },
          "hoverlabel": {
           "align": "left"
          },
          "hovermode": "closest",
          "mapbox": {
           "style": "light"
          },
          "paper_bgcolor": "white",
          "plot_bgcolor": "#E5ECF6",
          "polar": {
           "angularaxis": {
            "gridcolor": "white",
            "linecolor": "white",
            "ticks": ""
           },
           "bgcolor": "#E5ECF6",
           "radialaxis": {
            "gridcolor": "white",
            "linecolor": "white",
            "ticks": ""
           }
          },
          "scene": {
           "xaxis": {
            "backgroundcolor": "#E5ECF6",
            "gridcolor": "white",
            "gridwidth": 2,
            "linecolor": "white",
            "showbackground": true,
            "ticks": "",
            "zerolinecolor": "white"
           },
           "yaxis": {
            "backgroundcolor": "#E5ECF6",
            "gridcolor": "white",
            "gridwidth": 2,
            "linecolor": "white",
            "showbackground": true,
            "ticks": "",
            "zerolinecolor": "white"
           },
           "zaxis": {
            "backgroundcolor": "#E5ECF6",
            "gridcolor": "white",
            "gridwidth": 2,
            "linecolor": "white",
            "showbackground": true,
            "ticks": "",
            "zerolinecolor": "white"
           }
          },
          "shapedefaults": {
           "line": {
            "color": "#2a3f5f"
           }
          },
          "ternary": {
           "aaxis": {
            "gridcolor": "white",
            "linecolor": "white",
            "ticks": ""
           },
           "baxis": {
            "gridcolor": "white",
            "linecolor": "white",
            "ticks": ""
           },
           "bgcolor": "#E5ECF6",
           "caxis": {
            "gridcolor": "white",
            "linecolor": "white",
            "ticks": ""
           }
          },
          "title": {
           "x": 0.05
          },
          "xaxis": {
           "automargin": true,
           "gridcolor": "white",
           "linecolor": "white",
           "ticks": "",
           "title": {
            "standoff": 15
           },
           "zerolinecolor": "white",
           "zerolinewidth": 2
          },
          "yaxis": {
           "automargin": true,
           "gridcolor": "white",
           "linecolor": "white",
           "ticks": "",
           "title": {
            "standoff": 15
           },
           "zerolinecolor": "white",
           "zerolinewidth": 2
          }
         }
        },
        "title": {
         "text": "Graph"
        },
        "xaxis": {
         "title": {
          "text": "Time"
         }
        },
        "yaxis": {
         "title": {
          "text": "Value"
         }
        }
       }
      },
      "text/html": [
       "<div>                            <div id=\"f769e992-d715-4638-9e68-3a4633795d10\" class=\"plotly-graph-div\" style=\"height:700px; width:100%;\"></div>            <script type=\"text/javascript\">                require([\"plotly\"], function(Plotly) {                    window.PLOTLYENV=window.PLOTLYENV || {};                                    if (document.getElementById(\"f769e992-d715-4638-9e68-3a4633795d10\")) {                    Plotly.newPlot(                        \"f769e992-d715-4638-9e68-3a4633795d10\",                        [{\"marker\": {\"color\": \"blue\"}, \"name\": \"train part\", \"type\": \"scatter\", \"x\": [\"1985-01-01\", \"1985-02-01\", \"1985-03-01\", \"1985-04-01\", \"1985-05-01\", \"1985-06-01\", \"1985-07-01\", \"1985-08-01\", \"1985-09-01\", \"1985-10-01\", \"1985-11-01\", \"1985-12-01\", \"1986-01-01\", \"1986-02-01\", \"1986-03-01\", \"1986-04-01\", \"1986-05-01\", \"1986-06-01\", \"1986-07-01\", \"1986-08-01\", \"1986-09-01\", \"1986-10-01\", \"1986-11-01\", \"1986-12-01\", \"1987-01-01\", \"1987-02-01\", \"1987-03-01\", \"1987-04-01\", \"1987-05-01\", \"1987-06-01\", \"1987-07-01\", \"1987-08-01\", \"1987-09-01\", \"1987-10-01\", \"1987-11-01\", \"1987-12-01\", \"1988-01-01\", \"1988-02-01\", \"1988-03-01\", \"1988-04-01\", \"1988-05-01\", \"1988-06-01\", \"1988-07-01\", \"1988-08-01\", \"1988-09-01\", \"1988-10-01\", \"1988-11-01\", \"1988-12-01\", \"1989-01-01\", \"1989-02-01\", \"1989-03-01\", \"1989-04-01\", \"1989-05-01\", \"1989-06-01\", \"1989-07-01\", \"1989-08-01\", \"1989-09-01\", \"1989-10-01\", \"1989-11-01\", \"1989-12-01\", \"1990-01-01\", \"1990-02-01\", \"1990-03-01\", \"1990-04-01\", \"1990-05-01\", \"1990-06-01\", \"1990-07-01\", \"1990-08-01\", \"1990-09-01\", \"1990-10-01\", \"1990-11-01\", \"1990-12-01\", \"1991-01-01\", \"1991-02-01\", \"1991-03-01\", \"1991-04-01\", \"1991-05-01\", \"1991-06-01\", \"1991-07-01\", \"1991-08-01\", \"1991-09-01\", \"1991-10-01\", \"1991-11-01\", \"1991-12-01\", \"1992-01-01\", \"1992-02-01\", \"1992-03-01\", \"1992-04-01\", \"1992-05-01\", \"1992-06-01\", \"1992-07-01\", \"1992-08-01\", \"1992-09-01\", \"1992-10-01\", \"1992-11-01\", \"1992-12-01\", \"1993-01-01\", \"1993-02-01\", \"1993-03-01\", \"1993-04-01\", \"1993-05-01\", \"1993-06-01\", \"1993-07-01\", \"1993-08-01\", \"1993-09-01\", \"1993-10-01\", \"1993-11-01\", \"1993-12-01\", \"1994-01-01\", \"1994-02-01\", \"1994-03-01\", \"1994-04-01\", \"1994-05-01\", \"1994-06-01\", \"1994-07-01\", \"1994-08-01\", \"1994-09-01\", \"1994-10-01\", \"1994-11-01\", \"1994-12-01\", \"1995-01-01\", \"1995-02-01\", \"1995-03-01\", \"1995-04-01\", \"1995-05-01\", \"1995-06-01\", \"1995-07-01\", \"1995-08-01\", \"1995-09-01\", \"1995-10-01\", \"1995-11-01\", \"1995-12-01\", \"1996-01-01\", \"1996-02-01\", \"1996-03-01\", \"1996-04-01\", \"1996-05-01\", \"1996-06-01\", \"1996-07-01\", \"1996-08-01\", \"1996-09-01\", \"1996-10-01\", \"1996-11-01\", \"1996-12-01\", \"1997-01-01\", \"1997-02-01\", \"1997-03-01\", \"1997-04-01\", \"1997-05-01\", \"1997-06-01\", \"1997-07-01\", \"1997-08-01\", \"1997-09-01\", \"1997-10-01\", \"1997-11-01\", \"1997-12-01\", \"1998-01-01\", \"1998-02-01\", \"1998-03-01\", \"1998-04-01\", \"1998-05-01\", \"1998-06-01\", \"1998-07-01\", \"1998-08-01\", \"1998-09-01\", \"1998-10-01\", \"1998-11-01\", \"1998-12-01\", \"1999-01-01\", \"1999-02-01\", \"1999-03-01\", \"1999-04-01\", \"1999-05-01\", \"1999-06-01\", \"1999-07-01\", \"1999-08-01\", \"1999-09-01\", \"1999-10-01\", \"1999-11-01\", \"1999-12-01\", \"2000-01-01\", \"2000-02-01\", \"2000-03-01\", \"2000-04-01\", \"2000-05-01\", \"2000-06-01\", \"2000-07-01\", \"2000-08-01\", \"2000-09-01\", \"2000-10-01\", \"2000-11-01\", \"2000-12-01\", \"2001-01-01\", \"2001-02-01\", \"2001-03-01\", \"2001-04-01\", \"2001-05-01\", \"2001-06-01\", \"2001-07-01\", \"2001-08-01\", \"2001-09-01\", \"2001-10-01\", \"2001-11-01\", \"2001-12-01\", \"2002-01-01\", \"2002-02-01\", \"2002-03-01\", \"2002-04-01\", \"2002-05-01\", \"2002-06-01\", \"2002-07-01\", \"2002-08-01\", \"2002-09-01\", \"2002-10-01\", \"2002-11-01\", \"2002-12-01\", \"2003-01-01\", \"2003-02-01\", \"2003-03-01\", \"2003-04-01\", \"2003-05-01\", \"2003-06-01\", \"2003-07-01\", \"2003-08-01\", \"2003-09-01\", \"2003-10-01\", \"2003-11-01\", \"2003-12-01\", \"2004-01-01\", \"2004-02-01\", \"2004-03-01\", \"2004-04-01\", \"2004-05-01\", \"2004-06-01\", \"2004-07-01\", \"2004-08-01\", \"2004-09-01\", \"2004-10-01\", \"2004-11-01\", \"2004-12-01\", \"2005-01-01\", \"2005-02-01\", \"2005-03-01\", \"2005-04-01\", \"2005-05-01\", \"2005-06-01\", \"2005-07-01\", \"2005-08-01\", \"2005-09-01\", \"2005-10-01\", \"2005-11-01\", \"2005-12-01\", \"2006-01-01\", \"2006-02-01\", \"2006-03-01\", \"2006-04-01\", \"2006-05-01\", \"2006-06-01\", \"2006-07-01\", \"2006-08-01\", \"2006-09-01\", \"2006-10-01\", \"2006-11-01\", \"2006-12-01\", \"2007-01-01\", \"2007-02-01\", \"2007-03-01\", \"2007-04-01\", \"2007-05-01\", \"2007-06-01\", \"2007-07-01\", \"2007-08-01\", \"2007-09-01\", \"2007-10-01\", \"2007-11-01\", \"2007-12-01\", \"2008-01-01\", \"2008-02-01\", \"2008-03-01\", \"2008-04-01\", \"2008-05-01\", \"2008-06-01\", \"2008-07-01\", \"2008-08-01\", \"2008-09-01\", \"2008-10-01\", \"2008-11-01\", \"2008-12-01\", \"2009-01-01\", \"2009-02-01\", \"2009-03-01\", \"2009-04-01\", \"2009-05-01\", \"2009-06-01\", \"2009-07-01\", \"2009-08-01\", \"2009-09-01\", \"2009-10-01\", \"2009-11-01\", \"2009-12-01\", \"2010-01-01\", \"2010-02-01\", \"2010-03-01\", \"2010-04-01\", \"2010-05-01\", \"2010-06-01\", \"2010-07-01\", \"2010-08-01\", \"2010-09-01\", \"2010-10-01\", \"2010-11-01\", \"2010-12-01\", \"2011-01-01\", \"2011-02-01\", \"2011-03-01\", \"2011-04-01\", \"2011-05-01\", \"2011-06-01\", \"2011-07-01\", \"2011-08-01\", \"2011-09-01\", \"2011-10-01\", \"2011-11-01\", \"2011-12-01\", \"2012-01-01\", \"2012-02-01\", \"2012-03-01\", \"2012-04-01\", \"2012-05-01\", \"2012-06-01\", \"2012-07-01\", \"2012-08-01\", \"2012-09-01\", \"2012-10-01\", \"2012-11-01\", \"2012-12-01\", \"2013-01-01\", \"2013-02-01\", \"2013-03-01\", \"2013-04-01\", \"2013-05-01\", \"2013-06-01\", \"2013-07-01\", \"2013-08-01\", \"2013-09-01\", \"2013-10-01\", \"2013-11-01\", \"2013-12-01\", \"2014-01-01\", \"2014-02-01\", \"2014-03-01\", \"2014-04-01\", \"2014-05-01\", \"2014-06-01\", \"2014-07-01\", \"2014-08-01\", \"2014-09-01\"], \"y\": [93.2, 96.0, 95.2, 77.1, 70.9, 64.8, 70.1, 77.3, 79.5, 100.6, 100.7, 107.1, 95.9, 82.8, 83.3, 80.0, 80.4, 67.5, 75.7, 71.1, 89.3, 101.1, 105.2, 114.1, 96.3, 84.4, 91.2, 81.9, 80.5, 70.4, 74.8, 75.9, 86.3, 98.7, 100.9, 113.8, 89.8, 84.4, 87.2, 85.6, 72.0, 69.2, 77.5, 78.1, 94.3, 97.7, 100.2, 116.4, 97.1, 93.0, 96.0, 80.5, 76.1, 69.9, 73.6, 92.6, 94.2, 93.5, 108.5, 109.4, 105.1, 92.5, 97.1, 81.4, 79.1, 72.1, 78.7, 87.1, 91.4, 109.9, 116.3, 113.0, 100.0, 84.8, 94.3, 87.1, 90.3, 72.4, 84.9, 92.7, 92.2, 114.9, 112.5, 118.3, 106.0, 91.2, 96.6, 96.3, 88.2, 70.2, 86.5, 88.2, 102.8, 119.1, 119.2, 125.1, 106.1, 102.1, 105.2, 101.0, 84.3, 87.5, 92.7, 94.4, 113.0, 113.9, 122.9, 132.7, 106.9, 96.6, 127.3, 98.2, 100.2, 89.4, 95.3, 104.2, 106.4, 116.2, 135.9, 134.0, 104.6, 107.1, 123.5, 98.8, 98.6, 90.6, 89.1, 105.2, 114.0, 122.1, 138.0, 142.2, 116.4, 112.6, 123.8, 103.6, 113.9, 98.6, 95.0, 116.0, 113.9, 127.5, 131.4, 145.9, 131.5, 131.0, 130.5, 118.9, 114.3, 85.7, 104.6, 105.1, 117.3, 142.5, 140.0, 159.8, 131.2, 125.4, 126.5, 119.4, 113.5, 98.7, 114.5, 113.8, 133.1, 143.4, 137.3, 165.2, 126.9, 124.0, 135.7, 130.0, 109.4, 117.8, 120.3, 121.0, 132.3, 142.9, 147.4, 175.9, 132.6, 123.7, 153.3, 134.0, 119.6, 116.2, 118.6, 130.7, 129.3, 144.4, 163.2, 179.4, 128.1, 138.4, 152.7, 120.0, 140.5, 116.2, 121.4, 127.8, 143.6, 157.6, 166.2, 182.3, 153.1, 147.6, 157.7, 137.2, 151.5, 98.7, 145.8, 151.7, 129.4, 174.1, 197.0, 193.9, 164.1, 142.8, 157.9, 159.2, 162.2, 123.1, 130.0, 150.1, 169.4, 179.7, 182.1, 194.3, 161.4, 169.4, 168.8, 158.1, 158.5, 135.3, 149.3, 143.4, 142.2, 188.4, 166.2, 199.2, 182.7, 145.2, 182.1, 158.7, 141.6, 132.6, 139.6, 147.0, 166.6, 157.0, 180.4, 210.2, 159.8, 157.8, 168.2, 158.4, 152.0, 142.2, 137.2, 152.6, 166.8, 165.6, 198.6, 201.5, 170.7, 164.4, 179.7, 157.0, 168.0, 139.3, 138.6, 153.4, 138.9, 172.1, 198.4, 217.8, 173.7, 153.8, 175.6, 147.1, 160.3, 135.2, 148.8, 151.0, 148.2, 182.2, 189.2, 183.1, 170.0, 158.4, 176.1, 156.2, 153.2, 117.9, 149.8, 156.6, 166.7, 156.8, 158.6, 210.8, 203.6, 175.2, 168.7, 155.9, 147.3, 137.0, 141.1, 167.4, 160.2, 191.9, 174.4, 208.2, 159.4, 161.1, 172.1, 158.4, 114.6, 159.6, 159.7, 159.4, 160.7, 165.5, 205.0, 205.2, 141.6, 148.1, 184.9, 132.5, 137.3, 135.5, 121.7, 166.1, 146.8, 162.8, 186.8, 185.5, 151.5, 158.1, 143.0, 151.2, 147.6, 130.7, 137.5, 146.1, 133.6, 167.9, 181.9, 202.0, 166.5, 151.3, 146.2, 148.3, 144.7, 123.6, 151.6, 133.9, 137.4]}, {\"name\": \"fitted part\", \"type\": \"scatter\", \"x\": [\"1985-01-01\", \"1985-02-01\", \"1985-03-01\", \"1985-04-01\", \"1985-05-01\", \"1985-06-01\", \"1985-07-01\", \"1985-08-01\", \"1985-09-01\", \"1985-10-01\", \"1985-11-01\", \"1985-12-01\", \"1986-01-01\", \"1986-02-01\", \"1986-03-01\", \"1986-04-01\", \"1986-05-01\", \"1986-06-01\", \"1986-07-01\", \"1986-08-01\", \"1986-09-01\", \"1986-10-01\", \"1986-11-01\", \"1986-12-01\", \"1987-01-01\", \"1987-02-01\", \"1987-03-01\", \"1987-04-01\", \"1987-05-01\", \"1987-06-01\", \"1987-07-01\", \"1987-08-01\", \"1987-09-01\", \"1987-10-01\", \"1987-11-01\", \"1987-12-01\", \"1988-01-01\", \"1988-02-01\", \"1988-03-01\", \"1988-04-01\", \"1988-05-01\", \"1988-06-01\", \"1988-07-01\", \"1988-08-01\", \"1988-09-01\", \"1988-10-01\", \"1988-11-01\", \"1988-12-01\", \"1989-01-01\", \"1989-02-01\", \"1989-03-01\", \"1989-04-01\", \"1989-05-01\", \"1989-06-01\", \"1989-07-01\", \"1989-08-01\", \"1989-09-01\", \"1989-10-01\", \"1989-11-01\", \"1989-12-01\", \"1990-01-01\", \"1990-02-01\", \"1990-03-01\", \"1990-04-01\", \"1990-05-01\", \"1990-06-01\", \"1990-07-01\", \"1990-08-01\", \"1990-09-01\", \"1990-10-01\", \"1990-11-01\", \"1990-12-01\", \"1991-01-01\", \"1991-02-01\", \"1991-03-01\", \"1991-04-01\", \"1991-05-01\", \"1991-06-01\", \"1991-07-01\", \"1991-08-01\", \"1991-09-01\", \"1991-10-01\", \"1991-11-01\", \"1991-12-01\", \"1992-01-01\", \"1992-02-01\", \"1992-03-01\", \"1992-04-01\", \"1992-05-01\", \"1992-06-01\", \"1992-07-01\", \"1992-08-01\", \"1992-09-01\", \"1992-10-01\", \"1992-11-01\", \"1992-12-01\", \"1993-01-01\", \"1993-02-01\", \"1993-03-01\", \"1993-04-01\", \"1993-05-01\", \"1993-06-01\", \"1993-07-01\", \"1993-08-01\", \"1993-09-01\", \"1993-10-01\", \"1993-11-01\", \"1993-12-01\", \"1994-01-01\", \"1994-02-01\", \"1994-03-01\", \"1994-04-01\", \"1994-05-01\", \"1994-06-01\", \"1994-07-01\", \"1994-08-01\", \"1994-09-01\", \"1994-10-01\", \"1994-11-01\", \"1994-12-01\", \"1995-01-01\", \"1995-02-01\", \"1995-03-01\", \"1995-04-01\", \"1995-05-01\", \"1995-06-01\", \"1995-07-01\", \"1995-08-01\", \"1995-09-01\", \"1995-10-01\", \"1995-11-01\", \"1995-12-01\", \"1996-01-01\", \"1996-02-01\", \"1996-03-01\", \"1996-04-01\", \"1996-05-01\", \"1996-06-01\", \"1996-07-01\", \"1996-08-01\", \"1996-09-01\", \"1996-10-01\", \"1996-11-01\", \"1996-12-01\", \"1997-01-01\", \"1997-02-01\", \"1997-03-01\", \"1997-04-01\", \"1997-05-01\", \"1997-06-01\", \"1997-07-01\", \"1997-08-01\", \"1997-09-01\", \"1997-10-01\", \"1997-11-01\", \"1997-12-01\", \"1998-01-01\", \"1998-02-01\", \"1998-03-01\", \"1998-04-01\", \"1998-05-01\", \"1998-06-01\", \"1998-07-01\", \"1998-08-01\", \"1998-09-01\", \"1998-10-01\", \"1998-11-01\", \"1998-12-01\", \"1999-01-01\", \"1999-02-01\", \"1999-03-01\", \"1999-04-01\", \"1999-05-01\", \"1999-06-01\", \"1999-07-01\", \"1999-08-01\", \"1999-09-01\", \"1999-10-01\", \"1999-11-01\", \"1999-12-01\", \"2000-01-01\", \"2000-02-01\", \"2000-03-01\", \"2000-04-01\", \"2000-05-01\", \"2000-06-01\", \"2000-07-01\", \"2000-08-01\", \"2000-09-01\", \"2000-10-01\", \"2000-11-01\", \"2000-12-01\", \"2001-01-01\", \"2001-02-01\", \"2001-03-01\", \"2001-04-01\", \"2001-05-01\", \"2001-06-01\", \"2001-07-01\", \"2001-08-01\", \"2001-09-01\", \"2001-10-01\", \"2001-11-01\", \"2001-12-01\", \"2002-01-01\", \"2002-02-01\", \"2002-03-01\", \"2002-04-01\", \"2002-05-01\", \"2002-06-01\", \"2002-07-01\", \"2002-08-01\", \"2002-09-01\", \"2002-10-01\", \"2002-11-01\", \"2002-12-01\", \"2003-01-01\", \"2003-02-01\", \"2003-03-01\", \"2003-04-01\", \"2003-05-01\", \"2003-06-01\", \"2003-07-01\", \"2003-08-01\", \"2003-09-01\", \"2003-10-01\", \"2003-11-01\", \"2003-12-01\", \"2004-01-01\", \"2004-02-01\", \"2004-03-01\", \"2004-04-01\", \"2004-05-01\", \"2004-06-01\", \"2004-07-01\", \"2004-08-01\", \"2004-09-01\", \"2004-10-01\", \"2004-11-01\", \"2004-12-01\", \"2005-01-01\", \"2005-02-01\", \"2005-03-01\", \"2005-04-01\", \"2005-05-01\", \"2005-06-01\", \"2005-07-01\", \"2005-08-01\", \"2005-09-01\", \"2005-10-01\", \"2005-11-01\", \"2005-12-01\", \"2006-01-01\", \"2006-02-01\", \"2006-03-01\", \"2006-04-01\", \"2006-05-01\", \"2006-06-01\", \"2006-07-01\", \"2006-08-01\", \"2006-09-01\", \"2006-10-01\", \"2006-11-01\", \"2006-12-01\", \"2007-01-01\", \"2007-02-01\", \"2007-03-01\", \"2007-04-01\", \"2007-05-01\", \"2007-06-01\", \"2007-07-01\", \"2007-08-01\", \"2007-09-01\", \"2007-10-01\", \"2007-11-01\", \"2007-12-01\", \"2008-01-01\", \"2008-02-01\", \"2008-03-01\", \"2008-04-01\", \"2008-05-01\", \"2008-06-01\", \"2008-07-01\", \"2008-08-01\", \"2008-09-01\", \"2008-10-01\", \"2008-11-01\", \"2008-12-01\", \"2009-01-01\", \"2009-02-01\", \"2009-03-01\", \"2009-04-01\", \"2009-05-01\", \"2009-06-01\", \"2009-07-01\", \"2009-08-01\", \"2009-09-01\", \"2009-10-01\", \"2009-11-01\", \"2009-12-01\", \"2010-01-01\", \"2010-02-01\", \"2010-03-01\", \"2010-04-01\", \"2010-05-01\", \"2010-06-01\", \"2010-07-01\", \"2010-08-01\", \"2010-09-01\", \"2010-10-01\", \"2010-11-01\", \"2010-12-01\", \"2011-01-01\", \"2011-02-01\", \"2011-03-01\", \"2011-04-01\", \"2011-05-01\", \"2011-06-01\", \"2011-07-01\", \"2011-08-01\", \"2011-09-01\", \"2011-10-01\", \"2011-11-01\", \"2011-12-01\", \"2012-01-01\", \"2012-02-01\", \"2012-03-01\", \"2012-04-01\", \"2012-05-01\", \"2012-06-01\", \"2012-07-01\", \"2012-08-01\", \"2012-09-01\", \"2012-10-01\", \"2012-11-01\", \"2012-12-01\", \"2013-01-01\", \"2013-02-01\", \"2013-03-01\", \"2013-04-01\", \"2013-05-01\", \"2013-06-01\", \"2013-07-01\", \"2013-08-01\", \"2013-09-01\", \"2013-10-01\", \"2013-11-01\", \"2013-12-01\", \"2014-01-01\", \"2014-02-01\", \"2014-03-01\", \"2014-04-01\", \"2014-05-01\", \"2014-06-01\", \"2014-07-01\", \"2014-08-01\", \"2014-09-01\"], \"y\": [0.0, 93.19365877806534, 95.99895915555325, 95.20121326846196, 77.10163645023677, 70.90170991798617, 64.80113267470912, 70.09782228054422, 77.29972073056094, 79.49961909212158, 100.59654496459102, 100.70341332391806, 153.70093650650804, 98.71461694926295, 90.06244163659075, 70.88713388919604, 64.90081979815685, 60.84585401701024, 66.76417340028271, 74.89261311946377, 79.61595733883169, 101.4301577087628, 98.9351374219898, 106.56094731104315, 94.67149906082712, 87.94396108785229, 91.95598048440726, 82.72340010711581, 80.6042286816573, 72.35287745817915, 75.9420668326892, 76.13817328818003, 88.4640270238837, 103.92455850869658, 105.19885554538934, 111.87685663116677, 94.46773407192322, 85.19859416396189, 89.44636556438209, 79.16380434361626, 79.27037962193663, 68.81608383685253, 72.56069393245299, 73.26420603091123, 84.82512238328128, 99.4087441832157, 100.68729976988924, 112.84473427026339, 92.89265423583198, 85.84175371988961, 91.7112128690896, 82.30458428534578, 80.11784683792128, 74.95050391265337, 78.39545750972523, 80.86755427219859, 94.64742156727249, 100.60922930060946, 103.65718578391848, 117.16142905501381, 97.70810171441029, 94.52747546351597, 91.3534138439023, 82.08840343557415, 78.4144236561856, 70.35388545805783, 80.24564912783356, 87.19570159200882, 94.6902529947202, 100.59120952958222, 106.45989785746576, 115.22493407638221, 104.01807466908869, 97.9161655720387, 95.0503212707071, 86.05565279865307, 80.20823103327174, 72.23294854956049, 80.41735062367195, 88.832597015541, 97.77708759561526, 108.63151461361379, 112.73041661211616, 114.75477040487878, 103.28665606321947, 91.66232571958777, 96.04951548008691, 94.1769341477057, 88.88747898075734, 78.11647451018986, 87.13423625292222, 91.66190344718301, 98.9477480596857, 115.46548100327345, 113.65008310049733, 119.2888175131013, 108.10175210672361, 92.24552369685524, 100.01851148152976, 97.09053008646595, 90.29955012759487, 77.34158086053, 90.82219479959329, 96.16734792478331, 107.70988604212779, 124.71949113675404, 123.07651910056249, 130.05218475859644, 113.33626871493502, 102.70657567184668, 107.40876034104863, 101.03801189460916, 94.63584790069604, 85.7632545806214, 89.91398409216251, 103.41584102645226, 113.5430847645934, 117.26869150422371, 129.38095782149534, 135.36550638953454, 112.31455981095247, 110.29949730502346, 118.98756151601923, 106.05566047305184, 104.88609998012868, 89.78402336292949, 91.37939139142468, 106.13607316031678, 111.95175297147894, 115.68136925449895, 131.79300396833617, 135.63003257078523, 109.81139292485855, 110.49809074851251, 120.21202234450618, 105.86181843399048, 107.59554679608493, 93.89692850019202, 94.62585708811928, 115.00237941384506, 122.32864673337157, 125.08002203734536, 145.33065110567736, 146.26937628649557, 118.92823895489872, 116.8247913983748, 126.63804086973414, 111.10234342345632, 114.00943905736202, 101.23935549642434, 100.94101984886694, 117.62524068035533, 120.41599948941993, 129.40703988077087, 142.63626097673318, 153.37330482626436, 135.75666895986612, 125.00405030349388, 138.90107813550986, 118.57039660034054, 108.18576303248732, 97.68474434402472, 102.53981570939354, 111.48440552932009, 124.6501561330668, 141.8992202898084, 145.73357100374992, 160.5122920511161, 140.00209167406285, 123.49946165394104, 140.39441055224017, 123.77372671332994, 115.75098845305635, 106.59117244909905, 114.63833480747806, 118.33589656846499, 133.28461001944308, 143.36320882967541, 145.3368768736943, 164.27677563019344, 137.05982315651596, 126.73055812501708, 145.77255005789803, 130.30851244296912, 124.14919413372048, 120.61623048551947, 121.0106525701044, 126.28954915533045, 142.24975135880788, 144.72182735400014, 152.57390767821158, 173.89669344649494, 140.12100209504055, 130.1236957417759, 150.78070855855972, 134.09291284975689, 127.34495915195798, 119.94467535885178, 119.63846836021254, 132.7993502266903, 138.463782012114, 150.9388957249596, 164.53959262084948, 175.74950144874805, 144.78893894393227, 139.50605302423583, 151.10337570812348, 139.2739117287806, 140.75890818197757, 124.53493010799056, 126.08614265820157, 145.68254115674247, 147.54260975108184, 162.96234872703113, 177.92919134823538, 188.30185328526153, 163.79616999156815, 150.28011655905132, 158.0939532850517, 154.96363671472187, 145.70775672332294, 123.51046195818186, 146.1148149678347, 149.3021904048779, 152.52161140628266, 186.80549448436514, 191.0727647471661, 196.68085612644785, 172.79945861316088, 154.00784354366363, 162.75076817090078, 162.78313084424704, 161.58518926764336, 124.35131566959691, 143.35248106399658, 161.2088867287546, 157.26658267501458, 184.47024295734138, 197.03688745748832, 193.39335085404088, 171.27246572693053, 164.53335022077178, 169.28112210956417, 163.22607031321883, 157.4864612339532, 133.38476975189792, 138.63290006019434, 145.21502783755304, 155.99882653574707, 171.21437915685016, 179.8754554673319, 208.10339444916178, 168.38104090967192, 159.23001372676856, 181.74044444901813, 151.23315218952965, 154.01924854403276, 137.04999365219646, 137.58584530722632, 150.14994347204487, 161.29427186264067, 168.29411975780314, 180.90763204557604, 209.25225651861373, 166.01277952092434, 163.09193092050066, 179.61976616028318, 159.25713450485904, 162.57845472008472, 145.2110002109103, 145.86816664213887, 158.83774066918377, 167.6830506128688, 175.37405494877356, 192.3308424548833, 206.58943963594137, 173.13820754414374, 162.91121472707937, 173.86717355124594, 163.67471792655755, 161.28286705561044, 137.67579548535437, 138.0982205154028, 149.4099595910592, 152.54464769053683, 174.21216293694098, 198.99520322368147, 213.37397846790344, 174.8816102117318, 158.3686916823658, 167.45853039856343, 158.12430765981668, 157.72406900431426, 135.83057940659074, 143.35941121105157, 150.04381202221822, 150.2104248893637, 173.4230712711355, 180.1068244565127, 197.53294351419981, 173.97695395519685, 158.14521373093453, 175.25682507296696, 158.7815455385296, 153.9713144215829, 136.12857951519032, 153.60934194605946, 158.17590205614303, 160.56910494421751, 169.42494981224027, 182.58791783870845, 211.5759510375117, 194.97216826483915, 172.40485855372674, 179.69844001650372, 153.03305185082155, 146.1650946513525, 130.50150067330148, 152.00791208996702, 158.4853820306144, 165.21659059304852, 171.58927625511404, 172.85265014929269, 206.67703090719561, 168.40205430335308, 159.1705193870665, 176.97868526096696, 151.03223937024362, 148.1544159638018, 142.5522309075386, 149.3951890577208, 165.17651541012103, 165.44592050823243, 159.60562366023228, 182.94889357645488, 193.30504494658288, 146.12305159259833, 146.8169233977236, 157.6370031378003, 134.75657173489978, 141.7025581529952, 118.79725364904064, 134.73744770413714, 162.22732703852688, 153.35991952844503, 165.09308095503582, 185.44403479133638, 193.55125144700588, 156.45160510525935, 145.34838171751014, 159.39773683310136, 148.501921974723, 143.51526641498924, 125.27094785758274, 136.13757101039712, 147.85345518395533, 140.80663398362404]}, {\"marker\": {\"color\": \"blue\"}, \"name\": \"test\", \"type\": \"scatter\", \"x\": [\"2014-10-01\", \"2014-11-01\", \"2014-12-01\", \"2015-01-01\", \"2015-02-01\", \"2015-03-01\", \"2015-04-01\", \"2015-05-01\", \"2015-06-01\", \"2015-07-01\", \"2015-08-01\", \"2015-09-01\", \"2015-10-01\", \"2015-11-01\", \"2015-12-01\", \"2016-01-01\", \"2016-02-01\", \"2016-03-01\", \"2016-04-01\", \"2016-05-01\", \"2016-06-01\", \"2016-07-01\", \"2016-08-01\", \"2016-09-01\", \"2016-10-01\", \"2016-11-01\", \"2016-12-01\", \"2017-01-01\", \"2017-02-01\", \"2017-03-01\", \"2017-04-01\", \"2017-05-01\", \"2017-06-01\", \"2017-07-01\", \"2017-08-01\", \"2017-09-01\", \"2017-10-01\", \"2017-11-01\", \"2017-12-01\", \"2018-01-01\"], \"y\": [181.6, 182.0, 190.0, 161.2, 155.5, 141.9, 164.6, 136.2, 126.8, 152.5, 126.6, 150.1, 186.3, 147.5, 200.4, 177.2, 127.4, 177.1, 154.4, 135.2, 126.4, 147.3, 140.6, 152.3, 151.2, 172.2, 215.3, 154.1, 159.3, 160.4, 151.9, 148.4, 139.6, 148.2, 153.5, 145.1, 183.7, 210.5, 203.3, 153.3]}, {\"marker\": {\"color\": \"green\"}, \"name\": \"predict\", \"type\": \"scatter\", \"x\": [\"2014-10-01\", \"2014-11-01\", \"2014-12-01\", \"2015-01-01\", \"2015-02-01\", \"2015-03-01\", \"2015-04-01\", \"2015-05-01\", \"2015-06-01\", \"2015-07-01\", \"2015-08-01\", \"2015-09-01\", \"2015-10-01\", \"2015-11-01\", \"2015-12-01\", \"2016-01-01\", \"2016-02-01\", \"2016-03-01\", \"2016-04-01\", \"2016-05-01\", \"2016-06-01\", \"2016-07-01\", \"2016-08-01\", \"2016-09-01\", \"2016-10-01\", \"2016-11-01\", \"2016-12-01\", \"2017-01-01\", \"2017-02-01\", \"2017-03-01\", \"2017-04-01\", \"2017-05-01\", \"2017-06-01\", \"2017-07-01\", \"2017-08-01\", \"2017-09-01\", \"2017-10-01\", \"2017-11-01\", \"2017-12-01\", \"2018-01-01\"], \"y\": [167.22437760620394, 185.2163960160269, 204.0657683659473, 165.91603061091246, 141.013189782185, 156.68727756832243, 150.07322490892892, 139.51480425094758, 128.84248016175627, 142.31265395115747, 139.59593164471235, 139.70522978016155, 166.42249533363434, 184.20076233743163, 206.77065268900915, 166.74423233098068, 140.72776676458975, 157.41185694397598, 151.44817792381724, 139.98384546872364, 129.23034307161745, 143.21274930266537, 140.448003292313, 140.24434675913767, 167.0787144012953, 185.00888440438254, 207.4749419679344, 167.38092623212182, 141.44477901162506, 158.14861899688236, 152.1324572957229, 140.6689903284925, 129.94688329729925, 143.920888925038, 141.13948761707317, 140.9449464039621, 167.7870542349254, 185.70983515468092, 208.17309563411777, 168.08419221972565]}],                        {\"height\": 700, \"template\": {\"data\": {\"bar\": [{\"error_x\": {\"color\": \"#2a3f5f\"}, \"error_y\": {\"color\": \"#2a3f5f\"}, \"marker\": {\"line\": {\"color\": \"#E5ECF6\", \"width\": 0.5}}, \"type\": \"bar\"}], \"barpolar\": [{\"marker\": {\"line\": {\"color\": \"#E5ECF6\", \"width\": 0.5}}, \"type\": \"barpolar\"}], \"carpet\": [{\"aaxis\": {\"endlinecolor\": \"#2a3f5f\", \"gridcolor\": \"white\", \"linecolor\": \"white\", \"minorgridcolor\": \"white\", \"startlinecolor\": \"#2a3f5f\"}, \"baxis\": {\"endlinecolor\": \"#2a3f5f\", \"gridcolor\": \"white\", \"linecolor\": \"white\", \"minorgridcolor\": \"white\", \"startlinecolor\": \"#2a3f5f\"}, \"type\": \"carpet\"}], \"choropleth\": [{\"colorbar\": {\"outlinewidth\": 0, \"ticks\": \"\"}, \"type\": \"choropleth\"}], \"contour\": [{\"colorbar\": {\"outlinewidth\": 0, \"ticks\": \"\"}, \"colorscale\": [[0.0, \"#0d0887\"], [0.1111111111111111, \"#46039f\"], [0.2222222222222222, \"#7201a8\"], [0.3333333333333333, \"#9c179e\"], [0.4444444444444444, \"#bd3786\"], [0.5555555555555556, \"#d8576b\"], [0.6666666666666666, \"#ed7953\"], [0.7777777777777778, \"#fb9f3a\"], [0.8888888888888888, \"#fdca26\"], [1.0, \"#f0f921\"]], \"type\": \"contour\"}], \"contourcarpet\": [{\"colorbar\": {\"outlinewidth\": 0, \"ticks\": \"\"}, \"type\": \"contourcarpet\"}], \"heatmap\": [{\"colorbar\": {\"outlinewidth\": 0, \"ticks\": \"\"}, \"colorscale\": [[0.0, \"#0d0887\"], [0.1111111111111111, \"#46039f\"], [0.2222222222222222, \"#7201a8\"], [0.3333333333333333, \"#9c179e\"], [0.4444444444444444, \"#bd3786\"], [0.5555555555555556, \"#d8576b\"], [0.6666666666666666, \"#ed7953\"], [0.7777777777777778, \"#fb9f3a\"], [0.8888888888888888, \"#fdca26\"], [1.0, \"#f0f921\"]], \"type\": \"heatmap\"}], \"heatmapgl\": [{\"colorbar\": {\"outlinewidth\": 0, \"ticks\": \"\"}, \"colorscale\": [[0.0, \"#0d0887\"], [0.1111111111111111, \"#46039f\"], [0.2222222222222222, \"#7201a8\"], [0.3333333333333333, \"#9c179e\"], [0.4444444444444444, \"#bd3786\"], [0.5555555555555556, \"#d8576b\"], [0.6666666666666666, \"#ed7953\"], [0.7777777777777778, \"#fb9f3a\"], [0.8888888888888888, \"#fdca26\"], [1.0, \"#f0f921\"]], \"type\": \"heatmapgl\"}], \"histogram\": [{\"marker\": {\"colorbar\": {\"outlinewidth\": 0, \"ticks\": \"\"}}, \"type\": \"histogram\"}], \"histogram2d\": [{\"colorbar\": {\"outlinewidth\": 0, \"ticks\": \"\"}, \"colorscale\": [[0.0, \"#0d0887\"], [0.1111111111111111, \"#46039f\"], [0.2222222222222222, \"#7201a8\"], [0.3333333333333333, \"#9c179e\"], [0.4444444444444444, \"#bd3786\"], [0.5555555555555556, \"#d8576b\"], [0.6666666666666666, \"#ed7953\"], [0.7777777777777778, \"#fb9f3a\"], [0.8888888888888888, \"#fdca26\"], [1.0, \"#f0f921\"]], \"type\": \"histogram2d\"}], \"histogram2dcontour\": [{\"colorbar\": {\"outlinewidth\": 0, \"ticks\": \"\"}, \"colorscale\": [[0.0, \"#0d0887\"], [0.1111111111111111, \"#46039f\"], [0.2222222222222222, \"#7201a8\"], [0.3333333333333333, \"#9c179e\"], [0.4444444444444444, \"#bd3786\"], [0.5555555555555556, \"#d8576b\"], [0.6666666666666666, \"#ed7953\"], [0.7777777777777778, \"#fb9f3a\"], [0.8888888888888888, \"#fdca26\"], [1.0, \"#f0f921\"]], \"type\": \"histogram2dcontour\"}], \"mesh3d\": [{\"colorbar\": {\"outlinewidth\": 0, \"ticks\": \"\"}, \"type\": \"mesh3d\"}], \"parcoords\": [{\"line\": {\"colorbar\": {\"outlinewidth\": 0, \"ticks\": \"\"}}, \"type\": \"parcoords\"}], \"pie\": [{\"automargin\": true, \"type\": \"pie\"}], \"scatter\": [{\"marker\": {\"colorbar\": {\"outlinewidth\": 0, \"ticks\": \"\"}}, \"type\": \"scatter\"}], \"scatter3d\": [{\"line\": {\"colorbar\": {\"outlinewidth\": 0, \"ticks\": \"\"}}, \"marker\": {\"colorbar\": {\"outlinewidth\": 0, \"ticks\": \"\"}}, \"type\": \"scatter3d\"}], \"scattercarpet\": [{\"marker\": {\"colorbar\": {\"outlinewidth\": 0, \"ticks\": \"\"}}, \"type\": \"scattercarpet\"}], \"scattergeo\": [{\"marker\": {\"colorbar\": {\"outlinewidth\": 0, \"ticks\": \"\"}}, \"type\": \"scattergeo\"}], \"scattergl\": [{\"marker\": {\"colorbar\": {\"outlinewidth\": 0, \"ticks\": \"\"}}, \"type\": \"scattergl\"}], \"scattermapbox\": [{\"marker\": {\"colorbar\": {\"outlinewidth\": 0, \"ticks\": \"\"}}, \"type\": \"scattermapbox\"}], \"scatterpolar\": [{\"marker\": {\"colorbar\": {\"outlinewidth\": 0, \"ticks\": \"\"}}, \"type\": \"scatterpolar\"}], \"scatterpolargl\": [{\"marker\": {\"colorbar\": {\"outlinewidth\": 0, \"ticks\": \"\"}}, \"type\": \"scatterpolargl\"}], \"scatterternary\": [{\"marker\": {\"colorbar\": {\"outlinewidth\": 0, \"ticks\": \"\"}}, \"type\": \"scatterternary\"}], \"surface\": [{\"colorbar\": {\"outlinewidth\": 0, \"ticks\": \"\"}, \"colorscale\": [[0.0, \"#0d0887\"], [0.1111111111111111, \"#46039f\"], [0.2222222222222222, \"#7201a8\"], [0.3333333333333333, \"#9c179e\"], [0.4444444444444444, \"#bd3786\"], [0.5555555555555556, \"#d8576b\"], [0.6666666666666666, \"#ed7953\"], [0.7777777777777778, \"#fb9f3a\"], [0.8888888888888888, \"#fdca26\"], [1.0, \"#f0f921\"]], \"type\": \"surface\"}], \"table\": [{\"cells\": {\"fill\": {\"color\": \"#EBF0F8\"}, \"line\": {\"color\": \"white\"}}, \"header\": {\"fill\": {\"color\": \"#C8D4E3\"}, \"line\": {\"color\": \"white\"}}, \"type\": \"table\"}]}, \"layout\": {\"annotationdefaults\": {\"arrowcolor\": \"#2a3f5f\", \"arrowhead\": 0, \"arrowwidth\": 1}, \"coloraxis\": {\"colorbar\": {\"outlinewidth\": 0, \"ticks\": \"\"}}, \"colorscale\": {\"diverging\": [[0, \"#8e0152\"], [0.1, \"#c51b7d\"], [0.2, \"#de77ae\"], [0.3, \"#f1b6da\"], [0.4, \"#fde0ef\"], [0.5, \"#f7f7f7\"], [0.6, \"#e6f5d0\"], [0.7, \"#b8e186\"], [0.8, \"#7fbc41\"], [0.9, \"#4d9221\"], [1, \"#276419\"]], \"sequential\": [[0.0, \"#0d0887\"], [0.1111111111111111, \"#46039f\"], [0.2222222222222222, \"#7201a8\"], [0.3333333333333333, \"#9c179e\"], [0.4444444444444444, \"#bd3786\"], [0.5555555555555556, \"#d8576b\"], [0.6666666666666666, \"#ed7953\"], [0.7777777777777778, \"#fb9f3a\"], [0.8888888888888888, \"#fdca26\"], [1.0, \"#f0f921\"]], \"sequentialminus\": [[0.0, \"#0d0887\"], [0.1111111111111111, \"#46039f\"], [0.2222222222222222, \"#7201a8\"], [0.3333333333333333, \"#9c179e\"], [0.4444444444444444, \"#bd3786\"], [0.5555555555555556, \"#d8576b\"], [0.6666666666666666, \"#ed7953\"], [0.7777777777777778, \"#fb9f3a\"], [0.8888888888888888, \"#fdca26\"], [1.0, \"#f0f921\"]]}, \"colorway\": [\"#636efa\", \"#EF553B\", \"#00cc96\", \"#ab63fa\", \"#FFA15A\", \"#19d3f3\", \"#FF6692\", \"#B6E880\", \"#FF97FF\", \"#FECB52\"], \"font\": {\"color\": \"#2a3f5f\"}, \"geo\": {\"bgcolor\": \"white\", \"lakecolor\": \"white\", \"landcolor\": \"#E5ECF6\", \"showlakes\": true, \"showland\": true, \"subunitcolor\": \"white\"}, \"hoverlabel\": {\"align\": \"left\"}, \"hovermode\": \"closest\", \"mapbox\": {\"style\": \"light\"}, \"paper_bgcolor\": \"white\", \"plot_bgcolor\": \"#E5ECF6\", \"polar\": {\"angularaxis\": {\"gridcolor\": \"white\", \"linecolor\": \"white\", \"ticks\": \"\"}, \"bgcolor\": \"#E5ECF6\", \"radialaxis\": {\"gridcolor\": \"white\", \"linecolor\": \"white\", \"ticks\": \"\"}}, \"scene\": {\"xaxis\": {\"backgroundcolor\": \"#E5ECF6\", \"gridcolor\": \"white\", \"gridwidth\": 2, \"linecolor\": \"white\", \"showbackground\": true, \"ticks\": \"\", \"zerolinecolor\": \"white\"}, \"yaxis\": {\"backgroundcolor\": \"#E5ECF6\", \"gridcolor\": \"white\", \"gridwidth\": 2, \"linecolor\": \"white\", \"showbackground\": true, \"ticks\": \"\", \"zerolinecolor\": \"white\"}, \"zaxis\": {\"backgroundcolor\": \"#E5ECF6\", \"gridcolor\": \"white\", \"gridwidth\": 2, \"linecolor\": \"white\", \"showbackground\": true, \"ticks\": \"\", \"zerolinecolor\": \"white\"}}, \"shapedefaults\": {\"line\": {\"color\": \"#2a3f5f\"}}, \"ternary\": {\"aaxis\": {\"gridcolor\": \"white\", \"linecolor\": \"white\", \"ticks\": \"\"}, \"baxis\": {\"gridcolor\": \"white\", \"linecolor\": \"white\", \"ticks\": \"\"}, \"bgcolor\": \"#E5ECF6\", \"caxis\": {\"gridcolor\": \"white\", \"linecolor\": \"white\", \"ticks\": \"\"}}, \"title\": {\"x\": 0.05}, \"xaxis\": {\"automargin\": true, \"gridcolor\": \"white\", \"linecolor\": \"white\", \"ticks\": \"\", \"title\": {\"standoff\": 15}, \"zerolinecolor\": \"white\", \"zerolinewidth\": 2}, \"yaxis\": {\"automargin\": true, \"gridcolor\": \"white\", \"linecolor\": \"white\", \"ticks\": \"\", \"title\": {\"standoff\": 15}, \"zerolinecolor\": \"white\", \"zerolinewidth\": 2}}}, \"title\": {\"text\": \"Graph\"}, \"xaxis\": {\"title\": {\"text\": \"Time\"}}, \"yaxis\": {\"title\": {\"text\": \"Value\"}}},                        {\"responsive\": true}                    ).then(function(){\n",
       "                            \n",
       "var gd = document.getElementById('f769e992-d715-4638-9e68-3a4633795d10');\n",
       "var x = new MutationObserver(function (mutations, observer) {{\n",
       "        var display = window.getComputedStyle(gd).display;\n",
       "        if (!display || display === 'none') {{\n",
       "            console.log([gd, 'removed!']);\n",
       "            Plotly.purge(gd);\n",
       "            observer.disconnect();\n",
       "        }}\n",
       "}});\n",
       "\n",
       "// Listen for the removal of the full notebook cells\n",
       "var notebookContainer = gd.closest('#notebook-container');\n",
       "if (notebookContainer) {{\n",
       "    x.observe(notebookContainer, {childList: true});\n",
       "}}\n",
       "\n",
       "// Listen for the clearing of the current output cell\n",
       "var outputEl = gd.closest('.output');\n",
       "if (outputEl) {{\n",
       "    x.observe(outputEl, {childList: true});\n",
       "}}\n",
       "\n",
       "                        })                };                });            </script>        </div>"
      ]
     },
     "metadata": {},
     "output_type": "display_data"
    }
   ],
   "source": [
    "trace0 = go.Scatter(\n",
    "        x=df_train.index, y=df_train['BEER_PROD'], name= 'train part', marker ={'color': 'blue'}\n",
    "            )\n",
    "\n",
    "trace1 = go.Scatter(\n",
    "        x=df_train.index, y= df_train['sarima_fitted'], name='fitted part'\n",
    "    )\n",
    "\n",
    "trace2 = go.Scatter(\n",
    "        x=df_test.index, y=df_test['BEER_PROD'], name= 'test', marker ={'color': 'blue'}\n",
    "    )\n",
    "\n",
    "trace3 = go.Scatter(\n",
    "        x=df_test.index, y=pred, name= 'predict', marker ={'color': 'green'}\n",
    "    )\n",
    "\n",
    "data= [trace0, trace1, trace2, trace3]\n",
    "    # data =[]\n",
    "layout = go.Layout(\n",
    "        title=\"Graph\",\n",
    "        height=700,\n",
    "    )\n",
    "\n",
    "fig = go.Figure(data=data, layout=layout)\n",
    "\n",
    "#fig.update_xaxes(rangeslider_visible=True)\n",
    "\n",
    "fig.update_layout(\n",
    "        xaxis_title=\"Time\",\n",
    "        yaxis_title=\"Value\",\n",
    "        #template='plotly_dark'\n",
    ")\n",
    "fig"
   ]
  },
  {
   "cell_type": "code",
   "execution_count": null,
   "metadata": {},
   "outputs": [],
   "source": []
  },
  {
   "cell_type": "code",
   "execution_count": 33,
   "metadata": {},
   "outputs": [
    {
     "data": {
      "application/vnd.plotly.v1+json": {
       "config": {
        "plotlyServerURL": "https://plot.ly"
       },
       "data": [
        {
         "marker": {
          "color": "blue"
         },
         "name": "train part",
         "type": "scatter",
         "x": [
          "1985-01-01",
          "1985-02-01",
          "1985-03-01",
          "1985-04-01",
          "1985-05-01",
          "1985-06-01",
          "1985-07-01",
          "1985-08-01",
          "1985-09-01",
          "1985-10-01",
          "1985-11-01",
          "1985-12-01",
          "1986-01-01",
          "1986-02-01",
          "1986-03-01",
          "1986-04-01",
          "1986-05-01",
          "1986-06-01",
          "1986-07-01",
          "1986-08-01",
          "1986-09-01",
          "1986-10-01",
          "1986-11-01",
          "1986-12-01",
          "1987-01-01",
          "1987-02-01",
          "1987-03-01",
          "1987-04-01",
          "1987-05-01",
          "1987-06-01",
          "1987-07-01",
          "1987-08-01",
          "1987-09-01",
          "1987-10-01",
          "1987-11-01",
          "1987-12-01",
          "1988-01-01",
          "1988-02-01",
          "1988-03-01",
          "1988-04-01",
          "1988-05-01",
          "1988-06-01",
          "1988-07-01",
          "1988-08-01",
          "1988-09-01",
          "1988-10-01",
          "1988-11-01",
          "1988-12-01",
          "1989-01-01",
          "1989-02-01",
          "1989-03-01",
          "1989-04-01",
          "1989-05-01",
          "1989-06-01",
          "1989-07-01",
          "1989-08-01",
          "1989-09-01",
          "1989-10-01",
          "1989-11-01",
          "1989-12-01",
          "1990-01-01",
          "1990-02-01",
          "1990-03-01",
          "1990-04-01",
          "1990-05-01",
          "1990-06-01",
          "1990-07-01",
          "1990-08-01",
          "1990-09-01",
          "1990-10-01",
          "1990-11-01",
          "1990-12-01",
          "1991-01-01",
          "1991-02-01",
          "1991-03-01",
          "1991-04-01",
          "1991-05-01",
          "1991-06-01",
          "1991-07-01",
          "1991-08-01",
          "1991-09-01",
          "1991-10-01",
          "1991-11-01",
          "1991-12-01",
          "1992-01-01",
          "1992-02-01",
          "1992-03-01",
          "1992-04-01",
          "1992-05-01",
          "1992-06-01",
          "1992-07-01",
          "1992-08-01",
          "1992-09-01",
          "1992-10-01",
          "1992-11-01",
          "1992-12-01",
          "1993-01-01",
          "1993-02-01",
          "1993-03-01",
          "1993-04-01",
          "1993-05-01",
          "1993-06-01",
          "1993-07-01",
          "1993-08-01",
          "1993-09-01",
          "1993-10-01",
          "1993-11-01",
          "1993-12-01",
          "1994-01-01",
          "1994-02-01",
          "1994-03-01",
          "1994-04-01",
          "1994-05-01",
          "1994-06-01",
          "1994-07-01",
          "1994-08-01",
          "1994-09-01",
          "1994-10-01",
          "1994-11-01",
          "1994-12-01",
          "1995-01-01",
          "1995-02-01",
          "1995-03-01",
          "1995-04-01",
          "1995-05-01",
          "1995-06-01",
          "1995-07-01",
          "1995-08-01",
          "1995-09-01",
          "1995-10-01",
          "1995-11-01",
          "1995-12-01",
          "1996-01-01",
          "1996-02-01",
          "1996-03-01",
          "1996-04-01",
          "1996-05-01",
          "1996-06-01",
          "1996-07-01",
          "1996-08-01",
          "1996-09-01",
          "1996-10-01",
          "1996-11-01",
          "1996-12-01",
          "1997-01-01",
          "1997-02-01",
          "1997-03-01",
          "1997-04-01",
          "1997-05-01",
          "1997-06-01",
          "1997-07-01",
          "1997-08-01",
          "1997-09-01",
          "1997-10-01",
          "1997-11-01",
          "1997-12-01",
          "1998-01-01",
          "1998-02-01",
          "1998-03-01",
          "1998-04-01",
          "1998-05-01",
          "1998-06-01",
          "1998-07-01",
          "1998-08-01",
          "1998-09-01",
          "1998-10-01",
          "1998-11-01",
          "1998-12-01",
          "1999-01-01",
          "1999-02-01",
          "1999-03-01",
          "1999-04-01",
          "1999-05-01",
          "1999-06-01",
          "1999-07-01",
          "1999-08-01",
          "1999-09-01",
          "1999-10-01",
          "1999-11-01",
          "1999-12-01",
          "2000-01-01",
          "2000-02-01",
          "2000-03-01",
          "2000-04-01",
          "2000-05-01",
          "2000-06-01",
          "2000-07-01",
          "2000-08-01",
          "2000-09-01",
          "2000-10-01",
          "2000-11-01",
          "2000-12-01",
          "2001-01-01",
          "2001-02-01",
          "2001-03-01",
          "2001-04-01",
          "2001-05-01",
          "2001-06-01",
          "2001-07-01",
          "2001-08-01",
          "2001-09-01",
          "2001-10-01",
          "2001-11-01",
          "2001-12-01",
          "2002-01-01",
          "2002-02-01",
          "2002-03-01",
          "2002-04-01",
          "2002-05-01",
          "2002-06-01",
          "2002-07-01",
          "2002-08-01",
          "2002-09-01",
          "2002-10-01",
          "2002-11-01",
          "2002-12-01",
          "2003-01-01",
          "2003-02-01",
          "2003-03-01",
          "2003-04-01",
          "2003-05-01",
          "2003-06-01",
          "2003-07-01",
          "2003-08-01",
          "2003-09-01",
          "2003-10-01",
          "2003-11-01",
          "2003-12-01",
          "2004-01-01",
          "2004-02-01",
          "2004-03-01",
          "2004-04-01",
          "2004-05-01",
          "2004-06-01",
          "2004-07-01",
          "2004-08-01",
          "2004-09-01",
          "2004-10-01",
          "2004-11-01",
          "2004-12-01",
          "2005-01-01",
          "2005-02-01",
          "2005-03-01",
          "2005-04-01",
          "2005-05-01",
          "2005-06-01",
          "2005-07-01",
          "2005-08-01",
          "2005-09-01",
          "2005-10-01",
          "2005-11-01",
          "2005-12-01",
          "2006-01-01",
          "2006-02-01",
          "2006-03-01",
          "2006-04-01",
          "2006-05-01",
          "2006-06-01",
          "2006-07-01",
          "2006-08-01",
          "2006-09-01",
          "2006-10-01",
          "2006-11-01",
          "2006-12-01",
          "2007-01-01",
          "2007-02-01",
          "2007-03-01",
          "2007-04-01",
          "2007-05-01",
          "2007-06-01",
          "2007-07-01",
          "2007-08-01",
          "2007-09-01",
          "2007-10-01",
          "2007-11-01",
          "2007-12-01",
          "2008-01-01",
          "2008-02-01",
          "2008-03-01",
          "2008-04-01",
          "2008-05-01",
          "2008-06-01",
          "2008-07-01",
          "2008-08-01",
          "2008-09-01",
          "2008-10-01",
          "2008-11-01",
          "2008-12-01",
          "2009-01-01",
          "2009-02-01",
          "2009-03-01",
          "2009-04-01",
          "2009-05-01",
          "2009-06-01",
          "2009-07-01",
          "2009-08-01",
          "2009-09-01",
          "2009-10-01",
          "2009-11-01",
          "2009-12-01",
          "2010-01-01",
          "2010-02-01",
          "2010-03-01",
          "2010-04-01",
          "2010-05-01",
          "2010-06-01",
          "2010-07-01",
          "2010-08-01",
          "2010-09-01",
          "2010-10-01",
          "2010-11-01",
          "2010-12-01",
          "2011-01-01",
          "2011-02-01",
          "2011-03-01",
          "2011-04-01",
          "2011-05-01",
          "2011-06-01",
          "2011-07-01",
          "2011-08-01",
          "2011-09-01",
          "2011-10-01",
          "2011-11-01",
          "2011-12-01",
          "2012-01-01",
          "2012-02-01",
          "2012-03-01",
          "2012-04-01",
          "2012-05-01",
          "2012-06-01",
          "2012-07-01",
          "2012-08-01",
          "2012-09-01",
          "2012-10-01",
          "2012-11-01",
          "2012-12-01",
          "2013-01-01",
          "2013-02-01",
          "2013-03-01",
          "2013-04-01",
          "2013-05-01",
          "2013-06-01",
          "2013-07-01",
          "2013-08-01",
          "2013-09-01",
          "2013-10-01",
          "2013-11-01",
          "2013-12-01",
          "2014-01-01",
          "2014-02-01",
          "2014-03-01",
          "2014-04-01",
          "2014-05-01",
          "2014-06-01",
          "2014-07-01",
          "2014-08-01",
          "2014-09-01"
         ],
         "y": [
          93.2,
          96,
          95.2,
          77.1,
          70.9,
          64.8,
          70.1,
          77.3,
          79.5,
          100.6,
          100.7,
          107.1,
          95.9,
          82.8,
          83.3,
          80,
          80.4,
          67.5,
          75.7,
          71.1,
          89.3,
          101.1,
          105.2,
          114.1,
          96.3,
          84.4,
          91.2,
          81.9,
          80.5,
          70.4,
          74.8,
          75.9,
          86.3,
          98.7,
          100.9,
          113.8,
          89.8,
          84.4,
          87.2,
          85.6,
          72,
          69.2,
          77.5,
          78.1,
          94.3,
          97.7,
          100.2,
          116.4,
          97.1,
          93,
          96,
          80.5,
          76.1,
          69.9,
          73.6,
          92.6,
          94.2,
          93.5,
          108.5,
          109.4,
          105.1,
          92.5,
          97.1,
          81.4,
          79.1,
          72.1,
          78.7,
          87.1,
          91.4,
          109.9,
          116.3,
          113,
          100,
          84.8,
          94.3,
          87.1,
          90.3,
          72.4,
          84.9,
          92.7,
          92.2,
          114.9,
          112.5,
          118.3,
          106,
          91.2,
          96.6,
          96.3,
          88.2,
          70.2,
          86.5,
          88.2,
          102.8,
          119.1,
          119.2,
          125.1,
          106.1,
          102.1,
          105.2,
          101,
          84.3,
          87.5,
          92.7,
          94.4,
          113,
          113.9,
          122.9,
          132.7,
          106.9,
          96.6,
          127.3,
          98.2,
          100.2,
          89.4,
          95.3,
          104.2,
          106.4,
          116.2,
          135.9,
          134,
          104.6,
          107.1,
          123.5,
          98.8,
          98.6,
          90.6,
          89.1,
          105.2,
          114,
          122.1,
          138,
          142.2,
          116.4,
          112.6,
          123.8,
          103.6,
          113.9,
          98.6,
          95,
          116,
          113.9,
          127.5,
          131.4,
          145.9,
          131.5,
          131,
          130.5,
          118.9,
          114.3,
          85.7,
          104.6,
          105.1,
          117.3,
          142.5,
          140,
          159.8,
          131.2,
          125.4,
          126.5,
          119.4,
          113.5,
          98.7,
          114.5,
          113.8,
          133.1,
          143.4,
          137.3,
          165.2,
          126.9,
          124,
          135.7,
          130,
          109.4,
          117.8,
          120.3,
          121,
          132.3,
          142.9,
          147.4,
          175.9,
          132.6,
          123.7,
          153.3,
          134,
          119.6,
          116.2,
          118.6,
          130.7,
          129.3,
          144.4,
          163.2,
          179.4,
          128.1,
          138.4,
          152.7,
          120,
          140.5,
          116.2,
          121.4,
          127.8,
          143.6,
          157.6,
          166.2,
          182.3,
          153.1,
          147.6,
          157.7,
          137.2,
          151.5,
          98.7,
          145.8,
          151.7,
          129.4,
          174.1,
          197,
          193.9,
          164.1,
          142.8,
          157.9,
          159.2,
          162.2,
          123.1,
          130,
          150.1,
          169.4,
          179.7,
          182.1,
          194.3,
          161.4,
          169.4,
          168.8,
          158.1,
          158.5,
          135.3,
          149.3,
          143.4,
          142.2,
          188.4,
          166.2,
          199.2,
          182.7,
          145.2,
          182.1,
          158.7,
          141.6,
          132.6,
          139.6,
          147,
          166.6,
          157,
          180.4,
          210.2,
          159.8,
          157.8,
          168.2,
          158.4,
          152,
          142.2,
          137.2,
          152.6,
          166.8,
          165.6,
          198.6,
          201.5,
          170.7,
          164.4,
          179.7,
          157,
          168,
          139.3,
          138.6,
          153.4,
          138.9,
          172.1,
          198.4,
          217.8,
          173.7,
          153.8,
          175.6,
          147.1,
          160.3,
          135.2,
          148.8,
          151,
          148.2,
          182.2,
          189.2,
          183.1,
          170,
          158.4,
          176.1,
          156.2,
          153.2,
          117.9,
          149.8,
          156.6,
          166.7,
          156.8,
          158.6,
          210.8,
          203.6,
          175.2,
          168.7,
          155.9,
          147.3,
          137,
          141.1,
          167.4,
          160.2,
          191.9,
          174.4,
          208.2,
          159.4,
          161.1,
          172.1,
          158.4,
          114.6,
          159.6,
          159.7,
          159.4,
          160.7,
          165.5,
          205,
          205.2,
          141.6,
          148.1,
          184.9,
          132.5,
          137.3,
          135.5,
          121.7,
          166.1,
          146.8,
          162.8,
          186.8,
          185.5,
          151.5,
          158.1,
          143,
          151.2,
          147.6,
          130.7,
          137.5,
          146.1,
          133.6,
          167.9,
          181.9,
          202,
          166.5,
          151.3,
          146.2,
          148.3,
          144.7,
          123.6,
          151.6,
          133.9,
          137.4
         ]
        },
        {
         "name": "fitted part",
         "type": "scatter",
         "x": [
          "1985-01-01",
          "1985-02-01",
          "1985-03-01",
          "1985-04-01",
          "1985-05-01",
          "1985-06-01",
          "1985-07-01",
          "1985-08-01",
          "1985-09-01",
          "1985-10-01",
          "1985-11-01",
          "1985-12-01",
          "1986-01-01",
          "1986-02-01",
          "1986-03-01",
          "1986-04-01",
          "1986-05-01",
          "1986-06-01",
          "1986-07-01",
          "1986-08-01",
          "1986-09-01",
          "1986-10-01",
          "1986-11-01",
          "1986-12-01",
          "1987-01-01",
          "1987-02-01",
          "1987-03-01",
          "1987-04-01",
          "1987-05-01",
          "1987-06-01",
          "1987-07-01",
          "1987-08-01",
          "1987-09-01",
          "1987-10-01",
          "1987-11-01",
          "1987-12-01",
          "1988-01-01",
          "1988-02-01",
          "1988-03-01",
          "1988-04-01",
          "1988-05-01",
          "1988-06-01",
          "1988-07-01",
          "1988-08-01",
          "1988-09-01",
          "1988-10-01",
          "1988-11-01",
          "1988-12-01",
          "1989-01-01",
          "1989-02-01",
          "1989-03-01",
          "1989-04-01",
          "1989-05-01",
          "1989-06-01",
          "1989-07-01",
          "1989-08-01",
          "1989-09-01",
          "1989-10-01",
          "1989-11-01",
          "1989-12-01",
          "1990-01-01",
          "1990-02-01",
          "1990-03-01",
          "1990-04-01",
          "1990-05-01",
          "1990-06-01",
          "1990-07-01",
          "1990-08-01",
          "1990-09-01",
          "1990-10-01",
          "1990-11-01",
          "1990-12-01",
          "1991-01-01",
          "1991-02-01",
          "1991-03-01",
          "1991-04-01",
          "1991-05-01",
          "1991-06-01",
          "1991-07-01",
          "1991-08-01",
          "1991-09-01",
          "1991-10-01",
          "1991-11-01",
          "1991-12-01",
          "1992-01-01",
          "1992-02-01",
          "1992-03-01",
          "1992-04-01",
          "1992-05-01",
          "1992-06-01",
          "1992-07-01",
          "1992-08-01",
          "1992-09-01",
          "1992-10-01",
          "1992-11-01",
          "1992-12-01",
          "1993-01-01",
          "1993-02-01",
          "1993-03-01",
          "1993-04-01",
          "1993-05-01",
          "1993-06-01",
          "1993-07-01",
          "1993-08-01",
          "1993-09-01",
          "1993-10-01",
          "1993-11-01",
          "1993-12-01",
          "1994-01-01",
          "1994-02-01",
          "1994-03-01",
          "1994-04-01",
          "1994-05-01",
          "1994-06-01",
          "1994-07-01",
          "1994-08-01",
          "1994-09-01",
          "1994-10-01",
          "1994-11-01",
          "1994-12-01",
          "1995-01-01",
          "1995-02-01",
          "1995-03-01",
          "1995-04-01",
          "1995-05-01",
          "1995-06-01",
          "1995-07-01",
          "1995-08-01",
          "1995-09-01",
          "1995-10-01",
          "1995-11-01",
          "1995-12-01",
          "1996-01-01",
          "1996-02-01",
          "1996-03-01",
          "1996-04-01",
          "1996-05-01",
          "1996-06-01",
          "1996-07-01",
          "1996-08-01",
          "1996-09-01",
          "1996-10-01",
          "1996-11-01",
          "1996-12-01",
          "1997-01-01",
          "1997-02-01",
          "1997-03-01",
          "1997-04-01",
          "1997-05-01",
          "1997-06-01",
          "1997-07-01",
          "1997-08-01",
          "1997-09-01",
          "1997-10-01",
          "1997-11-01",
          "1997-12-01",
          "1998-01-01",
          "1998-02-01",
          "1998-03-01",
          "1998-04-01",
          "1998-05-01",
          "1998-06-01",
          "1998-07-01",
          "1998-08-01",
          "1998-09-01",
          "1998-10-01",
          "1998-11-01",
          "1998-12-01",
          "1999-01-01",
          "1999-02-01",
          "1999-03-01",
          "1999-04-01",
          "1999-05-01",
          "1999-06-01",
          "1999-07-01",
          "1999-08-01",
          "1999-09-01",
          "1999-10-01",
          "1999-11-01",
          "1999-12-01",
          "2000-01-01",
          "2000-02-01",
          "2000-03-01",
          "2000-04-01",
          "2000-05-01",
          "2000-06-01",
          "2000-07-01",
          "2000-08-01",
          "2000-09-01",
          "2000-10-01",
          "2000-11-01",
          "2000-12-01",
          "2001-01-01",
          "2001-02-01",
          "2001-03-01",
          "2001-04-01",
          "2001-05-01",
          "2001-06-01",
          "2001-07-01",
          "2001-08-01",
          "2001-09-01",
          "2001-10-01",
          "2001-11-01",
          "2001-12-01",
          "2002-01-01",
          "2002-02-01",
          "2002-03-01",
          "2002-04-01",
          "2002-05-01",
          "2002-06-01",
          "2002-07-01",
          "2002-08-01",
          "2002-09-01",
          "2002-10-01",
          "2002-11-01",
          "2002-12-01",
          "2003-01-01",
          "2003-02-01",
          "2003-03-01",
          "2003-04-01",
          "2003-05-01",
          "2003-06-01",
          "2003-07-01",
          "2003-08-01",
          "2003-09-01",
          "2003-10-01",
          "2003-11-01",
          "2003-12-01",
          "2004-01-01",
          "2004-02-01",
          "2004-03-01",
          "2004-04-01",
          "2004-05-01",
          "2004-06-01",
          "2004-07-01",
          "2004-08-01",
          "2004-09-01",
          "2004-10-01",
          "2004-11-01",
          "2004-12-01",
          "2005-01-01",
          "2005-02-01",
          "2005-03-01",
          "2005-04-01",
          "2005-05-01",
          "2005-06-01",
          "2005-07-01",
          "2005-08-01",
          "2005-09-01",
          "2005-10-01",
          "2005-11-01",
          "2005-12-01",
          "2006-01-01",
          "2006-02-01",
          "2006-03-01",
          "2006-04-01",
          "2006-05-01",
          "2006-06-01",
          "2006-07-01",
          "2006-08-01",
          "2006-09-01",
          "2006-10-01",
          "2006-11-01",
          "2006-12-01",
          "2007-01-01",
          "2007-02-01",
          "2007-03-01",
          "2007-04-01",
          "2007-05-01",
          "2007-06-01",
          "2007-07-01",
          "2007-08-01",
          "2007-09-01",
          "2007-10-01",
          "2007-11-01",
          "2007-12-01",
          "2008-01-01",
          "2008-02-01",
          "2008-03-01",
          "2008-04-01",
          "2008-05-01",
          "2008-06-01",
          "2008-07-01",
          "2008-08-01",
          "2008-09-01",
          "2008-10-01",
          "2008-11-01",
          "2008-12-01",
          "2009-01-01",
          "2009-02-01",
          "2009-03-01",
          "2009-04-01",
          "2009-05-01",
          "2009-06-01",
          "2009-07-01",
          "2009-08-01",
          "2009-09-01",
          "2009-10-01",
          "2009-11-01",
          "2009-12-01",
          "2010-01-01",
          "2010-02-01",
          "2010-03-01",
          "2010-04-01",
          "2010-05-01",
          "2010-06-01",
          "2010-07-01",
          "2010-08-01",
          "2010-09-01",
          "2010-10-01",
          "2010-11-01",
          "2010-12-01",
          "2011-01-01",
          "2011-02-01",
          "2011-03-01",
          "2011-04-01",
          "2011-05-01",
          "2011-06-01",
          "2011-07-01",
          "2011-08-01",
          "2011-09-01",
          "2011-10-01",
          "2011-11-01",
          "2011-12-01",
          "2012-01-01",
          "2012-02-01",
          "2012-03-01",
          "2012-04-01",
          "2012-05-01",
          "2012-06-01",
          "2012-07-01",
          "2012-08-01",
          "2012-09-01",
          "2012-10-01",
          "2012-11-01",
          "2012-12-01",
          "2013-01-01",
          "2013-02-01",
          "2013-03-01",
          "2013-04-01",
          "2013-05-01",
          "2013-06-01",
          "2013-07-01",
          "2013-08-01",
          "2013-09-01",
          "2013-10-01",
          "2013-11-01",
          "2013-12-01",
          "2014-01-01",
          "2014-02-01",
          "2014-03-01",
          "2014-04-01",
          "2014-05-01",
          "2014-06-01",
          "2014-07-01",
          "2014-08-01",
          "2014-09-01"
         ],
         "y": [
          0,
          93.19365877806534,
          95.99895915555325,
          95.20121326846196,
          77.10163645023677,
          70.90170991798617,
          64.80113267470912,
          70.09782228054422,
          77.29972073056094,
          79.49961909212158,
          100.59654496459102,
          100.70341332391806,
          153.70093650650804,
          98.71461694926295,
          90.06244163659075,
          70.88713388919604,
          64.90081979815685,
          60.84585401701024,
          66.76417340028271,
          74.89261311946377,
          79.61595733883169,
          101.4301577087628,
          98.9351374219898,
          106.56094731104315,
          94.67149906082712,
          87.94396108785229,
          91.95598048440726,
          82.72340010711581,
          80.6042286816573,
          72.35287745817915,
          75.9420668326892,
          76.13817328818003,
          88.4640270238837,
          103.92455850869658,
          105.19885554538934,
          111.87685663116677,
          94.46773407192322,
          85.19859416396189,
          89.44636556438209,
          79.16380434361626,
          79.27037962193663,
          68.81608383685253,
          72.56069393245299,
          73.26420603091123,
          84.82512238328128,
          99.4087441832157,
          100.68729976988924,
          112.84473427026339,
          92.89265423583198,
          85.84175371988961,
          91.7112128690896,
          82.30458428534578,
          80.11784683792128,
          74.95050391265337,
          78.39545750972523,
          80.86755427219859,
          94.64742156727249,
          100.60922930060946,
          103.65718578391848,
          117.16142905501381,
          97.70810171441029,
          94.52747546351597,
          91.3534138439023,
          82.08840343557415,
          78.4144236561856,
          70.35388545805783,
          80.24564912783356,
          87.19570159200882,
          94.6902529947202,
          100.59120952958222,
          106.45989785746576,
          115.22493407638221,
          104.01807466908869,
          97.9161655720387,
          95.0503212707071,
          86.05565279865307,
          80.20823103327174,
          72.23294854956049,
          80.41735062367195,
          88.832597015541,
          97.77708759561526,
          108.63151461361379,
          112.73041661211616,
          114.75477040487878,
          103.28665606321947,
          91.66232571958777,
          96.04951548008691,
          94.1769341477057,
          88.88747898075734,
          78.11647451018986,
          87.13423625292222,
          91.66190344718301,
          98.9477480596857,
          115.46548100327345,
          113.65008310049733,
          119.2888175131013,
          108.10175210672361,
          92.24552369685524,
          100.01851148152976,
          97.09053008646595,
          90.29955012759487,
          77.34158086053,
          90.82219479959329,
          96.16734792478331,
          107.70988604212779,
          124.71949113675404,
          123.07651910056249,
          130.05218475859644,
          113.33626871493502,
          102.70657567184668,
          107.40876034104863,
          101.03801189460916,
          94.63584790069604,
          85.7632545806214,
          89.91398409216251,
          103.41584102645226,
          113.5430847645934,
          117.26869150422371,
          129.38095782149534,
          135.36550638953454,
          112.31455981095247,
          110.29949730502346,
          118.98756151601923,
          106.05566047305184,
          104.88609998012868,
          89.78402336292949,
          91.37939139142468,
          106.13607316031678,
          111.95175297147894,
          115.68136925449895,
          131.79300396833617,
          135.63003257078523,
          109.81139292485855,
          110.49809074851251,
          120.21202234450618,
          105.86181843399048,
          107.59554679608493,
          93.89692850019202,
          94.62585708811928,
          115.00237941384506,
          122.32864673337157,
          125.08002203734536,
          145.33065110567736,
          146.26937628649557,
          118.92823895489872,
          116.8247913983748,
          126.63804086973414,
          111.10234342345632,
          114.00943905736202,
          101.23935549642434,
          100.94101984886694,
          117.62524068035533,
          120.41599948941993,
          129.40703988077087,
          142.63626097673318,
          153.37330482626436,
          135.75666895986612,
          125.00405030349388,
          138.90107813550986,
          118.57039660034054,
          108.18576303248732,
          97.68474434402472,
          102.53981570939354,
          111.48440552932009,
          124.6501561330668,
          141.8992202898084,
          145.73357100374992,
          160.5122920511161,
          140.00209167406285,
          123.49946165394104,
          140.39441055224017,
          123.77372671332994,
          115.75098845305635,
          106.59117244909905,
          114.63833480747806,
          118.33589656846499,
          133.28461001944308,
          143.36320882967541,
          145.3368768736943,
          164.27677563019344,
          137.05982315651596,
          126.73055812501708,
          145.77255005789803,
          130.30851244296912,
          124.14919413372048,
          120.61623048551947,
          121.0106525701044,
          126.28954915533045,
          142.24975135880788,
          144.72182735400014,
          152.57390767821158,
          173.89669344649494,
          140.12100209504055,
          130.1236957417759,
          150.78070855855972,
          134.09291284975689,
          127.34495915195798,
          119.94467535885178,
          119.63846836021254,
          132.7993502266903,
          138.463782012114,
          150.9388957249596,
          164.53959262084948,
          175.74950144874805,
          144.78893894393227,
          139.50605302423583,
          151.10337570812348,
          139.2739117287806,
          140.75890818197757,
          124.53493010799056,
          126.08614265820157,
          145.68254115674247,
          147.54260975108184,
          162.96234872703113,
          177.92919134823538,
          188.30185328526153,
          163.79616999156815,
          150.28011655905132,
          158.0939532850517,
          154.96363671472187,
          145.70775672332294,
          123.51046195818186,
          146.1148149678347,
          149.3021904048779,
          152.52161140628266,
          186.80549448436514,
          191.0727647471661,
          196.68085612644785,
          172.79945861316088,
          154.00784354366363,
          162.75076817090078,
          162.78313084424704,
          161.58518926764336,
          124.35131566959691,
          143.35248106399658,
          161.2088867287546,
          157.26658267501458,
          184.47024295734138,
          197.03688745748832,
          193.39335085404088,
          171.27246572693053,
          164.53335022077178,
          169.28112210956417,
          163.22607031321883,
          157.4864612339532,
          133.38476975189792,
          138.63290006019434,
          145.21502783755304,
          155.99882653574707,
          171.21437915685016,
          179.8754554673319,
          208.10339444916178,
          168.38104090967192,
          159.23001372676856,
          181.74044444901813,
          151.23315218952965,
          154.01924854403276,
          137.04999365219646,
          137.58584530722632,
          150.14994347204487,
          161.29427186264067,
          168.29411975780314,
          180.90763204557604,
          209.25225651861373,
          166.01277952092434,
          163.09193092050066,
          179.61976616028318,
          159.25713450485904,
          162.57845472008472,
          145.2110002109103,
          145.86816664213887,
          158.83774066918377,
          167.6830506128688,
          175.37405494877356,
          192.3308424548833,
          206.58943963594137,
          173.13820754414374,
          162.91121472707937,
          173.86717355124594,
          163.67471792655755,
          161.28286705561044,
          137.67579548535437,
          138.0982205154028,
          149.4099595910592,
          152.54464769053683,
          174.21216293694098,
          198.99520322368147,
          213.37397846790344,
          174.8816102117318,
          158.3686916823658,
          167.45853039856343,
          158.12430765981668,
          157.72406900431426,
          135.83057940659074,
          143.35941121105157,
          150.04381202221822,
          150.2104248893637,
          173.4230712711355,
          180.1068244565127,
          197.53294351419981,
          173.97695395519685,
          158.14521373093453,
          175.25682507296696,
          158.7815455385296,
          153.9713144215829,
          136.12857951519032,
          153.60934194605946,
          158.17590205614303,
          160.56910494421751,
          169.42494981224027,
          182.58791783870845,
          211.5759510375117,
          194.97216826483915,
          172.40485855372674,
          179.69844001650372,
          153.03305185082155,
          146.1650946513525,
          130.50150067330148,
          152.00791208996702,
          158.4853820306144,
          165.21659059304852,
          171.58927625511404,
          172.85265014929269,
          206.67703090719561,
          168.40205430335308,
          159.1705193870665,
          176.97868526096696,
          151.03223937024362,
          148.1544159638018,
          142.5522309075386,
          149.3951890577208,
          165.17651541012103,
          165.44592050823243,
          159.60562366023228,
          182.94889357645488,
          193.30504494658288,
          146.12305159259833,
          146.8169233977236,
          157.6370031378003,
          134.75657173489978,
          141.7025581529952,
          118.79725364904064,
          134.73744770413714,
          162.22732703852688,
          153.35991952844503,
          165.09308095503582,
          185.44403479133638,
          193.55125144700588,
          156.45160510525935,
          145.34838171751014,
          159.39773683310136,
          148.501921974723,
          143.51526641498924,
          125.27094785758274,
          136.13757101039712,
          147.85345518395533,
          140.80663398362404
         ]
        },
        {
         "marker": {
          "color": "blue"
         },
         "name": "test",
         "type": "scatter",
         "x": [
          "2014-10-01",
          "2014-11-01",
          "2014-12-01",
          "2015-01-01",
          "2015-02-01",
          "2015-03-01",
          "2015-04-01",
          "2015-05-01",
          "2015-06-01",
          "2015-07-01",
          "2015-08-01",
          "2015-09-01",
          "2015-10-01",
          "2015-11-01",
          "2015-12-01",
          "2016-01-01",
          "2016-02-01",
          "2016-03-01",
          "2016-04-01",
          "2016-05-01",
          "2016-06-01",
          "2016-07-01",
          "2016-08-01",
          "2016-09-01",
          "2016-10-01",
          "2016-11-01",
          "2016-12-01",
          "2017-01-01",
          "2017-02-01",
          "2017-03-01",
          "2017-04-01",
          "2017-05-01",
          "2017-06-01",
          "2017-07-01",
          "2017-08-01",
          "2017-09-01",
          "2017-10-01",
          "2017-11-01",
          "2017-12-01",
          "2018-01-01"
         ],
         "y": [
          181.6,
          182,
          190,
          161.2,
          155.5,
          141.9,
          164.6,
          136.2,
          126.8,
          152.5,
          126.6,
          150.1,
          186.3,
          147.5,
          200.4,
          177.2,
          127.4,
          177.1,
          154.4,
          135.2,
          126.4,
          147.3,
          140.6,
          152.3,
          151.2,
          172.2,
          215.3,
          154.1,
          159.3,
          160.4,
          151.9,
          148.4,
          139.6,
          148.2,
          153.5,
          145.1,
          183.7,
          210.5,
          203.3,
          153.3
         ]
        },
        {
         "marker": {
          "color": "green"
         },
         "name": "predict",
         "type": "scatter",
         "x": [
          "2014-10-01",
          "2014-11-01",
          "2014-12-01",
          "2015-01-01",
          "2015-02-01",
          "2015-03-01",
          "2015-04-01",
          "2015-05-01",
          "2015-06-01",
          "2015-07-01",
          "2015-08-01",
          "2015-09-01",
          "2015-10-01",
          "2015-11-01",
          "2015-12-01",
          "2016-01-01",
          "2016-02-01",
          "2016-03-01",
          "2016-04-01",
          "2016-05-01",
          "2016-06-01",
          "2016-07-01",
          "2016-08-01",
          "2016-09-01",
          "2016-10-01",
          "2016-11-01",
          "2016-12-01",
          "2017-01-01",
          "2017-02-01",
          "2017-03-01",
          "2017-04-01",
          "2017-05-01",
          "2017-06-01",
          "2017-07-01",
          "2017-08-01",
          "2017-09-01",
          "2017-10-01",
          "2017-11-01",
          "2017-12-01",
          "2018-01-01"
         ],
         "y": [
          167.22437760620394,
          185.2163960160269,
          204.0657683659473,
          165.91603061091246,
          141.013189782185,
          156.68727756832243,
          150.07322490892892,
          139.51480425094758,
          128.84248016175627,
          142.31265395115747,
          139.59593164471235,
          139.70522978016155,
          166.42249533363434,
          184.20076233743163,
          206.77065268900915,
          166.74423233098068,
          140.72776676458975,
          157.41185694397598,
          151.44817792381724,
          139.98384546872364,
          129.23034307161745,
          143.21274930266537,
          140.448003292313,
          140.24434675913767,
          167.0787144012953,
          185.00888440438254,
          207.4749419679344,
          167.38092623212182,
          141.44477901162506,
          158.14861899688236,
          152.1324572957229,
          140.6689903284925,
          129.94688329729925,
          143.920888925038,
          141.13948761707317,
          140.9449464039621,
          167.7870542349254,
          185.70983515468092,
          208.17309563411777,
          168.08419221972565
         ]
        }
       ],
       "layout": {
        "height": 700,
        "template": {
         "data": {
          "bar": [
           {
            "error_x": {
             "color": "#2a3f5f"
            },
            "error_y": {
             "color": "#2a3f5f"
            },
            "marker": {
             "line": {
              "color": "#E5ECF6",
              "width": 0.5
             }
            },
            "type": "bar"
           }
          ],
          "barpolar": [
           {
            "marker": {
             "line": {
              "color": "#E5ECF6",
              "width": 0.5
             }
            },
            "type": "barpolar"
           }
          ],
          "carpet": [
           {
            "aaxis": {
             "endlinecolor": "#2a3f5f",
             "gridcolor": "white",
             "linecolor": "white",
             "minorgridcolor": "white",
             "startlinecolor": "#2a3f5f"
            },
            "baxis": {
             "endlinecolor": "#2a3f5f",
             "gridcolor": "white",
             "linecolor": "white",
             "minorgridcolor": "white",
             "startlinecolor": "#2a3f5f"
            },
            "type": "carpet"
           }
          ],
          "choropleth": [
           {
            "colorbar": {
             "outlinewidth": 0,
             "ticks": ""
            },
            "type": "choropleth"
           }
          ],
          "contour": [
           {
            "colorbar": {
             "outlinewidth": 0,
             "ticks": ""
            },
            "colorscale": [
             [
              0,
              "#0d0887"
             ],
             [
              0.1111111111111111,
              "#46039f"
             ],
             [
              0.2222222222222222,
              "#7201a8"
             ],
             [
              0.3333333333333333,
              "#9c179e"
             ],
             [
              0.4444444444444444,
              "#bd3786"
             ],
             [
              0.5555555555555556,
              "#d8576b"
             ],
             [
              0.6666666666666666,
              "#ed7953"
             ],
             [
              0.7777777777777778,
              "#fb9f3a"
             ],
             [
              0.8888888888888888,
              "#fdca26"
             ],
             [
              1,
              "#f0f921"
             ]
            ],
            "type": "contour"
           }
          ],
          "contourcarpet": [
           {
            "colorbar": {
             "outlinewidth": 0,
             "ticks": ""
            },
            "type": "contourcarpet"
           }
          ],
          "heatmap": [
           {
            "colorbar": {
             "outlinewidth": 0,
             "ticks": ""
            },
            "colorscale": [
             [
              0,
              "#0d0887"
             ],
             [
              0.1111111111111111,
              "#46039f"
             ],
             [
              0.2222222222222222,
              "#7201a8"
             ],
             [
              0.3333333333333333,
              "#9c179e"
             ],
             [
              0.4444444444444444,
              "#bd3786"
             ],
             [
              0.5555555555555556,
              "#d8576b"
             ],
             [
              0.6666666666666666,
              "#ed7953"
             ],
             [
              0.7777777777777778,
              "#fb9f3a"
             ],
             [
              0.8888888888888888,
              "#fdca26"
             ],
             [
              1,
              "#f0f921"
             ]
            ],
            "type": "heatmap"
           }
          ],
          "heatmapgl": [
           {
            "colorbar": {
             "outlinewidth": 0,
             "ticks": ""
            },
            "colorscale": [
             [
              0,
              "#0d0887"
             ],
             [
              0.1111111111111111,
              "#46039f"
             ],
             [
              0.2222222222222222,
              "#7201a8"
             ],
             [
              0.3333333333333333,
              "#9c179e"
             ],
             [
              0.4444444444444444,
              "#bd3786"
             ],
             [
              0.5555555555555556,
              "#d8576b"
             ],
             [
              0.6666666666666666,
              "#ed7953"
             ],
             [
              0.7777777777777778,
              "#fb9f3a"
             ],
             [
              0.8888888888888888,
              "#fdca26"
             ],
             [
              1,
              "#f0f921"
             ]
            ],
            "type": "heatmapgl"
           }
          ],
          "histogram": [
           {
            "marker": {
             "colorbar": {
              "outlinewidth": 0,
              "ticks": ""
             }
            },
            "type": "histogram"
           }
          ],
          "histogram2d": [
           {
            "colorbar": {
             "outlinewidth": 0,
             "ticks": ""
            },
            "colorscale": [
             [
              0,
              "#0d0887"
             ],
             [
              0.1111111111111111,
              "#46039f"
             ],
             [
              0.2222222222222222,
              "#7201a8"
             ],
             [
              0.3333333333333333,
              "#9c179e"
             ],
             [
              0.4444444444444444,
              "#bd3786"
             ],
             [
              0.5555555555555556,
              "#d8576b"
             ],
             [
              0.6666666666666666,
              "#ed7953"
             ],
             [
              0.7777777777777778,
              "#fb9f3a"
             ],
             [
              0.8888888888888888,
              "#fdca26"
             ],
             [
              1,
              "#f0f921"
             ]
            ],
            "type": "histogram2d"
           }
          ],
          "histogram2dcontour": [
           {
            "colorbar": {
             "outlinewidth": 0,
             "ticks": ""
            },
            "colorscale": [
             [
              0,
              "#0d0887"
             ],
             [
              0.1111111111111111,
              "#46039f"
             ],
             [
              0.2222222222222222,
              "#7201a8"
             ],
             [
              0.3333333333333333,
              "#9c179e"
             ],
             [
              0.4444444444444444,
              "#bd3786"
             ],
             [
              0.5555555555555556,
              "#d8576b"
             ],
             [
              0.6666666666666666,
              "#ed7953"
             ],
             [
              0.7777777777777778,
              "#fb9f3a"
             ],
             [
              0.8888888888888888,
              "#fdca26"
             ],
             [
              1,
              "#f0f921"
             ]
            ],
            "type": "histogram2dcontour"
           }
          ],
          "mesh3d": [
           {
            "colorbar": {
             "outlinewidth": 0,
             "ticks": ""
            },
            "type": "mesh3d"
           }
          ],
          "parcoords": [
           {
            "line": {
             "colorbar": {
              "outlinewidth": 0,
              "ticks": ""
             }
            },
            "type": "parcoords"
           }
          ],
          "pie": [
           {
            "automargin": true,
            "type": "pie"
           }
          ],
          "scatter": [
           {
            "marker": {
             "colorbar": {
              "outlinewidth": 0,
              "ticks": ""
             }
            },
            "type": "scatter"
           }
          ],
          "scatter3d": [
           {
            "line": {
             "colorbar": {
              "outlinewidth": 0,
              "ticks": ""
             }
            },
            "marker": {
             "colorbar": {
              "outlinewidth": 0,
              "ticks": ""
             }
            },
            "type": "scatter3d"
           }
          ],
          "scattercarpet": [
           {
            "marker": {
             "colorbar": {
              "outlinewidth": 0,
              "ticks": ""
             }
            },
            "type": "scattercarpet"
           }
          ],
          "scattergeo": [
           {
            "marker": {
             "colorbar": {
              "outlinewidth": 0,
              "ticks": ""
             }
            },
            "type": "scattergeo"
           }
          ],
          "scattergl": [
           {
            "marker": {
             "colorbar": {
              "outlinewidth": 0,
              "ticks": ""
             }
            },
            "type": "scattergl"
           }
          ],
          "scattermapbox": [
           {
            "marker": {
             "colorbar": {
              "outlinewidth": 0,
              "ticks": ""
             }
            },
            "type": "scattermapbox"
           }
          ],
          "scatterpolar": [
           {
            "marker": {
             "colorbar": {
              "outlinewidth": 0,
              "ticks": ""
             }
            },
            "type": "scatterpolar"
           }
          ],
          "scatterpolargl": [
           {
            "marker": {
             "colorbar": {
              "outlinewidth": 0,
              "ticks": ""
             }
            },
            "type": "scatterpolargl"
           }
          ],
          "scatterternary": [
           {
            "marker": {
             "colorbar": {
              "outlinewidth": 0,
              "ticks": ""
             }
            },
            "type": "scatterternary"
           }
          ],
          "surface": [
           {
            "colorbar": {
             "outlinewidth": 0,
             "ticks": ""
            },
            "colorscale": [
             [
              0,
              "#0d0887"
             ],
             [
              0.1111111111111111,
              "#46039f"
             ],
             [
              0.2222222222222222,
              "#7201a8"
             ],
             [
              0.3333333333333333,
              "#9c179e"
             ],
             [
              0.4444444444444444,
              "#bd3786"
             ],
             [
              0.5555555555555556,
              "#d8576b"
             ],
             [
              0.6666666666666666,
              "#ed7953"
             ],
             [
              0.7777777777777778,
              "#fb9f3a"
             ],
             [
              0.8888888888888888,
              "#fdca26"
             ],
             [
              1,
              "#f0f921"
             ]
            ],
            "type": "surface"
           }
          ],
          "table": [
           {
            "cells": {
             "fill": {
              "color": "#EBF0F8"
             },
             "line": {
              "color": "white"
             }
            },
            "header": {
             "fill": {
              "color": "#C8D4E3"
             },
             "line": {
              "color": "white"
             }
            },
            "type": "table"
           }
          ]
         },
         "layout": {
          "annotationdefaults": {
           "arrowcolor": "#2a3f5f",
           "arrowhead": 0,
           "arrowwidth": 1
          },
          "coloraxis": {
           "colorbar": {
            "outlinewidth": 0,
            "ticks": ""
           }
          },
          "colorscale": {
           "diverging": [
            [
             0,
             "#8e0152"
            ],
            [
             0.1,
             "#c51b7d"
            ],
            [
             0.2,
             "#de77ae"
            ],
            [
             0.3,
             "#f1b6da"
            ],
            [
             0.4,
             "#fde0ef"
            ],
            [
             0.5,
             "#f7f7f7"
            ],
            [
             0.6,
             "#e6f5d0"
            ],
            [
             0.7,
             "#b8e186"
            ],
            [
             0.8,
             "#7fbc41"
            ],
            [
             0.9,
             "#4d9221"
            ],
            [
             1,
             "#276419"
            ]
           ],
           "sequential": [
            [
             0,
             "#0d0887"
            ],
            [
             0.1111111111111111,
             "#46039f"
            ],
            [
             0.2222222222222222,
             "#7201a8"
            ],
            [
             0.3333333333333333,
             "#9c179e"
            ],
            [
             0.4444444444444444,
             "#bd3786"
            ],
            [
             0.5555555555555556,
             "#d8576b"
            ],
            [
             0.6666666666666666,
             "#ed7953"
            ],
            [
             0.7777777777777778,
             "#fb9f3a"
            ],
            [
             0.8888888888888888,
             "#fdca26"
            ],
            [
             1,
             "#f0f921"
            ]
           ],
           "sequentialminus": [
            [
             0,
             "#0d0887"
            ],
            [
             0.1111111111111111,
             "#46039f"
            ],
            [
             0.2222222222222222,
             "#7201a8"
            ],
            [
             0.3333333333333333,
             "#9c179e"
            ],
            [
             0.4444444444444444,
             "#bd3786"
            ],
            [
             0.5555555555555556,
             "#d8576b"
            ],
            [
             0.6666666666666666,
             "#ed7953"
            ],
            [
             0.7777777777777778,
             "#fb9f3a"
            ],
            [
             0.8888888888888888,
             "#fdca26"
            ],
            [
             1,
             "#f0f921"
            ]
           ]
          },
          "colorway": [
           "#636efa",
           "#EF553B",
           "#00cc96",
           "#ab63fa",
           "#FFA15A",
           "#19d3f3",
           "#FF6692",
           "#B6E880",
           "#FF97FF",
           "#FECB52"
          ],
          "font": {
           "color": "#2a3f5f"
          },
          "geo": {
           "bgcolor": "white",
           "lakecolor": "white",
           "landcolor": "#E5ECF6",
           "showlakes": true,
           "showland": true,
           "subunitcolor": "white"
          },
          "hoverlabel": {
           "align": "left"
          },
          "hovermode": "closest",
          "mapbox": {
           "style": "light"
          },
          "paper_bgcolor": "white",
          "plot_bgcolor": "#E5ECF6",
          "polar": {
           "angularaxis": {
            "gridcolor": "white",
            "linecolor": "white",
            "ticks": ""
           },
           "bgcolor": "#E5ECF6",
           "radialaxis": {
            "gridcolor": "white",
            "linecolor": "white",
            "ticks": ""
           }
          },
          "scene": {
           "xaxis": {
            "backgroundcolor": "#E5ECF6",
            "gridcolor": "white",
            "gridwidth": 2,
            "linecolor": "white",
            "showbackground": true,
            "ticks": "",
            "zerolinecolor": "white"
           },
           "yaxis": {
            "backgroundcolor": "#E5ECF6",
            "gridcolor": "white",
            "gridwidth": 2,
            "linecolor": "white",
            "showbackground": true,
            "ticks": "",
            "zerolinecolor": "white"
           },
           "zaxis": {
            "backgroundcolor": "#E5ECF6",
            "gridcolor": "white",
            "gridwidth": 2,
            "linecolor": "white",
            "showbackground": true,
            "ticks": "",
            "zerolinecolor": "white"
           }
          },
          "shapedefaults": {
           "line": {
            "color": "#2a3f5f"
           }
          },
          "ternary": {
           "aaxis": {
            "gridcolor": "white",
            "linecolor": "white",
            "ticks": ""
           },
           "baxis": {
            "gridcolor": "white",
            "linecolor": "white",
            "ticks": ""
           },
           "bgcolor": "#E5ECF6",
           "caxis": {
            "gridcolor": "white",
            "linecolor": "white",
            "ticks": ""
           }
          },
          "title": {
           "x": 0.05
          },
          "xaxis": {
           "automargin": true,
           "gridcolor": "white",
           "linecolor": "white",
           "ticks": "",
           "title": {
            "standoff": 15
           },
           "zerolinecolor": "white",
           "zerolinewidth": 2
          },
          "yaxis": {
           "automargin": true,
           "gridcolor": "white",
           "linecolor": "white",
           "ticks": "",
           "title": {
            "standoff": 15
           },
           "zerolinecolor": "white",
           "zerolinewidth": 2
          }
         }
        },
        "title": {
         "text": "Graph"
        },
        "xaxis": {
         "title": {
          "text": "Time"
         }
        },
        "yaxis": {
         "title": {
          "text": "Value"
         }
        }
       }
      },
      "text/html": [
       "<div>                            <div id=\"7b0a1dd5-f6cb-42cc-b184-fa1ea64f19a4\" class=\"plotly-graph-div\" style=\"height:700px; width:100%;\"></div>            <script type=\"text/javascript\">                require([\"plotly\"], function(Plotly) {                    window.PLOTLYENV=window.PLOTLYENV || {};                                    if (document.getElementById(\"7b0a1dd5-f6cb-42cc-b184-fa1ea64f19a4\")) {                    Plotly.newPlot(                        \"7b0a1dd5-f6cb-42cc-b184-fa1ea64f19a4\",                        [{\"marker\": {\"color\": \"blue\"}, \"name\": \"train part\", \"type\": \"scatter\", \"x\": [\"1985-01-01\", \"1985-02-01\", \"1985-03-01\", \"1985-04-01\", \"1985-05-01\", \"1985-06-01\", \"1985-07-01\", \"1985-08-01\", \"1985-09-01\", \"1985-10-01\", \"1985-11-01\", \"1985-12-01\", \"1986-01-01\", \"1986-02-01\", \"1986-03-01\", \"1986-04-01\", \"1986-05-01\", \"1986-06-01\", \"1986-07-01\", \"1986-08-01\", \"1986-09-01\", \"1986-10-01\", \"1986-11-01\", \"1986-12-01\", \"1987-01-01\", \"1987-02-01\", \"1987-03-01\", \"1987-04-01\", \"1987-05-01\", \"1987-06-01\", \"1987-07-01\", \"1987-08-01\", \"1987-09-01\", \"1987-10-01\", \"1987-11-01\", \"1987-12-01\", \"1988-01-01\", \"1988-02-01\", \"1988-03-01\", \"1988-04-01\", \"1988-05-01\", \"1988-06-01\", \"1988-07-01\", \"1988-08-01\", \"1988-09-01\", \"1988-10-01\", \"1988-11-01\", \"1988-12-01\", \"1989-01-01\", \"1989-02-01\", \"1989-03-01\", \"1989-04-01\", \"1989-05-01\", \"1989-06-01\", \"1989-07-01\", \"1989-08-01\", \"1989-09-01\", \"1989-10-01\", \"1989-11-01\", \"1989-12-01\", \"1990-01-01\", \"1990-02-01\", \"1990-03-01\", \"1990-04-01\", \"1990-05-01\", \"1990-06-01\", \"1990-07-01\", \"1990-08-01\", \"1990-09-01\", \"1990-10-01\", \"1990-11-01\", \"1990-12-01\", \"1991-01-01\", \"1991-02-01\", \"1991-03-01\", \"1991-04-01\", \"1991-05-01\", \"1991-06-01\", \"1991-07-01\", \"1991-08-01\", \"1991-09-01\", \"1991-10-01\", \"1991-11-01\", \"1991-12-01\", \"1992-01-01\", \"1992-02-01\", \"1992-03-01\", \"1992-04-01\", \"1992-05-01\", \"1992-06-01\", \"1992-07-01\", \"1992-08-01\", \"1992-09-01\", \"1992-10-01\", \"1992-11-01\", \"1992-12-01\", \"1993-01-01\", \"1993-02-01\", \"1993-03-01\", \"1993-04-01\", \"1993-05-01\", \"1993-06-01\", \"1993-07-01\", \"1993-08-01\", \"1993-09-01\", \"1993-10-01\", \"1993-11-01\", \"1993-12-01\", \"1994-01-01\", \"1994-02-01\", \"1994-03-01\", \"1994-04-01\", \"1994-05-01\", \"1994-06-01\", \"1994-07-01\", \"1994-08-01\", \"1994-09-01\", \"1994-10-01\", \"1994-11-01\", \"1994-12-01\", \"1995-01-01\", \"1995-02-01\", \"1995-03-01\", \"1995-04-01\", \"1995-05-01\", \"1995-06-01\", \"1995-07-01\", \"1995-08-01\", \"1995-09-01\", \"1995-10-01\", \"1995-11-01\", \"1995-12-01\", \"1996-01-01\", \"1996-02-01\", \"1996-03-01\", \"1996-04-01\", \"1996-05-01\", \"1996-06-01\", \"1996-07-01\", \"1996-08-01\", \"1996-09-01\", \"1996-10-01\", \"1996-11-01\", \"1996-12-01\", \"1997-01-01\", \"1997-02-01\", \"1997-03-01\", \"1997-04-01\", \"1997-05-01\", \"1997-06-01\", \"1997-07-01\", \"1997-08-01\", \"1997-09-01\", \"1997-10-01\", \"1997-11-01\", \"1997-12-01\", \"1998-01-01\", \"1998-02-01\", \"1998-03-01\", \"1998-04-01\", \"1998-05-01\", \"1998-06-01\", \"1998-07-01\", \"1998-08-01\", \"1998-09-01\", \"1998-10-01\", \"1998-11-01\", \"1998-12-01\", \"1999-01-01\", \"1999-02-01\", \"1999-03-01\", \"1999-04-01\", \"1999-05-01\", \"1999-06-01\", \"1999-07-01\", \"1999-08-01\", \"1999-09-01\", \"1999-10-01\", \"1999-11-01\", \"1999-12-01\", \"2000-01-01\", \"2000-02-01\", \"2000-03-01\", \"2000-04-01\", \"2000-05-01\", \"2000-06-01\", \"2000-07-01\", \"2000-08-01\", \"2000-09-01\", \"2000-10-01\", \"2000-11-01\", \"2000-12-01\", \"2001-01-01\", \"2001-02-01\", \"2001-03-01\", \"2001-04-01\", \"2001-05-01\", \"2001-06-01\", \"2001-07-01\", \"2001-08-01\", \"2001-09-01\", \"2001-10-01\", \"2001-11-01\", \"2001-12-01\", \"2002-01-01\", \"2002-02-01\", \"2002-03-01\", \"2002-04-01\", \"2002-05-01\", \"2002-06-01\", \"2002-07-01\", \"2002-08-01\", \"2002-09-01\", \"2002-10-01\", \"2002-11-01\", \"2002-12-01\", \"2003-01-01\", \"2003-02-01\", \"2003-03-01\", \"2003-04-01\", \"2003-05-01\", \"2003-06-01\", \"2003-07-01\", \"2003-08-01\", \"2003-09-01\", \"2003-10-01\", \"2003-11-01\", \"2003-12-01\", \"2004-01-01\", \"2004-02-01\", \"2004-03-01\", \"2004-04-01\", \"2004-05-01\", \"2004-06-01\", \"2004-07-01\", \"2004-08-01\", \"2004-09-01\", \"2004-10-01\", \"2004-11-01\", \"2004-12-01\", \"2005-01-01\", \"2005-02-01\", \"2005-03-01\", \"2005-04-01\", \"2005-05-01\", \"2005-06-01\", \"2005-07-01\", \"2005-08-01\", \"2005-09-01\", \"2005-10-01\", \"2005-11-01\", \"2005-12-01\", \"2006-01-01\", \"2006-02-01\", \"2006-03-01\", \"2006-04-01\", \"2006-05-01\", \"2006-06-01\", \"2006-07-01\", \"2006-08-01\", \"2006-09-01\", \"2006-10-01\", \"2006-11-01\", \"2006-12-01\", \"2007-01-01\", \"2007-02-01\", \"2007-03-01\", \"2007-04-01\", \"2007-05-01\", \"2007-06-01\", \"2007-07-01\", \"2007-08-01\", \"2007-09-01\", \"2007-10-01\", \"2007-11-01\", \"2007-12-01\", \"2008-01-01\", \"2008-02-01\", \"2008-03-01\", \"2008-04-01\", \"2008-05-01\", \"2008-06-01\", \"2008-07-01\", \"2008-08-01\", \"2008-09-01\", \"2008-10-01\", \"2008-11-01\", \"2008-12-01\", \"2009-01-01\", \"2009-02-01\", \"2009-03-01\", \"2009-04-01\", \"2009-05-01\", \"2009-06-01\", \"2009-07-01\", \"2009-08-01\", \"2009-09-01\", \"2009-10-01\", \"2009-11-01\", \"2009-12-01\", \"2010-01-01\", \"2010-02-01\", \"2010-03-01\", \"2010-04-01\", \"2010-05-01\", \"2010-06-01\", \"2010-07-01\", \"2010-08-01\", \"2010-09-01\", \"2010-10-01\", \"2010-11-01\", \"2010-12-01\", \"2011-01-01\", \"2011-02-01\", \"2011-03-01\", \"2011-04-01\", \"2011-05-01\", \"2011-06-01\", \"2011-07-01\", \"2011-08-01\", \"2011-09-01\", \"2011-10-01\", \"2011-11-01\", \"2011-12-01\", \"2012-01-01\", \"2012-02-01\", \"2012-03-01\", \"2012-04-01\", \"2012-05-01\", \"2012-06-01\", \"2012-07-01\", \"2012-08-01\", \"2012-09-01\", \"2012-10-01\", \"2012-11-01\", \"2012-12-01\", \"2013-01-01\", \"2013-02-01\", \"2013-03-01\", \"2013-04-01\", \"2013-05-01\", \"2013-06-01\", \"2013-07-01\", \"2013-08-01\", \"2013-09-01\", \"2013-10-01\", \"2013-11-01\", \"2013-12-01\", \"2014-01-01\", \"2014-02-01\", \"2014-03-01\", \"2014-04-01\", \"2014-05-01\", \"2014-06-01\", \"2014-07-01\", \"2014-08-01\", \"2014-09-01\"], \"y\": [93.2, 96.0, 95.2, 77.1, 70.9, 64.8, 70.1, 77.3, 79.5, 100.6, 100.7, 107.1, 95.9, 82.8, 83.3, 80.0, 80.4, 67.5, 75.7, 71.1, 89.3, 101.1, 105.2, 114.1, 96.3, 84.4, 91.2, 81.9, 80.5, 70.4, 74.8, 75.9, 86.3, 98.7, 100.9, 113.8, 89.8, 84.4, 87.2, 85.6, 72.0, 69.2, 77.5, 78.1, 94.3, 97.7, 100.2, 116.4, 97.1, 93.0, 96.0, 80.5, 76.1, 69.9, 73.6, 92.6, 94.2, 93.5, 108.5, 109.4, 105.1, 92.5, 97.1, 81.4, 79.1, 72.1, 78.7, 87.1, 91.4, 109.9, 116.3, 113.0, 100.0, 84.8, 94.3, 87.1, 90.3, 72.4, 84.9, 92.7, 92.2, 114.9, 112.5, 118.3, 106.0, 91.2, 96.6, 96.3, 88.2, 70.2, 86.5, 88.2, 102.8, 119.1, 119.2, 125.1, 106.1, 102.1, 105.2, 101.0, 84.3, 87.5, 92.7, 94.4, 113.0, 113.9, 122.9, 132.7, 106.9, 96.6, 127.3, 98.2, 100.2, 89.4, 95.3, 104.2, 106.4, 116.2, 135.9, 134.0, 104.6, 107.1, 123.5, 98.8, 98.6, 90.6, 89.1, 105.2, 114.0, 122.1, 138.0, 142.2, 116.4, 112.6, 123.8, 103.6, 113.9, 98.6, 95.0, 116.0, 113.9, 127.5, 131.4, 145.9, 131.5, 131.0, 130.5, 118.9, 114.3, 85.7, 104.6, 105.1, 117.3, 142.5, 140.0, 159.8, 131.2, 125.4, 126.5, 119.4, 113.5, 98.7, 114.5, 113.8, 133.1, 143.4, 137.3, 165.2, 126.9, 124.0, 135.7, 130.0, 109.4, 117.8, 120.3, 121.0, 132.3, 142.9, 147.4, 175.9, 132.6, 123.7, 153.3, 134.0, 119.6, 116.2, 118.6, 130.7, 129.3, 144.4, 163.2, 179.4, 128.1, 138.4, 152.7, 120.0, 140.5, 116.2, 121.4, 127.8, 143.6, 157.6, 166.2, 182.3, 153.1, 147.6, 157.7, 137.2, 151.5, 98.7, 145.8, 151.7, 129.4, 174.1, 197.0, 193.9, 164.1, 142.8, 157.9, 159.2, 162.2, 123.1, 130.0, 150.1, 169.4, 179.7, 182.1, 194.3, 161.4, 169.4, 168.8, 158.1, 158.5, 135.3, 149.3, 143.4, 142.2, 188.4, 166.2, 199.2, 182.7, 145.2, 182.1, 158.7, 141.6, 132.6, 139.6, 147.0, 166.6, 157.0, 180.4, 210.2, 159.8, 157.8, 168.2, 158.4, 152.0, 142.2, 137.2, 152.6, 166.8, 165.6, 198.6, 201.5, 170.7, 164.4, 179.7, 157.0, 168.0, 139.3, 138.6, 153.4, 138.9, 172.1, 198.4, 217.8, 173.7, 153.8, 175.6, 147.1, 160.3, 135.2, 148.8, 151.0, 148.2, 182.2, 189.2, 183.1, 170.0, 158.4, 176.1, 156.2, 153.2, 117.9, 149.8, 156.6, 166.7, 156.8, 158.6, 210.8, 203.6, 175.2, 168.7, 155.9, 147.3, 137.0, 141.1, 167.4, 160.2, 191.9, 174.4, 208.2, 159.4, 161.1, 172.1, 158.4, 114.6, 159.6, 159.7, 159.4, 160.7, 165.5, 205.0, 205.2, 141.6, 148.1, 184.9, 132.5, 137.3, 135.5, 121.7, 166.1, 146.8, 162.8, 186.8, 185.5, 151.5, 158.1, 143.0, 151.2, 147.6, 130.7, 137.5, 146.1, 133.6, 167.9, 181.9, 202.0, 166.5, 151.3, 146.2, 148.3, 144.7, 123.6, 151.6, 133.9, 137.4]}, {\"name\": \"fitted part\", \"type\": \"scatter\", \"x\": [\"1985-01-01\", \"1985-02-01\", \"1985-03-01\", \"1985-04-01\", \"1985-05-01\", \"1985-06-01\", \"1985-07-01\", \"1985-08-01\", \"1985-09-01\", \"1985-10-01\", \"1985-11-01\", \"1985-12-01\", \"1986-01-01\", \"1986-02-01\", \"1986-03-01\", \"1986-04-01\", \"1986-05-01\", \"1986-06-01\", \"1986-07-01\", \"1986-08-01\", \"1986-09-01\", \"1986-10-01\", \"1986-11-01\", \"1986-12-01\", \"1987-01-01\", \"1987-02-01\", \"1987-03-01\", \"1987-04-01\", \"1987-05-01\", \"1987-06-01\", \"1987-07-01\", \"1987-08-01\", \"1987-09-01\", \"1987-10-01\", \"1987-11-01\", \"1987-12-01\", \"1988-01-01\", \"1988-02-01\", \"1988-03-01\", \"1988-04-01\", \"1988-05-01\", \"1988-06-01\", \"1988-07-01\", \"1988-08-01\", \"1988-09-01\", \"1988-10-01\", \"1988-11-01\", \"1988-12-01\", \"1989-01-01\", \"1989-02-01\", \"1989-03-01\", \"1989-04-01\", \"1989-05-01\", \"1989-06-01\", \"1989-07-01\", \"1989-08-01\", \"1989-09-01\", \"1989-10-01\", \"1989-11-01\", \"1989-12-01\", \"1990-01-01\", \"1990-02-01\", \"1990-03-01\", \"1990-04-01\", \"1990-05-01\", \"1990-06-01\", \"1990-07-01\", \"1990-08-01\", \"1990-09-01\", \"1990-10-01\", \"1990-11-01\", \"1990-12-01\", \"1991-01-01\", \"1991-02-01\", \"1991-03-01\", \"1991-04-01\", \"1991-05-01\", \"1991-06-01\", \"1991-07-01\", \"1991-08-01\", \"1991-09-01\", \"1991-10-01\", \"1991-11-01\", \"1991-12-01\", \"1992-01-01\", \"1992-02-01\", \"1992-03-01\", \"1992-04-01\", \"1992-05-01\", \"1992-06-01\", \"1992-07-01\", \"1992-08-01\", \"1992-09-01\", \"1992-10-01\", \"1992-11-01\", \"1992-12-01\", \"1993-01-01\", \"1993-02-01\", \"1993-03-01\", \"1993-04-01\", \"1993-05-01\", \"1993-06-01\", \"1993-07-01\", \"1993-08-01\", \"1993-09-01\", \"1993-10-01\", \"1993-11-01\", \"1993-12-01\", \"1994-01-01\", \"1994-02-01\", \"1994-03-01\", \"1994-04-01\", \"1994-05-01\", \"1994-06-01\", \"1994-07-01\", \"1994-08-01\", \"1994-09-01\", \"1994-10-01\", \"1994-11-01\", \"1994-12-01\", \"1995-01-01\", \"1995-02-01\", \"1995-03-01\", \"1995-04-01\", \"1995-05-01\", \"1995-06-01\", \"1995-07-01\", \"1995-08-01\", \"1995-09-01\", \"1995-10-01\", \"1995-11-01\", \"1995-12-01\", \"1996-01-01\", \"1996-02-01\", \"1996-03-01\", \"1996-04-01\", \"1996-05-01\", \"1996-06-01\", \"1996-07-01\", \"1996-08-01\", \"1996-09-01\", \"1996-10-01\", \"1996-11-01\", \"1996-12-01\", \"1997-01-01\", \"1997-02-01\", \"1997-03-01\", \"1997-04-01\", \"1997-05-01\", \"1997-06-01\", \"1997-07-01\", \"1997-08-01\", \"1997-09-01\", \"1997-10-01\", \"1997-11-01\", \"1997-12-01\", \"1998-01-01\", \"1998-02-01\", \"1998-03-01\", \"1998-04-01\", \"1998-05-01\", \"1998-06-01\", \"1998-07-01\", \"1998-08-01\", \"1998-09-01\", \"1998-10-01\", \"1998-11-01\", \"1998-12-01\", \"1999-01-01\", \"1999-02-01\", \"1999-03-01\", \"1999-04-01\", \"1999-05-01\", \"1999-06-01\", \"1999-07-01\", \"1999-08-01\", \"1999-09-01\", \"1999-10-01\", \"1999-11-01\", \"1999-12-01\", \"2000-01-01\", \"2000-02-01\", \"2000-03-01\", \"2000-04-01\", \"2000-05-01\", \"2000-06-01\", \"2000-07-01\", \"2000-08-01\", \"2000-09-01\", \"2000-10-01\", \"2000-11-01\", \"2000-12-01\", \"2001-01-01\", \"2001-02-01\", \"2001-03-01\", \"2001-04-01\", \"2001-05-01\", \"2001-06-01\", \"2001-07-01\", \"2001-08-01\", \"2001-09-01\", \"2001-10-01\", \"2001-11-01\", \"2001-12-01\", \"2002-01-01\", \"2002-02-01\", \"2002-03-01\", \"2002-04-01\", \"2002-05-01\", \"2002-06-01\", \"2002-07-01\", \"2002-08-01\", \"2002-09-01\", \"2002-10-01\", \"2002-11-01\", \"2002-12-01\", \"2003-01-01\", \"2003-02-01\", \"2003-03-01\", \"2003-04-01\", \"2003-05-01\", \"2003-06-01\", \"2003-07-01\", \"2003-08-01\", \"2003-09-01\", \"2003-10-01\", \"2003-11-01\", \"2003-12-01\", \"2004-01-01\", \"2004-02-01\", \"2004-03-01\", \"2004-04-01\", \"2004-05-01\", \"2004-06-01\", \"2004-07-01\", \"2004-08-01\", \"2004-09-01\", \"2004-10-01\", \"2004-11-01\", \"2004-12-01\", \"2005-01-01\", \"2005-02-01\", \"2005-03-01\", \"2005-04-01\", \"2005-05-01\", \"2005-06-01\", \"2005-07-01\", \"2005-08-01\", \"2005-09-01\", \"2005-10-01\", \"2005-11-01\", \"2005-12-01\", \"2006-01-01\", \"2006-02-01\", \"2006-03-01\", \"2006-04-01\", \"2006-05-01\", \"2006-06-01\", \"2006-07-01\", \"2006-08-01\", \"2006-09-01\", \"2006-10-01\", \"2006-11-01\", \"2006-12-01\", \"2007-01-01\", \"2007-02-01\", \"2007-03-01\", \"2007-04-01\", \"2007-05-01\", \"2007-06-01\", \"2007-07-01\", \"2007-08-01\", \"2007-09-01\", \"2007-10-01\", \"2007-11-01\", \"2007-12-01\", \"2008-01-01\", \"2008-02-01\", \"2008-03-01\", \"2008-04-01\", \"2008-05-01\", \"2008-06-01\", \"2008-07-01\", \"2008-08-01\", \"2008-09-01\", \"2008-10-01\", \"2008-11-01\", \"2008-12-01\", \"2009-01-01\", \"2009-02-01\", \"2009-03-01\", \"2009-04-01\", \"2009-05-01\", \"2009-06-01\", \"2009-07-01\", \"2009-08-01\", \"2009-09-01\", \"2009-10-01\", \"2009-11-01\", \"2009-12-01\", \"2010-01-01\", \"2010-02-01\", \"2010-03-01\", \"2010-04-01\", \"2010-05-01\", \"2010-06-01\", \"2010-07-01\", \"2010-08-01\", \"2010-09-01\", \"2010-10-01\", \"2010-11-01\", \"2010-12-01\", \"2011-01-01\", \"2011-02-01\", \"2011-03-01\", \"2011-04-01\", \"2011-05-01\", \"2011-06-01\", \"2011-07-01\", \"2011-08-01\", \"2011-09-01\", \"2011-10-01\", \"2011-11-01\", \"2011-12-01\", \"2012-01-01\", \"2012-02-01\", \"2012-03-01\", \"2012-04-01\", \"2012-05-01\", \"2012-06-01\", \"2012-07-01\", \"2012-08-01\", \"2012-09-01\", \"2012-10-01\", \"2012-11-01\", \"2012-12-01\", \"2013-01-01\", \"2013-02-01\", \"2013-03-01\", \"2013-04-01\", \"2013-05-01\", \"2013-06-01\", \"2013-07-01\", \"2013-08-01\", \"2013-09-01\", \"2013-10-01\", \"2013-11-01\", \"2013-12-01\", \"2014-01-01\", \"2014-02-01\", \"2014-03-01\", \"2014-04-01\", \"2014-05-01\", \"2014-06-01\", \"2014-07-01\", \"2014-08-01\", \"2014-09-01\"], \"y\": [0.0, 93.19365877806534, 95.99895915555325, 95.20121326846196, 77.10163645023677, 70.90170991798617, 64.80113267470912, 70.09782228054422, 77.29972073056094, 79.49961909212158, 100.59654496459102, 100.70341332391806, 153.70093650650804, 98.71461694926295, 90.06244163659075, 70.88713388919604, 64.90081979815685, 60.84585401701024, 66.76417340028271, 74.89261311946377, 79.61595733883169, 101.4301577087628, 98.9351374219898, 106.56094731104315, 94.67149906082712, 87.94396108785229, 91.95598048440726, 82.72340010711581, 80.6042286816573, 72.35287745817915, 75.9420668326892, 76.13817328818003, 88.4640270238837, 103.92455850869658, 105.19885554538934, 111.87685663116677, 94.46773407192322, 85.19859416396189, 89.44636556438209, 79.16380434361626, 79.27037962193663, 68.81608383685253, 72.56069393245299, 73.26420603091123, 84.82512238328128, 99.4087441832157, 100.68729976988924, 112.84473427026339, 92.89265423583198, 85.84175371988961, 91.7112128690896, 82.30458428534578, 80.11784683792128, 74.95050391265337, 78.39545750972523, 80.86755427219859, 94.64742156727249, 100.60922930060946, 103.65718578391848, 117.16142905501381, 97.70810171441029, 94.52747546351597, 91.3534138439023, 82.08840343557415, 78.4144236561856, 70.35388545805783, 80.24564912783356, 87.19570159200882, 94.6902529947202, 100.59120952958222, 106.45989785746576, 115.22493407638221, 104.01807466908869, 97.9161655720387, 95.0503212707071, 86.05565279865307, 80.20823103327174, 72.23294854956049, 80.41735062367195, 88.832597015541, 97.77708759561526, 108.63151461361379, 112.73041661211616, 114.75477040487878, 103.28665606321947, 91.66232571958777, 96.04951548008691, 94.1769341477057, 88.88747898075734, 78.11647451018986, 87.13423625292222, 91.66190344718301, 98.9477480596857, 115.46548100327345, 113.65008310049733, 119.2888175131013, 108.10175210672361, 92.24552369685524, 100.01851148152976, 97.09053008646595, 90.29955012759487, 77.34158086053, 90.82219479959329, 96.16734792478331, 107.70988604212779, 124.71949113675404, 123.07651910056249, 130.05218475859644, 113.33626871493502, 102.70657567184668, 107.40876034104863, 101.03801189460916, 94.63584790069604, 85.7632545806214, 89.91398409216251, 103.41584102645226, 113.5430847645934, 117.26869150422371, 129.38095782149534, 135.36550638953454, 112.31455981095247, 110.29949730502346, 118.98756151601923, 106.05566047305184, 104.88609998012868, 89.78402336292949, 91.37939139142468, 106.13607316031678, 111.95175297147894, 115.68136925449895, 131.79300396833617, 135.63003257078523, 109.81139292485855, 110.49809074851251, 120.21202234450618, 105.86181843399048, 107.59554679608493, 93.89692850019202, 94.62585708811928, 115.00237941384506, 122.32864673337157, 125.08002203734536, 145.33065110567736, 146.26937628649557, 118.92823895489872, 116.8247913983748, 126.63804086973414, 111.10234342345632, 114.00943905736202, 101.23935549642434, 100.94101984886694, 117.62524068035533, 120.41599948941993, 129.40703988077087, 142.63626097673318, 153.37330482626436, 135.75666895986612, 125.00405030349388, 138.90107813550986, 118.57039660034054, 108.18576303248732, 97.68474434402472, 102.53981570939354, 111.48440552932009, 124.6501561330668, 141.8992202898084, 145.73357100374992, 160.5122920511161, 140.00209167406285, 123.49946165394104, 140.39441055224017, 123.77372671332994, 115.75098845305635, 106.59117244909905, 114.63833480747806, 118.33589656846499, 133.28461001944308, 143.36320882967541, 145.3368768736943, 164.27677563019344, 137.05982315651596, 126.73055812501708, 145.77255005789803, 130.30851244296912, 124.14919413372048, 120.61623048551947, 121.0106525701044, 126.28954915533045, 142.24975135880788, 144.72182735400014, 152.57390767821158, 173.89669344649494, 140.12100209504055, 130.1236957417759, 150.78070855855972, 134.09291284975689, 127.34495915195798, 119.94467535885178, 119.63846836021254, 132.7993502266903, 138.463782012114, 150.9388957249596, 164.53959262084948, 175.74950144874805, 144.78893894393227, 139.50605302423583, 151.10337570812348, 139.2739117287806, 140.75890818197757, 124.53493010799056, 126.08614265820157, 145.68254115674247, 147.54260975108184, 162.96234872703113, 177.92919134823538, 188.30185328526153, 163.79616999156815, 150.28011655905132, 158.0939532850517, 154.96363671472187, 145.70775672332294, 123.51046195818186, 146.1148149678347, 149.3021904048779, 152.52161140628266, 186.80549448436514, 191.0727647471661, 196.68085612644785, 172.79945861316088, 154.00784354366363, 162.75076817090078, 162.78313084424704, 161.58518926764336, 124.35131566959691, 143.35248106399658, 161.2088867287546, 157.26658267501458, 184.47024295734138, 197.03688745748832, 193.39335085404088, 171.27246572693053, 164.53335022077178, 169.28112210956417, 163.22607031321883, 157.4864612339532, 133.38476975189792, 138.63290006019434, 145.21502783755304, 155.99882653574707, 171.21437915685016, 179.8754554673319, 208.10339444916178, 168.38104090967192, 159.23001372676856, 181.74044444901813, 151.23315218952965, 154.01924854403276, 137.04999365219646, 137.58584530722632, 150.14994347204487, 161.29427186264067, 168.29411975780314, 180.90763204557604, 209.25225651861373, 166.01277952092434, 163.09193092050066, 179.61976616028318, 159.25713450485904, 162.57845472008472, 145.2110002109103, 145.86816664213887, 158.83774066918377, 167.6830506128688, 175.37405494877356, 192.3308424548833, 206.58943963594137, 173.13820754414374, 162.91121472707937, 173.86717355124594, 163.67471792655755, 161.28286705561044, 137.67579548535437, 138.0982205154028, 149.4099595910592, 152.54464769053683, 174.21216293694098, 198.99520322368147, 213.37397846790344, 174.8816102117318, 158.3686916823658, 167.45853039856343, 158.12430765981668, 157.72406900431426, 135.83057940659074, 143.35941121105157, 150.04381202221822, 150.2104248893637, 173.4230712711355, 180.1068244565127, 197.53294351419981, 173.97695395519685, 158.14521373093453, 175.25682507296696, 158.7815455385296, 153.9713144215829, 136.12857951519032, 153.60934194605946, 158.17590205614303, 160.56910494421751, 169.42494981224027, 182.58791783870845, 211.5759510375117, 194.97216826483915, 172.40485855372674, 179.69844001650372, 153.03305185082155, 146.1650946513525, 130.50150067330148, 152.00791208996702, 158.4853820306144, 165.21659059304852, 171.58927625511404, 172.85265014929269, 206.67703090719561, 168.40205430335308, 159.1705193870665, 176.97868526096696, 151.03223937024362, 148.1544159638018, 142.5522309075386, 149.3951890577208, 165.17651541012103, 165.44592050823243, 159.60562366023228, 182.94889357645488, 193.30504494658288, 146.12305159259833, 146.8169233977236, 157.6370031378003, 134.75657173489978, 141.7025581529952, 118.79725364904064, 134.73744770413714, 162.22732703852688, 153.35991952844503, 165.09308095503582, 185.44403479133638, 193.55125144700588, 156.45160510525935, 145.34838171751014, 159.39773683310136, 148.501921974723, 143.51526641498924, 125.27094785758274, 136.13757101039712, 147.85345518395533, 140.80663398362404]}, {\"marker\": {\"color\": \"blue\"}, \"name\": \"test\", \"type\": \"scatter\", \"x\": [\"2014-10-01\", \"2014-11-01\", \"2014-12-01\", \"2015-01-01\", \"2015-02-01\", \"2015-03-01\", \"2015-04-01\", \"2015-05-01\", \"2015-06-01\", \"2015-07-01\", \"2015-08-01\", \"2015-09-01\", \"2015-10-01\", \"2015-11-01\", \"2015-12-01\", \"2016-01-01\", \"2016-02-01\", \"2016-03-01\", \"2016-04-01\", \"2016-05-01\", \"2016-06-01\", \"2016-07-01\", \"2016-08-01\", \"2016-09-01\", \"2016-10-01\", \"2016-11-01\", \"2016-12-01\", \"2017-01-01\", \"2017-02-01\", \"2017-03-01\", \"2017-04-01\", \"2017-05-01\", \"2017-06-01\", \"2017-07-01\", \"2017-08-01\", \"2017-09-01\", \"2017-10-01\", \"2017-11-01\", \"2017-12-01\", \"2018-01-01\"], \"y\": [181.6, 182.0, 190.0, 161.2, 155.5, 141.9, 164.6, 136.2, 126.8, 152.5, 126.6, 150.1, 186.3, 147.5, 200.4, 177.2, 127.4, 177.1, 154.4, 135.2, 126.4, 147.3, 140.6, 152.3, 151.2, 172.2, 215.3, 154.1, 159.3, 160.4, 151.9, 148.4, 139.6, 148.2, 153.5, 145.1, 183.7, 210.5, 203.3, 153.3]}, {\"marker\": {\"color\": \"green\"}, \"name\": \"predict\", \"type\": \"scatter\", \"x\": [\"2014-10-01\", \"2014-11-01\", \"2014-12-01\", \"2015-01-01\", \"2015-02-01\", \"2015-03-01\", \"2015-04-01\", \"2015-05-01\", \"2015-06-01\", \"2015-07-01\", \"2015-08-01\", \"2015-09-01\", \"2015-10-01\", \"2015-11-01\", \"2015-12-01\", \"2016-01-01\", \"2016-02-01\", \"2016-03-01\", \"2016-04-01\", \"2016-05-01\", \"2016-06-01\", \"2016-07-01\", \"2016-08-01\", \"2016-09-01\", \"2016-10-01\", \"2016-11-01\", \"2016-12-01\", \"2017-01-01\", \"2017-02-01\", \"2017-03-01\", \"2017-04-01\", \"2017-05-01\", \"2017-06-01\", \"2017-07-01\", \"2017-08-01\", \"2017-09-01\", \"2017-10-01\", \"2017-11-01\", \"2017-12-01\", \"2018-01-01\"], \"y\": [167.22437760620394, 185.2163960160269, 204.0657683659473, 165.91603061091246, 141.013189782185, 156.68727756832243, 150.07322490892892, 139.51480425094758, 128.84248016175627, 142.31265395115747, 139.59593164471235, 139.70522978016155, 166.42249533363434, 184.20076233743163, 206.77065268900915, 166.74423233098068, 140.72776676458975, 157.41185694397598, 151.44817792381724, 139.98384546872364, 129.23034307161745, 143.21274930266537, 140.448003292313, 140.24434675913767, 167.0787144012953, 185.00888440438254, 207.4749419679344, 167.38092623212182, 141.44477901162506, 158.14861899688236, 152.1324572957229, 140.6689903284925, 129.94688329729925, 143.920888925038, 141.13948761707317, 140.9449464039621, 167.7870542349254, 185.70983515468092, 208.17309563411777, 168.08419221972565]}],                        {\"height\": 700, \"template\": {\"data\": {\"bar\": [{\"error_x\": {\"color\": \"#2a3f5f\"}, \"error_y\": {\"color\": \"#2a3f5f\"}, \"marker\": {\"line\": {\"color\": \"#E5ECF6\", \"width\": 0.5}}, \"type\": \"bar\"}], \"barpolar\": [{\"marker\": {\"line\": {\"color\": \"#E5ECF6\", \"width\": 0.5}}, \"type\": \"barpolar\"}], \"carpet\": [{\"aaxis\": {\"endlinecolor\": \"#2a3f5f\", \"gridcolor\": \"white\", \"linecolor\": \"white\", \"minorgridcolor\": \"white\", \"startlinecolor\": \"#2a3f5f\"}, \"baxis\": {\"endlinecolor\": \"#2a3f5f\", \"gridcolor\": \"white\", \"linecolor\": \"white\", \"minorgridcolor\": \"white\", \"startlinecolor\": \"#2a3f5f\"}, \"type\": \"carpet\"}], \"choropleth\": [{\"colorbar\": {\"outlinewidth\": 0, \"ticks\": \"\"}, \"type\": \"choropleth\"}], \"contour\": [{\"colorbar\": {\"outlinewidth\": 0, \"ticks\": \"\"}, \"colorscale\": [[0.0, \"#0d0887\"], [0.1111111111111111, \"#46039f\"], [0.2222222222222222, \"#7201a8\"], [0.3333333333333333, \"#9c179e\"], [0.4444444444444444, \"#bd3786\"], [0.5555555555555556, \"#d8576b\"], [0.6666666666666666, \"#ed7953\"], [0.7777777777777778, \"#fb9f3a\"], [0.8888888888888888, \"#fdca26\"], [1.0, \"#f0f921\"]], \"type\": \"contour\"}], \"contourcarpet\": [{\"colorbar\": {\"outlinewidth\": 0, \"ticks\": \"\"}, \"type\": \"contourcarpet\"}], \"heatmap\": [{\"colorbar\": {\"outlinewidth\": 0, \"ticks\": \"\"}, \"colorscale\": [[0.0, \"#0d0887\"], [0.1111111111111111, \"#46039f\"], [0.2222222222222222, \"#7201a8\"], [0.3333333333333333, \"#9c179e\"], [0.4444444444444444, \"#bd3786\"], [0.5555555555555556, \"#d8576b\"], [0.6666666666666666, \"#ed7953\"], [0.7777777777777778, \"#fb9f3a\"], [0.8888888888888888, \"#fdca26\"], [1.0, \"#f0f921\"]], \"type\": \"heatmap\"}], \"heatmapgl\": [{\"colorbar\": {\"outlinewidth\": 0, \"ticks\": \"\"}, \"colorscale\": [[0.0, \"#0d0887\"], [0.1111111111111111, \"#46039f\"], [0.2222222222222222, \"#7201a8\"], [0.3333333333333333, \"#9c179e\"], [0.4444444444444444, \"#bd3786\"], [0.5555555555555556, \"#d8576b\"], [0.6666666666666666, \"#ed7953\"], [0.7777777777777778, \"#fb9f3a\"], [0.8888888888888888, \"#fdca26\"], [1.0, \"#f0f921\"]], \"type\": \"heatmapgl\"}], \"histogram\": [{\"marker\": {\"colorbar\": {\"outlinewidth\": 0, \"ticks\": \"\"}}, \"type\": \"histogram\"}], \"histogram2d\": [{\"colorbar\": {\"outlinewidth\": 0, \"ticks\": \"\"}, \"colorscale\": [[0.0, \"#0d0887\"], [0.1111111111111111, \"#46039f\"], [0.2222222222222222, \"#7201a8\"], [0.3333333333333333, \"#9c179e\"], [0.4444444444444444, \"#bd3786\"], [0.5555555555555556, \"#d8576b\"], [0.6666666666666666, \"#ed7953\"], [0.7777777777777778, \"#fb9f3a\"], [0.8888888888888888, \"#fdca26\"], [1.0, \"#f0f921\"]], \"type\": \"histogram2d\"}], \"histogram2dcontour\": [{\"colorbar\": {\"outlinewidth\": 0, \"ticks\": \"\"}, \"colorscale\": [[0.0, \"#0d0887\"], [0.1111111111111111, \"#46039f\"], [0.2222222222222222, \"#7201a8\"], [0.3333333333333333, \"#9c179e\"], [0.4444444444444444, \"#bd3786\"], [0.5555555555555556, \"#d8576b\"], [0.6666666666666666, \"#ed7953\"], [0.7777777777777778, \"#fb9f3a\"], [0.8888888888888888, \"#fdca26\"], [1.0, \"#f0f921\"]], \"type\": \"histogram2dcontour\"}], \"mesh3d\": [{\"colorbar\": {\"outlinewidth\": 0, \"ticks\": \"\"}, \"type\": \"mesh3d\"}], \"parcoords\": [{\"line\": {\"colorbar\": {\"outlinewidth\": 0, \"ticks\": \"\"}}, \"type\": \"parcoords\"}], \"pie\": [{\"automargin\": true, \"type\": \"pie\"}], \"scatter\": [{\"marker\": {\"colorbar\": {\"outlinewidth\": 0, \"ticks\": \"\"}}, \"type\": \"scatter\"}], \"scatter3d\": [{\"line\": {\"colorbar\": {\"outlinewidth\": 0, \"ticks\": \"\"}}, \"marker\": {\"colorbar\": {\"outlinewidth\": 0, \"ticks\": \"\"}}, \"type\": \"scatter3d\"}], \"scattercarpet\": [{\"marker\": {\"colorbar\": {\"outlinewidth\": 0, \"ticks\": \"\"}}, \"type\": \"scattercarpet\"}], \"scattergeo\": [{\"marker\": {\"colorbar\": {\"outlinewidth\": 0, \"ticks\": \"\"}}, \"type\": \"scattergeo\"}], \"scattergl\": [{\"marker\": {\"colorbar\": {\"outlinewidth\": 0, \"ticks\": \"\"}}, \"type\": \"scattergl\"}], \"scattermapbox\": [{\"marker\": {\"colorbar\": {\"outlinewidth\": 0, \"ticks\": \"\"}}, \"type\": \"scattermapbox\"}], \"scatterpolar\": [{\"marker\": {\"colorbar\": {\"outlinewidth\": 0, \"ticks\": \"\"}}, \"type\": \"scatterpolar\"}], \"scatterpolargl\": [{\"marker\": {\"colorbar\": {\"outlinewidth\": 0, \"ticks\": \"\"}}, \"type\": \"scatterpolargl\"}], \"scatterternary\": [{\"marker\": {\"colorbar\": {\"outlinewidth\": 0, \"ticks\": \"\"}}, \"type\": \"scatterternary\"}], \"surface\": [{\"colorbar\": {\"outlinewidth\": 0, \"ticks\": \"\"}, \"colorscale\": [[0.0, \"#0d0887\"], [0.1111111111111111, \"#46039f\"], [0.2222222222222222, \"#7201a8\"], [0.3333333333333333, \"#9c179e\"], [0.4444444444444444, \"#bd3786\"], [0.5555555555555556, \"#d8576b\"], [0.6666666666666666, \"#ed7953\"], [0.7777777777777778, \"#fb9f3a\"], [0.8888888888888888, \"#fdca26\"], [1.0, \"#f0f921\"]], \"type\": \"surface\"}], \"table\": [{\"cells\": {\"fill\": {\"color\": \"#EBF0F8\"}, \"line\": {\"color\": \"white\"}}, \"header\": {\"fill\": {\"color\": \"#C8D4E3\"}, \"line\": {\"color\": \"white\"}}, \"type\": \"table\"}]}, \"layout\": {\"annotationdefaults\": {\"arrowcolor\": \"#2a3f5f\", \"arrowhead\": 0, \"arrowwidth\": 1}, \"coloraxis\": {\"colorbar\": {\"outlinewidth\": 0, \"ticks\": \"\"}}, \"colorscale\": {\"diverging\": [[0, \"#8e0152\"], [0.1, \"#c51b7d\"], [0.2, \"#de77ae\"], [0.3, \"#f1b6da\"], [0.4, \"#fde0ef\"], [0.5, \"#f7f7f7\"], [0.6, \"#e6f5d0\"], [0.7, \"#b8e186\"], [0.8, \"#7fbc41\"], [0.9, \"#4d9221\"], [1, \"#276419\"]], \"sequential\": [[0.0, \"#0d0887\"], [0.1111111111111111, \"#46039f\"], [0.2222222222222222, \"#7201a8\"], [0.3333333333333333, \"#9c179e\"], [0.4444444444444444, \"#bd3786\"], [0.5555555555555556, \"#d8576b\"], [0.6666666666666666, \"#ed7953\"], [0.7777777777777778, \"#fb9f3a\"], [0.8888888888888888, \"#fdca26\"], [1.0, \"#f0f921\"]], \"sequentialminus\": [[0.0, \"#0d0887\"], [0.1111111111111111, \"#46039f\"], [0.2222222222222222, \"#7201a8\"], [0.3333333333333333, \"#9c179e\"], [0.4444444444444444, \"#bd3786\"], [0.5555555555555556, \"#d8576b\"], [0.6666666666666666, \"#ed7953\"], [0.7777777777777778, \"#fb9f3a\"], [0.8888888888888888, \"#fdca26\"], [1.0, \"#f0f921\"]]}, \"colorway\": [\"#636efa\", \"#EF553B\", \"#00cc96\", \"#ab63fa\", \"#FFA15A\", \"#19d3f3\", \"#FF6692\", \"#B6E880\", \"#FF97FF\", \"#FECB52\"], \"font\": {\"color\": \"#2a3f5f\"}, \"geo\": {\"bgcolor\": \"white\", \"lakecolor\": \"white\", \"landcolor\": \"#E5ECF6\", \"showlakes\": true, \"showland\": true, \"subunitcolor\": \"white\"}, \"hoverlabel\": {\"align\": \"left\"}, \"hovermode\": \"closest\", \"mapbox\": {\"style\": \"light\"}, \"paper_bgcolor\": \"white\", \"plot_bgcolor\": \"#E5ECF6\", \"polar\": {\"angularaxis\": {\"gridcolor\": \"white\", \"linecolor\": \"white\", \"ticks\": \"\"}, \"bgcolor\": \"#E5ECF6\", \"radialaxis\": {\"gridcolor\": \"white\", \"linecolor\": \"white\", \"ticks\": \"\"}}, \"scene\": {\"xaxis\": {\"backgroundcolor\": \"#E5ECF6\", \"gridcolor\": \"white\", \"gridwidth\": 2, \"linecolor\": \"white\", \"showbackground\": true, \"ticks\": \"\", \"zerolinecolor\": \"white\"}, \"yaxis\": {\"backgroundcolor\": \"#E5ECF6\", \"gridcolor\": \"white\", \"gridwidth\": 2, \"linecolor\": \"white\", \"showbackground\": true, \"ticks\": \"\", \"zerolinecolor\": \"white\"}, \"zaxis\": {\"backgroundcolor\": \"#E5ECF6\", \"gridcolor\": \"white\", \"gridwidth\": 2, \"linecolor\": \"white\", \"showbackground\": true, \"ticks\": \"\", \"zerolinecolor\": \"white\"}}, \"shapedefaults\": {\"line\": {\"color\": \"#2a3f5f\"}}, \"ternary\": {\"aaxis\": {\"gridcolor\": \"white\", \"linecolor\": \"white\", \"ticks\": \"\"}, \"baxis\": {\"gridcolor\": \"white\", \"linecolor\": \"white\", \"ticks\": \"\"}, \"bgcolor\": \"#E5ECF6\", \"caxis\": {\"gridcolor\": \"white\", \"linecolor\": \"white\", \"ticks\": \"\"}}, \"title\": {\"x\": 0.05}, \"xaxis\": {\"automargin\": true, \"gridcolor\": \"white\", \"linecolor\": \"white\", \"ticks\": \"\", \"title\": {\"standoff\": 15}, \"zerolinecolor\": \"white\", \"zerolinewidth\": 2}, \"yaxis\": {\"automargin\": true, \"gridcolor\": \"white\", \"linecolor\": \"white\", \"ticks\": \"\", \"title\": {\"standoff\": 15}, \"zerolinecolor\": \"white\", \"zerolinewidth\": 2}}}, \"title\": {\"text\": \"Graph\"}, \"xaxis\": {\"title\": {\"text\": \"Time\"}}, \"yaxis\": {\"title\": {\"text\": \"Value\"}}},                        {\"responsive\": true}                    ).then(function(){\n",
       "                            \n",
       "var gd = document.getElementById('7b0a1dd5-f6cb-42cc-b184-fa1ea64f19a4');\n",
       "var x = new MutationObserver(function (mutations, observer) {{\n",
       "        var display = window.getComputedStyle(gd).display;\n",
       "        if (!display || display === 'none') {{\n",
       "            console.log([gd, 'removed!']);\n",
       "            Plotly.purge(gd);\n",
       "            observer.disconnect();\n",
       "        }}\n",
       "}});\n",
       "\n",
       "// Listen for the removal of the full notebook cells\n",
       "var notebookContainer = gd.closest('#notebook-container');\n",
       "if (notebookContainer) {{\n",
       "    x.observe(notebookContainer, {childList: true});\n",
       "}}\n",
       "\n",
       "// Listen for the clearing of the current output cell\n",
       "var outputEl = gd.closest('.output');\n",
       "if (outputEl) {{\n",
       "    x.observe(outputEl, {childList: true});\n",
       "}}\n",
       "\n",
       "                        })                };                });            </script>        </div>"
      ]
     },
     "metadata": {},
     "output_type": "display_data"
    }
   ],
   "source": [
    "df2_train_, df2_test_ = df_train['BEER_PROD'].to_frame(), df_test['BEER_PROD'].to_frame()\n",
    "df2_train_['sarima_fitted'] = model.fittedvalues\n",
    "\n",
    "pred = model.predict(start =df2_test_.index[0], end = df2_test_.index[-1])\n",
    "\n",
    "def plt3():\n",
    "    trace0 = go.Scatter(\n",
    "        x=df2_train_.index, y=df2_train_['BEER_PROD'], name= 'train part', marker ={'color': 'blue'}\n",
    "            )\n",
    "\n",
    "    trace1 = go.Scatter(\n",
    "            x=df2_train_.index, y= df2_train_['sarima_fitted'], name='fitted part'\n",
    "        )\n",
    "\n",
    "    trace2 = go.Scatter(\n",
    "            x=df2_test_.index, y=df2_test_['BEER_PROD'], name= 'test', marker ={'color': 'blue'}\n",
    "        )\n",
    "\n",
    "    trace3 = go.Scatter(\n",
    "            x=df2_test_.index, y=pred, name= 'predict', marker ={'color': 'green'}\n",
    "        )\n",
    "\n",
    "    data= [trace0, trace1, trace2, trace3]\n",
    "        # data =[]\n",
    "    layout = go.Layout(\n",
    "            title=\"Graph\",\n",
    "            height=700,\n",
    "        )\n",
    "\n",
    "    fig = go.Figure(data=data, layout=layout)\n",
    "\n",
    "    #fig.update_xaxes(rangeslider_visible=True)\n",
    "\n",
    "    fig.update_layout(\n",
    "            xaxis_title=\"Time\",\n",
    "            yaxis_title=\"Value\",\n",
    "            #template='plotly_dark'\n",
    "    )\n",
    "    return fig\n",
    "\n",
    "    \n",
    "plt3()    "
   ]
  },
  {
   "cell_type": "code",
   "execution_count": null,
   "metadata": {},
   "outputs": [],
   "source": []
  },
  {
   "cell_type": "code",
   "execution_count": null,
   "metadata": {},
   "outputs": [],
   "source": []
  },
  {
   "cell_type": "code",
   "execution_count": null,
   "metadata": {},
   "outputs": [],
   "source": []
  },
  {
   "cell_type": "code",
   "execution_count": null,
   "metadata": {},
   "outputs": [],
   "source": []
  },
  {
   "cell_type": "code",
   "execution_count": null,
   "metadata": {},
   "outputs": [],
   "source": []
  },
  {
   "cell_type": "code",
   "execution_count": null,
   "metadata": {},
   "outputs": [],
   "source": []
  },
  {
   "cell_type": "code",
   "execution_count": null,
   "metadata": {},
   "outputs": [],
   "source": []
  },
  {
   "cell_type": "code",
   "execution_count": null,
   "metadata": {},
   "outputs": [],
   "source": []
  },
  {
   "cell_type": "code",
   "execution_count": null,
   "metadata": {},
   "outputs": [],
   "source": []
  },
  {
   "cell_type": "code",
   "execution_count": null,
   "metadata": {},
   "outputs": [],
   "source": []
  },
  {
   "cell_type": "code",
   "execution_count": null,
   "metadata": {},
   "outputs": [],
   "source": []
  },
  {
   "cell_type": "code",
   "execution_count": null,
   "metadata": {},
   "outputs": [],
   "source": []
  }
 ],
 "metadata": {
  "kernelspec": {
   "display_name": "Python 3",
   "language": "python",
   "name": "python3"
  },
  "language_info": {
   "codemirror_mode": {
    "name": "ipython",
    "version": 3
   },
   "file_extension": ".py",
   "mimetype": "text/x-python",
   "name": "python",
   "nbconvert_exporter": "python",
   "pygments_lexer": "ipython3",
   "version": "3.7.9"
  }
 },
 "nbformat": 4,
 "nbformat_minor": 4
}
